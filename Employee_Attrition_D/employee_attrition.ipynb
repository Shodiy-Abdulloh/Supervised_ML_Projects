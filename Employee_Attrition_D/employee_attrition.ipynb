{
 "cells": [
  {
   "cell_type": "code",
   "execution_count": 1,
   "id": "b1fbfb30",
   "metadata": {},
   "outputs": [],
   "source": [
    "# Kerakli kutubxonlardi tortib olamiz\n",
    "import pandas as pd\n",
    "import numpy as np\n",
    "import seaborn as sns\n",
    "import seaborn as snb\n",
    "import plotly.express as px\n",
    "from sklearn.model_selection import train_test_split, KFold, cross_val_score, StratifiedKFold\n",
    "from sklearn.preprocessing import LabelEncoder, StandardScaler\n",
    "from sklearn.metrics import classification_report, confusion_matrix, accuracy_score, roc_auc_score, roc_curve, f1_score\n",
    "from sklearn.metrics import precision_score, recall_score\n",
    "from sklearn.model_selection import GridSearchCV\n",
    "import matplotlib.pyplot as plt \n",
    "from sklearn.linear_model import LogisticRegression\n",
    "from sklearn.tree import DecisionTreeClassifier\n",
    "from sklearn.ensemble import RandomForestClassifier\n",
    "import xgboost as xgb\n",
    "import pickle"
   ]
  },
  {
   "cell_type": "code",
   "execution_count": 2,
   "metadata": {},
   "outputs": [],
   "source": [
    "# Load data\n",
    "df = pd.read_csv(\"employee_attrition_dataset.csv\")"
   ]
  },
  {
   "cell_type": "markdown",
   "id": "97f16aa0",
   "metadata": {},
   "source": [
    "# Data bilan umumiy tanishuv"
   ]
  },
  {
   "cell_type": "code",
   "execution_count": 3,
   "id": "7ac2bb88",
   "metadata": {},
   "outputs": [
    {
     "name": "stdout",
     "output_type": "stream",
     "text": [
      "<class 'pandas.core.frame.DataFrame'>\n",
      "RangeIndex: 1000 entries, 0 to 999\n",
      "Data columns (total 26 columns):\n",
      " #   Column                         Non-Null Count  Dtype  \n",
      "---  ------                         --------------  -----  \n",
      " 0   Employee_ID                    1000 non-null   int64  \n",
      " 1   Age                            1000 non-null   int64  \n",
      " 2   Gender                         1000 non-null   object \n",
      " 3   Marital_Status                 1000 non-null   object \n",
      " 4   Department                     1000 non-null   object \n",
      " 5   Job_Role                       1000 non-null   object \n",
      " 6   Job_Level                      992 non-null    float64\n",
      " 7   Monthly_Income                 1000 non-null   int64  \n",
      " 8   Hourly_Rate                    991 non-null    float64\n",
      " 9   Years_at_Company               1000 non-null   int64  \n",
      " 10  Years_in_Current_Role          1000 non-null   int64  \n",
      " 11  Years_Since_Last_Promotion     1000 non-null   int64  \n",
      " 12  Work_Life_Balance              1000 non-null   int64  \n",
      " 13  Job_Satisfaction               1000 non-null   int64  \n",
      " 14  Performance_Rating             1000 non-null   int64  \n",
      " 15  Training_Hours_Last_Year       1000 non-null   int64  \n",
      " 16  Overtime                       1000 non-null   object \n",
      " 17  Project_Count                  1000 non-null   int64  \n",
      " 18  Average_Hours_Worked_Per_Week  1000 non-null   int64  \n",
      " 19  Absenteeism                    1000 non-null   int64  \n",
      " 20  Work_Environment_Satisfaction  1000 non-null   int64  \n",
      " 21  Relationship_with_Manager      1000 non-null   int64  \n",
      " 22  Job_Involvement                1000 non-null   int64  \n",
      " 23  Distance_From_Home             1000 non-null   int64  \n",
      " 24  Number_of_Companies_Worked     1000 non-null   int64  \n",
      " 25  Attrition                      1000 non-null   object \n",
      "dtypes: float64(2), int64(18), object(6)\n",
      "memory usage: 203.3+ KB\n"
     ]
    }
   ],
   "source": [
    "# Show summary info about the Data\n",
    "df.info()"
   ]
  },
  {
   "cell_type": "code",
   "execution_count": 4,
   "metadata": {},
   "outputs": [
    {
     "data": {
      "text/html": [
       "<div>\n",
       "<style scoped>\n",
       "    .dataframe tbody tr th:only-of-type {\n",
       "        vertical-align: middle;\n",
       "    }\n",
       "\n",
       "    .dataframe tbody tr th {\n",
       "        vertical-align: top;\n",
       "    }\n",
       "\n",
       "    .dataframe thead th {\n",
       "        text-align: right;\n",
       "    }\n",
       "</style>\n",
       "<table border=\"1\" class=\"dataframe\">\n",
       "  <thead>\n",
       "    <tr style=\"text-align: right;\">\n",
       "      <th></th>\n",
       "      <th>Employee_ID</th>\n",
       "      <th>Age</th>\n",
       "      <th>Gender</th>\n",
       "      <th>Marital_Status</th>\n",
       "      <th>Department</th>\n",
       "      <th>Job_Role</th>\n",
       "      <th>Job_Level</th>\n",
       "      <th>Monthly_Income</th>\n",
       "      <th>Hourly_Rate</th>\n",
       "      <th>Years_at_Company</th>\n",
       "      <th>...</th>\n",
       "      <th>Overtime</th>\n",
       "      <th>Project_Count</th>\n",
       "      <th>Average_Hours_Worked_Per_Week</th>\n",
       "      <th>Absenteeism</th>\n",
       "      <th>Work_Environment_Satisfaction</th>\n",
       "      <th>Relationship_with_Manager</th>\n",
       "      <th>Job_Involvement</th>\n",
       "      <th>Distance_From_Home</th>\n",
       "      <th>Number_of_Companies_Worked</th>\n",
       "      <th>Attrition</th>\n",
       "    </tr>\n",
       "  </thead>\n",
       "  <tbody>\n",
       "    <tr>\n",
       "      <th>0</th>\n",
       "      <td>1</td>\n",
       "      <td>58</td>\n",
       "      <td>Female</td>\n",
       "      <td>Married</td>\n",
       "      <td>IT</td>\n",
       "      <td>Manager</td>\n",
       "      <td>1.0</td>\n",
       "      <td>15488</td>\n",
       "      <td>28.0</td>\n",
       "      <td>15</td>\n",
       "      <td>...</td>\n",
       "      <td>No</td>\n",
       "      <td>6</td>\n",
       "      <td>54</td>\n",
       "      <td>17</td>\n",
       "      <td>4</td>\n",
       "      <td>4</td>\n",
       "      <td>4</td>\n",
       "      <td>20</td>\n",
       "      <td>3</td>\n",
       "      <td>No</td>\n",
       "    </tr>\n",
       "    <tr>\n",
       "      <th>1</th>\n",
       "      <td>2</td>\n",
       "      <td>48</td>\n",
       "      <td>Female</td>\n",
       "      <td>Married</td>\n",
       "      <td>Sales</td>\n",
       "      <td>Assistant</td>\n",
       "      <td>5.0</td>\n",
       "      <td>13079</td>\n",
       "      <td>28.0</td>\n",
       "      <td>6</td>\n",
       "      <td>...</td>\n",
       "      <td>Yes</td>\n",
       "      <td>2</td>\n",
       "      <td>45</td>\n",
       "      <td>1</td>\n",
       "      <td>4</td>\n",
       "      <td>1</td>\n",
       "      <td>2</td>\n",
       "      <td>25</td>\n",
       "      <td>2</td>\n",
       "      <td>No</td>\n",
       "    </tr>\n",
       "    <tr>\n",
       "      <th>2</th>\n",
       "      <td>3</td>\n",
       "      <td>34</td>\n",
       "      <td>Male</td>\n",
       "      <td>Married</td>\n",
       "      <td>Marketing</td>\n",
       "      <td>Assistant</td>\n",
       "      <td>1.0</td>\n",
       "      <td>13744</td>\n",
       "      <td>24.0</td>\n",
       "      <td>24</td>\n",
       "      <td>...</td>\n",
       "      <td>Yes</td>\n",
       "      <td>6</td>\n",
       "      <td>34</td>\n",
       "      <td>2</td>\n",
       "      <td>3</td>\n",
       "      <td>4</td>\n",
       "      <td>4</td>\n",
       "      <td>45</td>\n",
       "      <td>3</td>\n",
       "      <td>No</td>\n",
       "    </tr>\n",
       "    <tr>\n",
       "      <th>3</th>\n",
       "      <td>4</td>\n",
       "      <td>27</td>\n",
       "      <td>Female</td>\n",
       "      <td>Divorced</td>\n",
       "      <td>Marketing</td>\n",
       "      <td>Manager</td>\n",
       "      <td>1.0</td>\n",
       "      <td>6809</td>\n",
       "      <td>26.0</td>\n",
       "      <td>10</td>\n",
       "      <td>...</td>\n",
       "      <td>No</td>\n",
       "      <td>9</td>\n",
       "      <td>48</td>\n",
       "      <td>18</td>\n",
       "      <td>2</td>\n",
       "      <td>3</td>\n",
       "      <td>1</td>\n",
       "      <td>35</td>\n",
       "      <td>3</td>\n",
       "      <td>No</td>\n",
       "    </tr>\n",
       "    <tr>\n",
       "      <th>4</th>\n",
       "      <td>5</td>\n",
       "      <td>40</td>\n",
       "      <td>Male</td>\n",
       "      <td>Divorced</td>\n",
       "      <td>Marketing</td>\n",
       "      <td>Executive</td>\n",
       "      <td>1.0</td>\n",
       "      <td>10206</td>\n",
       "      <td>52.0</td>\n",
       "      <td>29</td>\n",
       "      <td>...</td>\n",
       "      <td>No</td>\n",
       "      <td>3</td>\n",
       "      <td>33</td>\n",
       "      <td>0</td>\n",
       "      <td>4</td>\n",
       "      <td>1</td>\n",
       "      <td>3</td>\n",
       "      <td>44</td>\n",
       "      <td>3</td>\n",
       "      <td>No</td>\n",
       "    </tr>\n",
       "  </tbody>\n",
       "</table>\n",
       "<p>5 rows × 26 columns</p>\n",
       "</div>"
      ],
      "text/plain": [
       "   Employee_ID  Age  Gender Marital_Status Department   Job_Role  Job_Level  \\\n",
       "0            1   58  Female        Married         IT    Manager        1.0   \n",
       "1            2   48  Female        Married      Sales  Assistant        5.0   \n",
       "2            3   34    Male        Married  Marketing  Assistant        1.0   \n",
       "3            4   27  Female       Divorced  Marketing    Manager        1.0   \n",
       "4            5   40    Male       Divorced  Marketing  Executive        1.0   \n",
       "\n",
       "   Monthly_Income  Hourly_Rate  Years_at_Company  ...  Overtime  \\\n",
       "0           15488         28.0                15  ...        No   \n",
       "1           13079         28.0                 6  ...       Yes   \n",
       "2           13744         24.0                24  ...       Yes   \n",
       "3            6809         26.0                10  ...        No   \n",
       "4           10206         52.0                29  ...        No   \n",
       "\n",
       "   Project_Count  Average_Hours_Worked_Per_Week  Absenteeism  \\\n",
       "0              6                             54           17   \n",
       "1              2                             45            1   \n",
       "2              6                             34            2   \n",
       "3              9                             48           18   \n",
       "4              3                             33            0   \n",
       "\n",
       "   Work_Environment_Satisfaction  Relationship_with_Manager Job_Involvement  \\\n",
       "0                              4                          4               4   \n",
       "1                              4                          1               2   \n",
       "2                              3                          4               4   \n",
       "3                              2                          3               1   \n",
       "4                              4                          1               3   \n",
       "\n",
       "   Distance_From_Home  Number_of_Companies_Worked  Attrition  \n",
       "0                  20                           3         No  \n",
       "1                  25                           2         No  \n",
       "2                  45                           3         No  \n",
       "3                  35                           3         No  \n",
       "4                  44                           3         No  \n",
       "\n",
       "[5 rows x 26 columns]"
      ]
     },
     "execution_count": 4,
     "metadata": {},
     "output_type": "execute_result"
    }
   ],
   "source": [
    "# Display the first 5 rows of the DataFrame\n",
    "df.head(5)\n"
   ]
  },
  {
   "cell_type": "code",
   "execution_count": 5,
   "id": "2a763e0e",
   "metadata": {},
   "outputs": [
    {
     "data": {
      "text/html": [
       "<div>\n",
       "<style scoped>\n",
       "    .dataframe tbody tr th:only-of-type {\n",
       "        vertical-align: middle;\n",
       "    }\n",
       "\n",
       "    .dataframe tbody tr th {\n",
       "        vertical-align: top;\n",
       "    }\n",
       "\n",
       "    .dataframe thead th {\n",
       "        text-align: right;\n",
       "    }\n",
       "</style>\n",
       "<table border=\"1\" class=\"dataframe\">\n",
       "  <thead>\n",
       "    <tr style=\"text-align: right;\">\n",
       "      <th></th>\n",
       "      <th>Employee_ID</th>\n",
       "      <th>Age</th>\n",
       "      <th>Job_Level</th>\n",
       "      <th>Monthly_Income</th>\n",
       "      <th>Hourly_Rate</th>\n",
       "      <th>Years_at_Company</th>\n",
       "      <th>Years_in_Current_Role</th>\n",
       "      <th>Years_Since_Last_Promotion</th>\n",
       "      <th>Work_Life_Balance</th>\n",
       "      <th>Job_Satisfaction</th>\n",
       "      <th>Performance_Rating</th>\n",
       "      <th>Training_Hours_Last_Year</th>\n",
       "      <th>Project_Count</th>\n",
       "      <th>Average_Hours_Worked_Per_Week</th>\n",
       "      <th>Absenteeism</th>\n",
       "      <th>Work_Environment_Satisfaction</th>\n",
       "      <th>Relationship_with_Manager</th>\n",
       "      <th>Job_Involvement</th>\n",
       "      <th>Distance_From_Home</th>\n",
       "      <th>Number_of_Companies_Worked</th>\n",
       "    </tr>\n",
       "  </thead>\n",
       "  <tbody>\n",
       "    <tr>\n",
       "      <th>count</th>\n",
       "      <td>1000.000000</td>\n",
       "      <td>1000.000000</td>\n",
       "      <td>992.000000</td>\n",
       "      <td>1000.000000</td>\n",
       "      <td>991.000000</td>\n",
       "      <td>1000.000000</td>\n",
       "      <td>1000.000000</td>\n",
       "      <td>1000.00000</td>\n",
       "      <td>1000.000000</td>\n",
       "      <td>1000.000000</td>\n",
       "      <td>1000.00000</td>\n",
       "      <td>1000.000000</td>\n",
       "      <td>1000.000000</td>\n",
       "      <td>1000.000000</td>\n",
       "      <td>1000.000000</td>\n",
       "      <td>1000.000000</td>\n",
       "      <td>1000.000000</td>\n",
       "      <td>1000.000000</td>\n",
       "      <td>1000.000000</td>\n",
       "      <td>1000.000000</td>\n",
       "    </tr>\n",
       "    <tr>\n",
       "      <th>mean</th>\n",
       "      <td>500.500000</td>\n",
       "      <td>39.991000</td>\n",
       "      <td>3.061492</td>\n",
       "      <td>11499.899000</td>\n",
       "      <td>57.713421</td>\n",
       "      <td>14.922000</td>\n",
       "      <td>7.539000</td>\n",
       "      <td>4.40800</td>\n",
       "      <td>2.495000</td>\n",
       "      <td>3.151000</td>\n",
       "      <td>2.52700</td>\n",
       "      <td>50.043000</td>\n",
       "      <td>4.877000</td>\n",
       "      <td>44.553000</td>\n",
       "      <td>9.524000</td>\n",
       "      <td>2.494000</td>\n",
       "      <td>2.519000</td>\n",
       "      <td>2.503000</td>\n",
       "      <td>24.507000</td>\n",
       "      <td>2.484000</td>\n",
       "    </tr>\n",
       "    <tr>\n",
       "      <th>std</th>\n",
       "      <td>288.819436</td>\n",
       "      <td>11.780055</td>\n",
       "      <td>1.401041</td>\n",
       "      <td>4920.529231</td>\n",
       "      <td>24.706123</td>\n",
       "      <td>8.350548</td>\n",
       "      <td>4.001061</td>\n",
       "      <td>2.99508</td>\n",
       "      <td>1.105077</td>\n",
       "      <td>1.426967</td>\n",
       "      <td>1.13073</td>\n",
       "      <td>28.204657</td>\n",
       "      <td>2.546833</td>\n",
       "      <td>8.704192</td>\n",
       "      <td>5.973534</td>\n",
       "      <td>1.110494</td>\n",
       "      <td>1.106736</td>\n",
       "      <td>1.099636</td>\n",
       "      <td>14.138099</td>\n",
       "      <td>1.111296</td>\n",
       "    </tr>\n",
       "    <tr>\n",
       "      <th>min</th>\n",
       "      <td>1.000000</td>\n",
       "      <td>20.000000</td>\n",
       "      <td>1.000000</td>\n",
       "      <td>3001.000000</td>\n",
       "      <td>15.000000</td>\n",
       "      <td>1.000000</td>\n",
       "      <td>1.000000</td>\n",
       "      <td>0.00000</td>\n",
       "      <td>1.000000</td>\n",
       "      <td>1.000000</td>\n",
       "      <td>1.00000</td>\n",
       "      <td>0.000000</td>\n",
       "      <td>1.000000</td>\n",
       "      <td>30.000000</td>\n",
       "      <td>0.000000</td>\n",
       "      <td>1.000000</td>\n",
       "      <td>1.000000</td>\n",
       "      <td>1.000000</td>\n",
       "      <td>1.000000</td>\n",
       "      <td>1.000000</td>\n",
       "    </tr>\n",
       "    <tr>\n",
       "      <th>25%</th>\n",
       "      <td>250.750000</td>\n",
       "      <td>30.000000</td>\n",
       "      <td>2.000000</td>\n",
       "      <td>7395.750000</td>\n",
       "      <td>36.000000</td>\n",
       "      <td>8.000000</td>\n",
       "      <td>4.000000</td>\n",
       "      <td>2.00000</td>\n",
       "      <td>2.000000</td>\n",
       "      <td>2.000000</td>\n",
       "      <td>2.00000</td>\n",
       "      <td>26.000000</td>\n",
       "      <td>3.000000</td>\n",
       "      <td>37.000000</td>\n",
       "      <td>4.000000</td>\n",
       "      <td>2.000000</td>\n",
       "      <td>2.000000</td>\n",
       "      <td>2.000000</td>\n",
       "      <td>12.000000</td>\n",
       "      <td>1.000000</td>\n",
       "    </tr>\n",
       "    <tr>\n",
       "      <th>50%</th>\n",
       "      <td>500.500000</td>\n",
       "      <td>41.000000</td>\n",
       "      <td>3.000000</td>\n",
       "      <td>11256.000000</td>\n",
       "      <td>58.000000</td>\n",
       "      <td>15.000000</td>\n",
       "      <td>8.000000</td>\n",
       "      <td>4.00000</td>\n",
       "      <td>3.000000</td>\n",
       "      <td>3.000000</td>\n",
       "      <td>3.00000</td>\n",
       "      <td>50.000000</td>\n",
       "      <td>5.000000</td>\n",
       "      <td>45.000000</td>\n",
       "      <td>9.000000</td>\n",
       "      <td>2.000000</td>\n",
       "      <td>3.000000</td>\n",
       "      <td>3.000000</td>\n",
       "      <td>24.000000</td>\n",
       "      <td>2.000000</td>\n",
       "    </tr>\n",
       "    <tr>\n",
       "      <th>75%</th>\n",
       "      <td>750.250000</td>\n",
       "      <td>50.250000</td>\n",
       "      <td>4.000000</td>\n",
       "      <td>15855.000000</td>\n",
       "      <td>80.000000</td>\n",
       "      <td>22.000000</td>\n",
       "      <td>11.000000</td>\n",
       "      <td>7.00000</td>\n",
       "      <td>3.000000</td>\n",
       "      <td>4.000000</td>\n",
       "      <td>4.00000</td>\n",
       "      <td>75.250000</td>\n",
       "      <td>7.000000</td>\n",
       "      <td>52.000000</td>\n",
       "      <td>15.000000</td>\n",
       "      <td>4.000000</td>\n",
       "      <td>4.000000</td>\n",
       "      <td>3.000000</td>\n",
       "      <td>37.000000</td>\n",
       "      <td>3.000000</td>\n",
       "    </tr>\n",
       "    <tr>\n",
       "      <th>max</th>\n",
       "      <td>1000.000000</td>\n",
       "      <td>59.000000</td>\n",
       "      <td>5.000000</td>\n",
       "      <td>19999.000000</td>\n",
       "      <td>99.000000</td>\n",
       "      <td>29.000000</td>\n",
       "      <td>14.000000</td>\n",
       "      <td>9.00000</td>\n",
       "      <td>4.000000</td>\n",
       "      <td>5.000000</td>\n",
       "      <td>4.00000</td>\n",
       "      <td>99.000000</td>\n",
       "      <td>9.000000</td>\n",
       "      <td>59.000000</td>\n",
       "      <td>19.000000</td>\n",
       "      <td>4.000000</td>\n",
       "      <td>4.000000</td>\n",
       "      <td>4.000000</td>\n",
       "      <td>49.000000</td>\n",
       "      <td>4.000000</td>\n",
       "    </tr>\n",
       "  </tbody>\n",
       "</table>\n",
       "</div>"
      ],
      "text/plain": [
       "       Employee_ID          Age   Job_Level  Monthly_Income  Hourly_Rate  \\\n",
       "count  1000.000000  1000.000000  992.000000     1000.000000   991.000000   \n",
       "mean    500.500000    39.991000    3.061492    11499.899000    57.713421   \n",
       "std     288.819436    11.780055    1.401041     4920.529231    24.706123   \n",
       "min       1.000000    20.000000    1.000000     3001.000000    15.000000   \n",
       "25%     250.750000    30.000000    2.000000     7395.750000    36.000000   \n",
       "50%     500.500000    41.000000    3.000000    11256.000000    58.000000   \n",
       "75%     750.250000    50.250000    4.000000    15855.000000    80.000000   \n",
       "max    1000.000000    59.000000    5.000000    19999.000000    99.000000   \n",
       "\n",
       "       Years_at_Company  Years_in_Current_Role  Years_Since_Last_Promotion  \\\n",
       "count       1000.000000            1000.000000                  1000.00000   \n",
       "mean          14.922000               7.539000                     4.40800   \n",
       "std            8.350548               4.001061                     2.99508   \n",
       "min            1.000000               1.000000                     0.00000   \n",
       "25%            8.000000               4.000000                     2.00000   \n",
       "50%           15.000000               8.000000                     4.00000   \n",
       "75%           22.000000              11.000000                     7.00000   \n",
       "max           29.000000              14.000000                     9.00000   \n",
       "\n",
       "       Work_Life_Balance  Job_Satisfaction  Performance_Rating  \\\n",
       "count        1000.000000       1000.000000          1000.00000   \n",
       "mean            2.495000          3.151000             2.52700   \n",
       "std             1.105077          1.426967             1.13073   \n",
       "min             1.000000          1.000000             1.00000   \n",
       "25%             2.000000          2.000000             2.00000   \n",
       "50%             3.000000          3.000000             3.00000   \n",
       "75%             3.000000          4.000000             4.00000   \n",
       "max             4.000000          5.000000             4.00000   \n",
       "\n",
       "       Training_Hours_Last_Year  Project_Count  Average_Hours_Worked_Per_Week  \\\n",
       "count               1000.000000    1000.000000                    1000.000000   \n",
       "mean                  50.043000       4.877000                      44.553000   \n",
       "std                   28.204657       2.546833                       8.704192   \n",
       "min                    0.000000       1.000000                      30.000000   \n",
       "25%                   26.000000       3.000000                      37.000000   \n",
       "50%                   50.000000       5.000000                      45.000000   \n",
       "75%                   75.250000       7.000000                      52.000000   \n",
       "max                   99.000000       9.000000                      59.000000   \n",
       "\n",
       "       Absenteeism  Work_Environment_Satisfaction  Relationship_with_Manager  \\\n",
       "count  1000.000000                    1000.000000                1000.000000   \n",
       "mean      9.524000                       2.494000                   2.519000   \n",
       "std       5.973534                       1.110494                   1.106736   \n",
       "min       0.000000                       1.000000                   1.000000   \n",
       "25%       4.000000                       2.000000                   2.000000   \n",
       "50%       9.000000                       2.000000                   3.000000   \n",
       "75%      15.000000                       4.000000                   4.000000   \n",
       "max      19.000000                       4.000000                   4.000000   \n",
       "\n",
       "       Job_Involvement  Distance_From_Home  Number_of_Companies_Worked  \n",
       "count      1000.000000         1000.000000                 1000.000000  \n",
       "mean          2.503000           24.507000                    2.484000  \n",
       "std           1.099636           14.138099                    1.111296  \n",
       "min           1.000000            1.000000                    1.000000  \n",
       "25%           2.000000           12.000000                    1.000000  \n",
       "50%           3.000000           24.000000                    2.000000  \n",
       "75%           3.000000           37.000000                    3.000000  \n",
       "max           4.000000           49.000000                    4.000000  "
      ]
     },
     "execution_count": 5,
     "metadata": {},
     "output_type": "execute_result"
    }
   ],
   "source": [
    "# Display summary statistics for numerical columns (count, mean, std, min, 25%, 50%, 75%, max)\n",
    "df.describe()"
   ]
  },
  {
   "cell_type": "code",
   "execution_count": 6,
   "id": "10a77c5b",
   "metadata": {},
   "outputs": [
    {
     "data": {
      "text/plain": [
       "(1000, 26)"
      ]
     },
     "execution_count": 6,
     "metadata": {},
     "output_type": "execute_result"
    }
   ],
   "source": [
    "df.shape"
   ]
  },
  {
   "cell_type": "markdown",
   "id": "e38b4969",
   "metadata": {},
   "source": [
    "# Data Preprocessing"
   ]
  },
  {
   "cell_type": "code",
   "execution_count": 7,
   "metadata": {},
   "outputs": [
    {
     "data": {
      "text/plain": [
       "Employee_ID                      0\n",
       "Age                              0\n",
       "Gender                           0\n",
       "Marital_Status                   0\n",
       "Department                       0\n",
       "Job_Role                         0\n",
       "Job_Level                        8\n",
       "Monthly_Income                   0\n",
       "Hourly_Rate                      9\n",
       "Years_at_Company                 0\n",
       "Years_in_Current_Role            0\n",
       "Years_Since_Last_Promotion       0\n",
       "Work_Life_Balance                0\n",
       "Job_Satisfaction                 0\n",
       "Performance_Rating               0\n",
       "Training_Hours_Last_Year         0\n",
       "Overtime                         0\n",
       "Project_Count                    0\n",
       "Average_Hours_Worked_Per_Week    0\n",
       "Absenteeism                      0\n",
       "Work_Environment_Satisfaction    0\n",
       "Relationship_with_Manager        0\n",
       "Job_Involvement                  0\n",
       "Distance_From_Home               0\n",
       "Number_of_Companies_Worked       0\n",
       "Attrition                        0\n",
       "dtype: int64"
      ]
     },
     "execution_count": 7,
     "metadata": {},
     "output_type": "execute_result"
    }
   ],
   "source": [
    "# Count the number of missing (null) values in each column\n",
    "df.isnull().sum()"
   ]
  },
  {
   "cell_type": "code",
   "execution_count": 8,
   "id": "14beadeb",
   "metadata": {},
   "outputs": [
    {
     "name": "stderr",
     "output_type": "stream",
     "text": [
      "C:\\Users\\user\\AppData\\Local\\Temp\\ipykernel_4056\\3808256000.py:2: FutureWarning: A value is trying to be set on a copy of a DataFrame or Series through chained assignment using an inplace method.\n",
      "The behavior will change in pandas 3.0. This inplace method will never work because the intermediate object on which we are setting values always behaves as a copy.\n",
      "\n",
      "For example, when doing 'df[col].method(value, inplace=True)', try using 'df.method({col: value}, inplace=True)' or df[col] = df[col].method(value) instead, to perform the operation inplace on the original object.\n",
      "\n",
      "\n",
      "  df['Job_Level'].fillna(df['Job_Level'].mode()[0], inplace=True)\n"
     ]
    }
   ],
   "source": [
    "# Fill missing values in 'Job_Level' with the most frequent value (mode)\n",
    "df['Job_Level'].fillna(df['Job_Level'].mode()[0], inplace=True)"
   ]
  },
  {
   "cell_type": "code",
   "execution_count": 9,
   "id": "0248cdc6",
   "metadata": {},
   "outputs": [
    {
     "name": "stderr",
     "output_type": "stream",
     "text": [
      "C:\\Users\\user\\AppData\\Local\\Temp\\ipykernel_4056\\2443220402.py:2: FutureWarning: A value is trying to be set on a copy of a DataFrame or Series through chained assignment using an inplace method.\n",
      "The behavior will change in pandas 3.0. This inplace method will never work because the intermediate object on which we are setting values always behaves as a copy.\n",
      "\n",
      "For example, when doing 'df[col].method(value, inplace=True)', try using 'df.method({col: value}, inplace=True)' or df[col] = df[col].method(value) instead, to perform the operation inplace on the original object.\n",
      "\n",
      "\n",
      "  df['Hourly_Rate'].fillna(df['Hourly_Rate'].median(), inplace=True)\n"
     ]
    }
   ],
   "source": [
    "# Fill missing values in 'Hourly_Rate' with the median value\n",
    "df['Hourly_Rate'].fillna(df['Hourly_Rate'].median(), inplace=True)"
   ]
  },
  {
   "cell_type": "code",
   "execution_count": null,
   "id": "70d8a655",
   "metadata": {},
   "outputs": [
    {
     "data": {
      "text/plain": [
       "Employee_ID                      0\n",
       "Age                              0\n",
       "Gender                           0\n",
       "Marital_Status                   0\n",
       "Department                       0\n",
       "Job_Role                         0\n",
       "Job_Level                        0\n",
       "Monthly_Income                   0\n",
       "Hourly_Rate                      0\n",
       "Years_at_Company                 0\n",
       "Years_in_Current_Role            0\n",
       "Years_Since_Last_Promotion       0\n",
       "Work_Life_Balance                0\n",
       "Job_Satisfaction                 0\n",
       "Performance_Rating               0\n",
       "Training_Hours_Last_Year         0\n",
       "Overtime                         0\n",
       "Project_Count                    0\n",
       "Average_Hours_Worked_Per_Week    0\n",
       "Absenteeism                      0\n",
       "Work_Environment_Satisfaction    0\n",
       "Relationship_with_Manager        0\n",
       "Job_Involvement                  0\n",
       "Distance_From_Home               0\n",
       "Number_of_Companies_Worked       0\n",
       "Attrition                        0\n",
       "dtype: int64"
      ]
     },
     "execution_count": 10,
     "metadata": {},
     "output_type": "execute_result"
    }
   ],
   "source": [
    "df.isnull().sum()  # Check for missing values in each column"
   ]
  },
  {
   "cell_type": "code",
   "execution_count": 11,
   "metadata": {},
   "outputs": [
    {
     "data": {
      "text/plain": [
       "np.int64(0)"
      ]
     },
     "execution_count": 11,
     "metadata": {},
     "output_type": "execute_result"
    }
   ],
   "source": [
    "# Count the number of duplicate rows\n",
    "df.duplicated().sum()"
   ]
  },
  {
   "cell_type": "code",
   "execution_count": 12,
   "id": "88e3f40a",
   "metadata": {},
   "outputs": [
    {
     "data": {
      "application/vnd.plotly.v1+json": {
       "config": {
        "plotlyServerURL": "https://plot.ly"
       },
       "data": [
        {
         "alignmentgroup": "True",
         "bingroup": "x",
         "hovertemplate": "Attrition=%{x}<br>count=%{y}<extra></extra>",
         "legendgroup": "",
         "marker": {
          "color": "#636efa",
          "pattern": {
           "shape": ""
          }
         },
         "name": "",
         "offsetgroup": "",
         "orientation": "v",
         "showlegend": false,
         "type": "histogram",
         "x": [
          "No",
          "No",
          "No",
          "No",
          "No",
          "No",
          "No",
          "No",
          "No",
          "No",
          "Yes",
          "No",
          "No",
          "No",
          "No",
          "No",
          "No",
          "No",
          "No",
          "No",
          "No",
          "No",
          "No",
          "Yes",
          "No",
          "No",
          "Yes",
          "Yes",
          "No",
          "No",
          "No",
          "Yes",
          "No",
          "No",
          "No",
          "No",
          "Yes",
          "No",
          "Yes",
          "No",
          "No",
          "No",
          "No",
          "No",
          "No",
          "No",
          "No",
          "No",
          "Yes",
          "Yes",
          "No",
          "Yes",
          "No",
          "Yes",
          "No",
          "No",
          "Yes",
          "No",
          "No",
          "No",
          "No",
          "No",
          "Yes",
          "Yes",
          "Yes",
          "No",
          "No",
          "Yes",
          "No",
          "No",
          "No",
          "No",
          "No",
          "No",
          "No",
          "No",
          "No",
          "No",
          "No",
          "No",
          "No",
          "No",
          "No",
          "No",
          "No",
          "No",
          "No",
          "No",
          "No",
          "No",
          "No",
          "No",
          "Yes",
          "No",
          "Yes",
          "No",
          "No",
          "No",
          "Yes",
          "No",
          "No",
          "Yes",
          "No",
          "No",
          "No",
          "No",
          "No",
          "No",
          "No",
          "No",
          "No",
          "Yes",
          "No",
          "No",
          "Yes",
          "No",
          "Yes",
          "No",
          "No",
          "No",
          "No",
          "No",
          "No",
          "No",
          "No",
          "No",
          "No",
          "Yes",
          "No",
          "No",
          "No",
          "No",
          "No",
          "No",
          "No",
          "No",
          "No",
          "No",
          "No",
          "No",
          "Yes",
          "No",
          "No",
          "Yes",
          "No",
          "No",
          "No",
          "Yes",
          "No",
          "No",
          "No",
          "No",
          "No",
          "No",
          "No",
          "No",
          "No",
          "Yes",
          "No",
          "Yes",
          "No",
          "No",
          "Yes",
          "No",
          "No",
          "No",
          "Yes",
          "No",
          "Yes",
          "No",
          "No",
          "No",
          "Yes",
          "No",
          "No",
          "No",
          "Yes",
          "No",
          "Yes",
          "No",
          "No",
          "No",
          "No",
          "No",
          "No",
          "No",
          "No",
          "No",
          "No",
          "Yes",
          "No",
          "Yes",
          "No",
          "No",
          "No",
          "No",
          "No",
          "Yes",
          "No",
          "No",
          "No",
          "Yes",
          "No",
          "No",
          "No",
          "No",
          "Yes",
          "No",
          "No",
          "No",
          "Yes",
          "No",
          "No",
          "No",
          "No",
          "Yes",
          "No",
          "No",
          "No",
          "No",
          "No",
          "No",
          "No",
          "No",
          "No",
          "No",
          "No",
          "No",
          "No",
          "No",
          "Yes",
          "No",
          "Yes",
          "No",
          "No",
          "No",
          "Yes",
          "No",
          "No",
          "No",
          "No",
          "Yes",
          "No",
          "No",
          "No",
          "No",
          "No",
          "No",
          "No",
          "No",
          "No",
          "No",
          "No",
          "No",
          "No",
          "No",
          "No",
          "No",
          "No",
          "No",
          "No",
          "No",
          "No",
          "Yes",
          "No",
          "Yes",
          "No",
          "No",
          "Yes",
          "No",
          "No",
          "No",
          "No",
          "No",
          "No",
          "No",
          "No",
          "No",
          "No",
          "No",
          "No",
          "No",
          "No",
          "No",
          "Yes",
          "No",
          "No",
          "No",
          "No",
          "Yes",
          "Yes",
          "No",
          "No",
          "No",
          "No",
          "No",
          "No",
          "No",
          "No",
          "No",
          "Yes",
          "No",
          "No",
          "No",
          "No",
          "No",
          "Yes",
          "Yes",
          "No",
          "No",
          "No",
          "No",
          "No",
          "No",
          "No",
          "Yes",
          "Yes",
          "No",
          "No",
          "No",
          "No",
          "No",
          "No",
          "No",
          "Yes",
          "Yes",
          "No",
          "No",
          "Yes",
          "Yes",
          "No",
          "No",
          "No",
          "Yes",
          "No",
          "No",
          "No",
          "No",
          "No",
          "No",
          "No",
          "No",
          "No",
          "No",
          "No",
          "No",
          "No",
          "No",
          "Yes",
          "Yes",
          "No",
          "No",
          "No",
          "No",
          "No",
          "No",
          "No",
          "Yes",
          "No",
          "No",
          "Yes",
          "No",
          "No",
          "No",
          "No",
          "Yes",
          "Yes",
          "No",
          "No",
          "No",
          "No",
          "No",
          "Yes",
          "No",
          "No",
          "No",
          "Yes",
          "No",
          "Yes",
          "No",
          "No",
          "Yes",
          "No",
          "No",
          "No",
          "No",
          "No",
          "No",
          "Yes",
          "No",
          "Yes",
          "No",
          "No",
          "Yes",
          "Yes",
          "No",
          "No",
          "No",
          "No",
          "No",
          "No",
          "No",
          "No",
          "Yes",
          "No",
          "No",
          "Yes",
          "Yes",
          "No",
          "No",
          "Yes",
          "Yes",
          "Yes",
          "No",
          "No",
          "No",
          "Yes",
          "No",
          "Yes",
          "No",
          "No",
          "No",
          "No",
          "Yes",
          "No",
          "No",
          "No",
          "No",
          "No",
          "No",
          "No",
          "No",
          "No",
          "Yes",
          "No",
          "No",
          "No",
          "No",
          "Yes",
          "No",
          "No",
          "No",
          "No",
          "No",
          "No",
          "No",
          "No",
          "No",
          "No",
          "No",
          "No",
          "Yes",
          "No",
          "No",
          "No",
          "Yes",
          "No",
          "No",
          "No",
          "No",
          "No",
          "No",
          "No",
          "No",
          "No",
          "No",
          "Yes",
          "Yes",
          "No",
          "No",
          "No",
          "No",
          "No",
          "No",
          "No",
          "No",
          "No",
          "No",
          "No",
          "Yes",
          "No",
          "Yes",
          "No",
          "No",
          "Yes",
          "No",
          "No",
          "No",
          "Yes",
          "No",
          "No",
          "No",
          "Yes",
          "No",
          "No",
          "No",
          "No",
          "No",
          "No",
          "No",
          "Yes",
          "Yes",
          "No",
          "Yes",
          "No",
          "Yes",
          "No",
          "No",
          "No",
          "No",
          "No",
          "No",
          "No",
          "No",
          "Yes",
          "No",
          "Yes",
          "Yes",
          "No",
          "No",
          "No",
          "No",
          "No",
          "No",
          "No",
          "No",
          "No",
          "No",
          "No",
          "No",
          "No",
          "No",
          "Yes",
          "No",
          "No",
          "No",
          "No",
          "No",
          "No",
          "No",
          "No",
          "Yes",
          "Yes",
          "No",
          "No",
          "No",
          "Yes",
          "No",
          "No",
          "No",
          "No",
          "No",
          "No",
          "No",
          "No",
          "No",
          "No",
          "No",
          "Yes",
          "No",
          "No",
          "No",
          "Yes",
          "No",
          "Yes",
          "No",
          "No",
          "No",
          "No",
          "No",
          "No",
          "No",
          "Yes",
          "No",
          "No",
          "No",
          "No",
          "No",
          "No",
          "No",
          "No",
          "No",
          "Yes",
          "No",
          "No",
          "No",
          "No",
          "No",
          "No",
          "No",
          "Yes",
          "No",
          "No",
          "No",
          "No",
          "Yes",
          "No",
          "No",
          "Yes",
          "No",
          "No",
          "No",
          "No",
          "No",
          "Yes",
          "Yes",
          "No",
          "No",
          "Yes",
          "No",
          "No",
          "Yes",
          "Yes",
          "No",
          "No",
          "Yes",
          "No",
          "Yes",
          "No",
          "No",
          "No",
          "No",
          "No",
          "Yes",
          "Yes",
          "No",
          "No",
          "No",
          "No",
          "No",
          "No",
          "No",
          "No",
          "No",
          "No",
          "No",
          "No",
          "No",
          "No",
          "No",
          "Yes",
          "No",
          "Yes",
          "No",
          "No",
          "No",
          "No",
          "Yes",
          "No",
          "No",
          "No",
          "Yes",
          "No",
          "No",
          "No",
          "No",
          "No",
          "No",
          "Yes",
          "No",
          "No",
          "No",
          "No",
          "Yes",
          "No",
          "Yes",
          "No",
          "No",
          "No",
          "No",
          "No",
          "No",
          "No",
          "No",
          "Yes",
          "Yes",
          "No",
          "Yes",
          "No",
          "No",
          "No",
          "No",
          "No",
          "Yes",
          "No",
          "No",
          "No",
          "No",
          "No",
          "No",
          "No",
          "No",
          "No",
          "No",
          "No",
          "No",
          "Yes",
          "No",
          "No",
          "No",
          "No",
          "No",
          "Yes",
          "No",
          "No",
          "No",
          "No",
          "Yes",
          "No",
          "No",
          "No",
          "No",
          "No",
          "No",
          "No",
          "No",
          "Yes",
          "No",
          "No",
          "No",
          "No",
          "No",
          "No",
          "No",
          "No",
          "No",
          "No",
          "No",
          "Yes",
          "No",
          "No",
          "No",
          "No",
          "No",
          "No",
          "No",
          "Yes",
          "No",
          "No",
          "No",
          "No",
          "No",
          "No",
          "No",
          "No",
          "No",
          "No",
          "No",
          "No",
          "No",
          "Yes",
          "No",
          "No",
          "No",
          "No",
          "No",
          "Yes",
          "No",
          "No",
          "No",
          "No",
          "No",
          "No",
          "Yes",
          "Yes",
          "No",
          "No",
          "Yes",
          "No",
          "No",
          "No",
          "No",
          "No",
          "No",
          "No",
          "No",
          "No",
          "Yes",
          "No",
          "Yes",
          "No",
          "No",
          "Yes",
          "No",
          "No",
          "No",
          "No",
          "No",
          "No",
          "No",
          "Yes",
          "No",
          "No",
          "No",
          "Yes",
          "No",
          "No",
          "No",
          "No",
          "No",
          "Yes",
          "Yes",
          "No",
          "No",
          "No",
          "No",
          "No",
          "No",
          "Yes",
          "Yes",
          "No",
          "No",
          "No",
          "No",
          "No",
          "No",
          "No",
          "No",
          "No",
          "Yes",
          "No",
          "No",
          "Yes",
          "No",
          "No",
          "No",
          "No",
          "No",
          "No",
          "Yes",
          "Yes",
          "No",
          "No",
          "No",
          "No",
          "No",
          "Yes",
          "No",
          "No",
          "No",
          "No",
          "Yes",
          "No",
          "Yes",
          "No",
          "No",
          "No",
          "No",
          "No",
          "No",
          "No",
          "Yes",
          "No",
          "No",
          "Yes",
          "Yes",
          "No",
          "No",
          "No",
          "No",
          "No",
          "No",
          "Yes",
          "No",
          "No",
          "No",
          "No",
          "No",
          "No",
          "No",
          "Yes",
          "No",
          "No",
          "No",
          "No",
          "No",
          "No",
          "No",
          "No",
          "No",
          "No",
          "No",
          "No",
          "No",
          "Yes",
          "No",
          "No",
          "Yes",
          "No",
          "No",
          "No",
          "No",
          "No",
          "No",
          "No",
          "No",
          "No",
          "No",
          "No",
          "No",
          "No",
          "Yes",
          "No",
          "No",
          "No",
          "Yes",
          "Yes",
          "No",
          "Yes",
          "No",
          "No",
          "No",
          "No",
          "No",
          "No",
          "Yes",
          "No",
          "No",
          "No",
          "Yes",
          "Yes",
          "No",
          "No",
          "No",
          "No",
          "No",
          "No",
          "No",
          "No",
          "No",
          "No",
          "No",
          "Yes",
          "No",
          "Yes",
          "Yes",
          "No",
          "No",
          "No",
          "No",
          "No",
          "No",
          "No",
          "No",
          "Yes",
          "No",
          "No",
          "Yes",
          "No",
          "No",
          "Yes",
          "No",
          "No",
          "No",
          "No",
          "No",
          "No",
          "No",
          "Yes",
          "No",
          "No",
          "No",
          "No",
          "No",
          "Yes",
          "No",
          "No",
          "No",
          "No",
          "Yes",
          "No",
          "No",
          "No",
          "No",
          "No",
          "No",
          "No",
          "No",
          "No",
          "No",
          "Yes",
          "Yes",
          "No",
          "No",
          "No",
          "No",
          "No",
          "No",
          "No",
          "No",
          "No",
          "Yes",
          "No",
          "No",
          "No",
          "No",
          "Yes",
          "No",
          "No",
          "No"
         ],
         "xaxis": "x",
         "yaxis": "y"
        }
       ],
       "layout": {
        "barmode": "relative",
        "legend": {
         "tracegroupgap": 0
        },
        "template": {
         "data": {
          "bar": [
           {
            "error_x": {
             "color": "#2a3f5f"
            },
            "error_y": {
             "color": "#2a3f5f"
            },
            "marker": {
             "line": {
              "color": "#E5ECF6",
              "width": 0.5
             },
             "pattern": {
              "fillmode": "overlay",
              "size": 10,
              "solidity": 0.2
             }
            },
            "type": "bar"
           }
          ],
          "barpolar": [
           {
            "marker": {
             "line": {
              "color": "#E5ECF6",
              "width": 0.5
             },
             "pattern": {
              "fillmode": "overlay",
              "size": 10,
              "solidity": 0.2
             }
            },
            "type": "barpolar"
           }
          ],
          "carpet": [
           {
            "aaxis": {
             "endlinecolor": "#2a3f5f",
             "gridcolor": "white",
             "linecolor": "white",
             "minorgridcolor": "white",
             "startlinecolor": "#2a3f5f"
            },
            "baxis": {
             "endlinecolor": "#2a3f5f",
             "gridcolor": "white",
             "linecolor": "white",
             "minorgridcolor": "white",
             "startlinecolor": "#2a3f5f"
            },
            "type": "carpet"
           }
          ],
          "choropleth": [
           {
            "colorbar": {
             "outlinewidth": 0,
             "ticks": ""
            },
            "type": "choropleth"
           }
          ],
          "contour": [
           {
            "colorbar": {
             "outlinewidth": 0,
             "ticks": ""
            },
            "colorscale": [
             [
              0,
              "#0d0887"
             ],
             [
              0.1111111111111111,
              "#46039f"
             ],
             [
              0.2222222222222222,
              "#7201a8"
             ],
             [
              0.3333333333333333,
              "#9c179e"
             ],
             [
              0.4444444444444444,
              "#bd3786"
             ],
             [
              0.5555555555555556,
              "#d8576b"
             ],
             [
              0.6666666666666666,
              "#ed7953"
             ],
             [
              0.7777777777777778,
              "#fb9f3a"
             ],
             [
              0.8888888888888888,
              "#fdca26"
             ],
             [
              1,
              "#f0f921"
             ]
            ],
            "type": "contour"
           }
          ],
          "contourcarpet": [
           {
            "colorbar": {
             "outlinewidth": 0,
             "ticks": ""
            },
            "type": "contourcarpet"
           }
          ],
          "heatmap": [
           {
            "colorbar": {
             "outlinewidth": 0,
             "ticks": ""
            },
            "colorscale": [
             [
              0,
              "#0d0887"
             ],
             [
              0.1111111111111111,
              "#46039f"
             ],
             [
              0.2222222222222222,
              "#7201a8"
             ],
             [
              0.3333333333333333,
              "#9c179e"
             ],
             [
              0.4444444444444444,
              "#bd3786"
             ],
             [
              0.5555555555555556,
              "#d8576b"
             ],
             [
              0.6666666666666666,
              "#ed7953"
             ],
             [
              0.7777777777777778,
              "#fb9f3a"
             ],
             [
              0.8888888888888888,
              "#fdca26"
             ],
             [
              1,
              "#f0f921"
             ]
            ],
            "type": "heatmap"
           }
          ],
          "heatmapgl": [
           {
            "colorbar": {
             "outlinewidth": 0,
             "ticks": ""
            },
            "colorscale": [
             [
              0,
              "#0d0887"
             ],
             [
              0.1111111111111111,
              "#46039f"
             ],
             [
              0.2222222222222222,
              "#7201a8"
             ],
             [
              0.3333333333333333,
              "#9c179e"
             ],
             [
              0.4444444444444444,
              "#bd3786"
             ],
             [
              0.5555555555555556,
              "#d8576b"
             ],
             [
              0.6666666666666666,
              "#ed7953"
             ],
             [
              0.7777777777777778,
              "#fb9f3a"
             ],
             [
              0.8888888888888888,
              "#fdca26"
             ],
             [
              1,
              "#f0f921"
             ]
            ],
            "type": "heatmapgl"
           }
          ],
          "histogram": [
           {
            "marker": {
             "pattern": {
              "fillmode": "overlay",
              "size": 10,
              "solidity": 0.2
             }
            },
            "type": "histogram"
           }
          ],
          "histogram2d": [
           {
            "colorbar": {
             "outlinewidth": 0,
             "ticks": ""
            },
            "colorscale": [
             [
              0,
              "#0d0887"
             ],
             [
              0.1111111111111111,
              "#46039f"
             ],
             [
              0.2222222222222222,
              "#7201a8"
             ],
             [
              0.3333333333333333,
              "#9c179e"
             ],
             [
              0.4444444444444444,
              "#bd3786"
             ],
             [
              0.5555555555555556,
              "#d8576b"
             ],
             [
              0.6666666666666666,
              "#ed7953"
             ],
             [
              0.7777777777777778,
              "#fb9f3a"
             ],
             [
              0.8888888888888888,
              "#fdca26"
             ],
             [
              1,
              "#f0f921"
             ]
            ],
            "type": "histogram2d"
           }
          ],
          "histogram2dcontour": [
           {
            "colorbar": {
             "outlinewidth": 0,
             "ticks": ""
            },
            "colorscale": [
             [
              0,
              "#0d0887"
             ],
             [
              0.1111111111111111,
              "#46039f"
             ],
             [
              0.2222222222222222,
              "#7201a8"
             ],
             [
              0.3333333333333333,
              "#9c179e"
             ],
             [
              0.4444444444444444,
              "#bd3786"
             ],
             [
              0.5555555555555556,
              "#d8576b"
             ],
             [
              0.6666666666666666,
              "#ed7953"
             ],
             [
              0.7777777777777778,
              "#fb9f3a"
             ],
             [
              0.8888888888888888,
              "#fdca26"
             ],
             [
              1,
              "#f0f921"
             ]
            ],
            "type": "histogram2dcontour"
           }
          ],
          "mesh3d": [
           {
            "colorbar": {
             "outlinewidth": 0,
             "ticks": ""
            },
            "type": "mesh3d"
           }
          ],
          "parcoords": [
           {
            "line": {
             "colorbar": {
              "outlinewidth": 0,
              "ticks": ""
             }
            },
            "type": "parcoords"
           }
          ],
          "pie": [
           {
            "automargin": true,
            "type": "pie"
           }
          ],
          "scatter": [
           {
            "fillpattern": {
             "fillmode": "overlay",
             "size": 10,
             "solidity": 0.2
            },
            "type": "scatter"
           }
          ],
          "scatter3d": [
           {
            "line": {
             "colorbar": {
              "outlinewidth": 0,
              "ticks": ""
             }
            },
            "marker": {
             "colorbar": {
              "outlinewidth": 0,
              "ticks": ""
             }
            },
            "type": "scatter3d"
           }
          ],
          "scattercarpet": [
           {
            "marker": {
             "colorbar": {
              "outlinewidth": 0,
              "ticks": ""
             }
            },
            "type": "scattercarpet"
           }
          ],
          "scattergeo": [
           {
            "marker": {
             "colorbar": {
              "outlinewidth": 0,
              "ticks": ""
             }
            },
            "type": "scattergeo"
           }
          ],
          "scattergl": [
           {
            "marker": {
             "colorbar": {
              "outlinewidth": 0,
              "ticks": ""
             }
            },
            "type": "scattergl"
           }
          ],
          "scattermapbox": [
           {
            "marker": {
             "colorbar": {
              "outlinewidth": 0,
              "ticks": ""
             }
            },
            "type": "scattermapbox"
           }
          ],
          "scatterpolar": [
           {
            "marker": {
             "colorbar": {
              "outlinewidth": 0,
              "ticks": ""
             }
            },
            "type": "scatterpolar"
           }
          ],
          "scatterpolargl": [
           {
            "marker": {
             "colorbar": {
              "outlinewidth": 0,
              "ticks": ""
             }
            },
            "type": "scatterpolargl"
           }
          ],
          "scatterternary": [
           {
            "marker": {
             "colorbar": {
              "outlinewidth": 0,
              "ticks": ""
             }
            },
            "type": "scatterternary"
           }
          ],
          "surface": [
           {
            "colorbar": {
             "outlinewidth": 0,
             "ticks": ""
            },
            "colorscale": [
             [
              0,
              "#0d0887"
             ],
             [
              0.1111111111111111,
              "#46039f"
             ],
             [
              0.2222222222222222,
              "#7201a8"
             ],
             [
              0.3333333333333333,
              "#9c179e"
             ],
             [
              0.4444444444444444,
              "#bd3786"
             ],
             [
              0.5555555555555556,
              "#d8576b"
             ],
             [
              0.6666666666666666,
              "#ed7953"
             ],
             [
              0.7777777777777778,
              "#fb9f3a"
             ],
             [
              0.8888888888888888,
              "#fdca26"
             ],
             [
              1,
              "#f0f921"
             ]
            ],
            "type": "surface"
           }
          ],
          "table": [
           {
            "cells": {
             "fill": {
              "color": "#EBF0F8"
             },
             "line": {
              "color": "white"
             }
            },
            "header": {
             "fill": {
              "color": "#C8D4E3"
             },
             "line": {
              "color": "white"
             }
            },
            "type": "table"
           }
          ]
         },
         "layout": {
          "annotationdefaults": {
           "arrowcolor": "#2a3f5f",
           "arrowhead": 0,
           "arrowwidth": 1
          },
          "autotypenumbers": "strict",
          "coloraxis": {
           "colorbar": {
            "outlinewidth": 0,
            "ticks": ""
           }
          },
          "colorscale": {
           "diverging": [
            [
             0,
             "#8e0152"
            ],
            [
             0.1,
             "#c51b7d"
            ],
            [
             0.2,
             "#de77ae"
            ],
            [
             0.3,
             "#f1b6da"
            ],
            [
             0.4,
             "#fde0ef"
            ],
            [
             0.5,
             "#f7f7f7"
            ],
            [
             0.6,
             "#e6f5d0"
            ],
            [
             0.7,
             "#b8e186"
            ],
            [
             0.8,
             "#7fbc41"
            ],
            [
             0.9,
             "#4d9221"
            ],
            [
             1,
             "#276419"
            ]
           ],
           "sequential": [
            [
             0,
             "#0d0887"
            ],
            [
             0.1111111111111111,
             "#46039f"
            ],
            [
             0.2222222222222222,
             "#7201a8"
            ],
            [
             0.3333333333333333,
             "#9c179e"
            ],
            [
             0.4444444444444444,
             "#bd3786"
            ],
            [
             0.5555555555555556,
             "#d8576b"
            ],
            [
             0.6666666666666666,
             "#ed7953"
            ],
            [
             0.7777777777777778,
             "#fb9f3a"
            ],
            [
             0.8888888888888888,
             "#fdca26"
            ],
            [
             1,
             "#f0f921"
            ]
           ],
           "sequentialminus": [
            [
             0,
             "#0d0887"
            ],
            [
             0.1111111111111111,
             "#46039f"
            ],
            [
             0.2222222222222222,
             "#7201a8"
            ],
            [
             0.3333333333333333,
             "#9c179e"
            ],
            [
             0.4444444444444444,
             "#bd3786"
            ],
            [
             0.5555555555555556,
             "#d8576b"
            ],
            [
             0.6666666666666666,
             "#ed7953"
            ],
            [
             0.7777777777777778,
             "#fb9f3a"
            ],
            [
             0.8888888888888888,
             "#fdca26"
            ],
            [
             1,
             "#f0f921"
            ]
           ]
          },
          "colorway": [
           "#636efa",
           "#EF553B",
           "#00cc96",
           "#ab63fa",
           "#FFA15A",
           "#19d3f3",
           "#FF6692",
           "#B6E880",
           "#FF97FF",
           "#FECB52"
          ],
          "font": {
           "color": "#2a3f5f"
          },
          "geo": {
           "bgcolor": "white",
           "lakecolor": "white",
           "landcolor": "#E5ECF6",
           "showlakes": true,
           "showland": true,
           "subunitcolor": "white"
          },
          "hoverlabel": {
           "align": "left"
          },
          "hovermode": "closest",
          "mapbox": {
           "style": "light"
          },
          "paper_bgcolor": "white",
          "plot_bgcolor": "#E5ECF6",
          "polar": {
           "angularaxis": {
            "gridcolor": "white",
            "linecolor": "white",
            "ticks": ""
           },
           "bgcolor": "#E5ECF6",
           "radialaxis": {
            "gridcolor": "white",
            "linecolor": "white",
            "ticks": ""
           }
          },
          "scene": {
           "xaxis": {
            "backgroundcolor": "#E5ECF6",
            "gridcolor": "white",
            "gridwidth": 2,
            "linecolor": "white",
            "showbackground": true,
            "ticks": "",
            "zerolinecolor": "white"
           },
           "yaxis": {
            "backgroundcolor": "#E5ECF6",
            "gridcolor": "white",
            "gridwidth": 2,
            "linecolor": "white",
            "showbackground": true,
            "ticks": "",
            "zerolinecolor": "white"
           },
           "zaxis": {
            "backgroundcolor": "#E5ECF6",
            "gridcolor": "white",
            "gridwidth": 2,
            "linecolor": "white",
            "showbackground": true,
            "ticks": "",
            "zerolinecolor": "white"
           }
          },
          "shapedefaults": {
           "line": {
            "color": "#2a3f5f"
           }
          },
          "ternary": {
           "aaxis": {
            "gridcolor": "white",
            "linecolor": "white",
            "ticks": ""
           },
           "baxis": {
            "gridcolor": "white",
            "linecolor": "white",
            "ticks": ""
           },
           "bgcolor": "#E5ECF6",
           "caxis": {
            "gridcolor": "white",
            "linecolor": "white",
            "ticks": ""
           }
          },
          "title": {
           "x": 0.05
          },
          "xaxis": {
           "automargin": true,
           "gridcolor": "white",
           "linecolor": "white",
           "ticks": "",
           "title": {
            "standoff": 15
           },
           "zerolinecolor": "white",
           "zerolinewidth": 2
          },
          "yaxis": {
           "automargin": true,
           "gridcolor": "white",
           "linecolor": "white",
           "ticks": "",
           "title": {
            "standoff": 15
           },
           "zerolinecolor": "white",
           "zerolinewidth": 2
          }
         }
        },
        "title": {
         "text": "Attrition Count"
        },
        "xaxis": {
         "anchor": "y",
         "domain": [
          0,
          1
         ],
         "title": {
          "text": "Attrition"
         }
        },
        "yaxis": {
         "anchor": "x",
         "domain": [
          0,
          1
         ],
         "title": {
          "text": "count"
         }
        }
       }
      }
     },
     "metadata": {},
     "output_type": "display_data"
    },
    {
     "name": "stdout",
     "output_type": "stream",
     "text": [
      "Attrition\n",
      "No     81.1\n",
      "Yes    18.9\n",
      "Name: proportion, dtype: float64\n"
     ]
    }
   ],
   "source": [
    "# Count of Attrition\n",
    "fig = px.histogram(df, x='Attrition', title='Attrition Count')\n",
    "fig.show()\n",
    "\n",
    "# Percentage\n",
    "print(df['Attrition'].value_counts(normalize=True)*100)"
   ]
  },
  {
   "cell_type": "code",
   "execution_count": 13,
   "id": "d90d88f4",
   "metadata": {},
   "outputs": [
    {
     "data": {
      "application/vnd.plotly.v1+json": {
       "config": {
        "plotlyServerURL": "https://plot.ly"
       },
       "data": [
        {
         "alignmentgroup": "True",
         "bingroup": "x",
         "hovertemplate": "Attrition=No<br>Gender=%{x}<br>count=%{y}<extra></extra>",
         "legendgroup": "No",
         "marker": {
          "color": "#636efa",
          "pattern": {
           "shape": ""
          }
         },
         "name": "No",
         "offsetgroup": "No",
         "orientation": "v",
         "showlegend": true,
         "type": "histogram",
         "x": [
          "Female",
          "Female",
          "Male",
          "Female",
          "Male",
          "Male",
          "Male",
          "Female",
          "Male",
          "Male",
          "Female",
          "Female",
          "Female",
          "Male",
          "Male",
          "Male",
          "Male",
          "Female",
          "Male",
          "Male",
          "Female",
          "Male",
          "Male",
          "Male",
          "Female",
          "Female",
          "Male",
          "Female",
          "Male",
          "Male",
          "Male",
          "Male",
          "Male",
          "Female",
          "Female",
          "Male",
          "Female",
          "Male",
          "Female",
          "Male",
          "Male",
          "Male",
          "Male",
          "Female",
          "Female",
          "Male",
          "Female",
          "Female",
          "Male",
          "Female",
          "Male",
          "Male",
          "Female",
          "Female",
          "Female",
          "Male",
          "Male",
          "Male",
          "Male",
          "Female",
          "Male",
          "Male",
          "Female",
          "Female",
          "Female",
          "Female",
          "Male",
          "Male",
          "Female",
          "Male",
          "Male",
          "Male",
          "Female",
          "Male",
          "Female",
          "Male",
          "Male",
          "Male",
          "Female",
          "Female",
          "Male",
          "Male",
          "Male",
          "Female",
          "Female",
          "Female",
          "Male",
          "Female",
          "Male",
          "Female",
          "Male",
          "Female",
          "Female",
          "Female",
          "Female",
          "Female",
          "Female",
          "Male",
          "Male",
          "Female",
          "Male",
          "Female",
          "Male",
          "Male",
          "Male",
          "Female",
          "Female",
          "Female",
          "Male",
          "Female",
          "Female",
          "Female",
          "Male",
          "Male",
          "Male",
          "Female",
          "Female",
          "Male",
          "Female",
          "Male",
          "Male",
          "Male",
          "Female",
          "Male",
          "Male",
          "Male",
          "Male",
          "Female",
          "Female",
          "Male",
          "Male",
          "Male",
          "Male",
          "Male",
          "Female",
          "Female",
          "Female",
          "Female",
          "Female",
          "Female",
          "Male",
          "Female",
          "Female",
          "Male",
          "Male",
          "Female",
          "Male",
          "Male",
          "Female",
          "Female",
          "Male",
          "Female",
          "Male",
          "Male",
          "Male",
          "Female",
          "Male",
          "Male",
          "Female",
          "Male",
          "Female",
          "Female",
          "Male",
          "Male",
          "Female",
          "Male",
          "Female",
          "Female",
          "Male",
          "Male",
          "Female",
          "Female",
          "Male",
          "Male",
          "Female",
          "Female",
          "Male",
          "Female",
          "Male",
          "Female",
          "Male",
          "Female",
          "Female",
          "Female",
          "Female",
          "Female",
          "Male",
          "Female",
          "Female",
          "Female",
          "Male",
          "Female",
          "Male",
          "Female",
          "Male",
          "Male",
          "Male",
          "Female",
          "Female",
          "Male",
          "Male",
          "Male",
          "Male",
          "Female",
          "Female",
          "Male",
          "Female",
          "Female",
          "Female",
          "Female",
          "Male",
          "Male",
          "Female",
          "Male",
          "Male",
          "Male",
          "Female",
          "Female",
          "Female",
          "Female",
          "Female",
          "Female",
          "Male",
          "Male",
          "Male",
          "Female",
          "Female",
          "Female",
          "Male",
          "Male",
          "Female",
          "Female",
          "Male",
          "Male",
          "Male",
          "Female",
          "Male",
          "Female",
          "Female",
          "Male",
          "Male",
          "Male",
          "Female",
          "Male",
          "Male",
          "Female",
          "Male",
          "Female",
          "Female",
          "Female",
          "Female",
          "Female",
          "Female",
          "Male",
          "Male",
          "Male",
          "Female",
          "Male",
          "Female",
          "Male",
          "Female",
          "Male",
          "Female",
          "Female",
          "Male",
          "Male",
          "Male",
          "Female",
          "Female",
          "Female",
          "Female",
          "Female",
          "Female",
          "Male",
          "Female",
          "Female",
          "Male",
          "Female",
          "Male",
          "Male",
          "Female",
          "Male",
          "Male",
          "Female",
          "Male",
          "Male",
          "Male",
          "Female",
          "Female",
          "Male",
          "Male",
          "Male",
          "Female",
          "Male",
          "Male",
          "Male",
          "Female",
          "Female",
          "Male",
          "Male",
          "Female",
          "Male",
          "Female",
          "Female",
          "Female",
          "Female",
          "Female",
          "Male",
          "Female",
          "Male",
          "Male",
          "Male",
          "Male",
          "Female",
          "Male",
          "Male",
          "Male",
          "Female",
          "Female",
          "Female",
          "Male",
          "Male",
          "Male",
          "Male",
          "Male",
          "Female",
          "Female",
          "Female",
          "Male",
          "Female",
          "Male",
          "Male",
          "Female",
          "Male",
          "Female",
          "Male",
          "Male",
          "Male",
          "Female",
          "Female",
          "Female",
          "Male",
          "Female",
          "Male",
          "Male",
          "Male",
          "Male",
          "Male",
          "Female",
          "Female",
          "Male",
          "Male",
          "Female",
          "Male",
          "Female",
          "Female",
          "Male",
          "Male",
          "Female",
          "Male",
          "Female",
          "Male",
          "Male",
          "Female",
          "Female",
          "Male",
          "Female",
          "Male",
          "Female",
          "Male",
          "Male",
          "Male",
          "Female",
          "Female",
          "Male",
          "Male",
          "Female",
          "Female",
          "Male",
          "Female",
          "Male",
          "Female",
          "Male",
          "Male",
          "Female",
          "Male",
          "Female",
          "Male",
          "Female",
          "Female",
          "Male",
          "Female",
          "Female",
          "Female",
          "Male",
          "Male",
          "Male",
          "Female",
          "Female",
          "Male",
          "Male",
          "Male",
          "Female",
          "Female",
          "Male",
          "Female",
          "Female",
          "Male",
          "Female",
          "Female",
          "Female",
          "Male",
          "Male",
          "Female",
          "Male",
          "Female",
          "Male",
          "Male",
          "Female",
          "Male",
          "Male",
          "Male",
          "Female",
          "Female",
          "Female",
          "Female",
          "Female",
          "Female",
          "Female",
          "Male",
          "Female",
          "Male",
          "Male",
          "Female",
          "Male",
          "Male",
          "Male",
          "Female",
          "Female",
          "Female",
          "Female",
          "Male",
          "Male",
          "Male",
          "Male",
          "Female",
          "Female",
          "Male",
          "Female",
          "Male",
          "Female",
          "Male",
          "Female",
          "Male",
          "Male",
          "Female",
          "Female",
          "Male",
          "Female",
          "Female",
          "Male",
          "Male",
          "Male",
          "Male",
          "Male",
          "Female",
          "Female",
          "Male",
          "Female",
          "Male",
          "Female",
          "Male",
          "Female",
          "Male",
          "Female",
          "Female",
          "Male",
          "Male",
          "Male",
          "Male",
          "Male",
          "Male",
          "Female",
          "Female",
          "Male",
          "Male",
          "Female",
          "Male",
          "Female",
          "Male",
          "Female",
          "Female",
          "Male",
          "Female",
          "Male",
          "Male",
          "Female",
          "Female",
          "Male",
          "Female",
          "Male",
          "Male",
          "Male",
          "Female",
          "Male",
          "Male",
          "Male",
          "Male",
          "Female",
          "Female",
          "Female",
          "Male",
          "Male",
          "Female",
          "Male",
          "Male",
          "Male",
          "Female",
          "Female",
          "Male",
          "Female",
          "Male",
          "Male",
          "Female",
          "Female",
          "Female",
          "Male",
          "Female",
          "Female",
          "Male",
          "Male",
          "Male",
          "Male",
          "Female",
          "Male",
          "Female",
          "Male",
          "Male",
          "Female",
          "Male",
          "Female",
          "Female",
          "Female",
          "Male",
          "Male",
          "Female",
          "Female",
          "Male",
          "Female",
          "Female",
          "Male",
          "Male",
          "Male",
          "Female",
          "Male",
          "Male",
          "Male",
          "Male",
          "Male",
          "Male",
          "Female",
          "Male",
          "Male",
          "Female",
          "Female",
          "Male",
          "Male",
          "Male",
          "Female",
          "Male",
          "Male",
          "Male",
          "Female",
          "Female",
          "Female",
          "Male",
          "Male",
          "Female",
          "Male",
          "Female",
          "Female",
          "Female",
          "Female",
          "Male",
          "Male",
          "Female",
          "Male",
          "Female",
          "Female",
          "Female",
          "Male",
          "Male",
          "Male",
          "Male",
          "Female",
          "Male",
          "Female",
          "Female",
          "Female",
          "Male",
          "Male",
          "Female",
          "Female",
          "Male",
          "Female",
          "Male",
          "Female",
          "Male",
          "Female",
          "Male",
          "Female",
          "Female",
          "Male",
          "Female",
          "Male",
          "Female",
          "Female",
          "Female",
          "Female",
          "Female",
          "Male",
          "Female",
          "Female",
          "Female",
          "Male",
          "Female",
          "Female",
          "Male",
          "Female",
          "Female",
          "Female",
          "Female",
          "Female",
          "Female",
          "Male",
          "Female",
          "Female",
          "Male",
          "Male",
          "Female",
          "Male",
          "Male",
          "Male",
          "Male",
          "Female",
          "Male",
          "Male",
          "Female",
          "Male",
          "Male",
          "Female",
          "Female",
          "Female",
          "Female",
          "Male",
          "Male",
          "Male",
          "Male",
          "Male",
          "Male",
          "Male",
          "Male",
          "Male",
          "Male",
          "Female",
          "Female",
          "Female",
          "Female",
          "Female",
          "Male",
          "Male",
          "Male",
          "Female",
          "Female",
          "Female",
          "Male",
          "Male",
          "Female",
          "Male",
          "Male",
          "Female",
          "Male",
          "Male",
          "Male",
          "Male",
          "Male",
          "Female",
          "Female",
          "Female",
          "Female",
          "Male",
          "Male",
          "Male",
          "Female",
          "Female",
          "Female",
          "Male",
          "Female",
          "Male",
          "Female",
          "Female",
          "Female",
          "Male",
          "Male",
          "Male",
          "Female",
          "Male",
          "Male",
          "Female",
          "Female",
          "Female",
          "Male",
          "Male",
          "Male",
          "Female",
          "Female",
          "Male",
          "Female",
          "Female",
          "Female",
          "Female",
          "Male",
          "Male",
          "Female",
          "Female",
          "Male",
          "Male",
          "Female",
          "Female",
          "Female",
          "Female",
          "Male",
          "Female",
          "Male",
          "Female",
          "Female",
          "Male",
          "Female",
          "Female",
          "Female",
          "Male",
          "Female",
          "Male",
          "Female",
          "Male",
          "Female",
          "Female",
          "Female",
          "Male",
          "Male",
          "Female",
          "Female",
          "Male",
          "Male",
          "Male",
          "Male",
          "Female",
          "Male",
          "Female",
          "Male",
          "Female",
          "Male",
          "Male",
          "Female",
          "Male",
          "Female",
          "Male",
          "Female",
          "Female",
          "Female",
          "Male",
          "Female",
          "Female",
          "Female",
          "Female",
          "Female",
          "Female",
          "Male",
          "Male",
          "Male",
          "Male",
          "Male",
          "Male",
          "Female",
          "Female",
          "Male",
          "Female",
          "Female",
          "Male",
          "Female",
          "Female",
          "Female",
          "Female",
          "Male",
          "Female",
          "Female",
          "Male",
          "Female",
          "Male",
          "Male",
          "Male",
          "Male",
          "Female",
          "Male",
          "Male",
          "Male",
          "Male",
          "Female",
          "Female",
          "Female",
          "Female"
         ],
         "xaxis": "x",
         "yaxis": "y"
        },
        {
         "alignmentgroup": "True",
         "bingroup": "x",
         "hovertemplate": "Attrition=Yes<br>Gender=%{x}<br>count=%{y}<extra></extra>",
         "legendgroup": "Yes",
         "marker": {
          "color": "#EF553B",
          "pattern": {
           "shape": ""
          }
         },
         "name": "Yes",
         "offsetgroup": "Yes",
         "orientation": "v",
         "showlegend": true,
         "type": "histogram",
         "x": [
          "Female",
          "Male",
          "Male",
          "Male",
          "Male",
          "Female",
          "Female",
          "Female",
          "Male",
          "Female",
          "Male",
          "Male",
          "Male",
          "Male",
          "Male",
          "Female",
          "Male",
          "Female",
          "Female",
          "Male",
          "Male",
          "Female",
          "Male",
          "Male",
          "Female",
          "Male",
          "Male",
          "Male",
          "Male",
          "Female",
          "Male",
          "Female",
          "Female",
          "Female",
          "Female",
          "Male",
          "Male",
          "Female",
          "Male",
          "Male",
          "Male",
          "Female",
          "Female",
          "Male",
          "Female",
          "Female",
          "Female",
          "Male",
          "Male",
          "Male",
          "Female",
          "Male",
          "Female",
          "Female",
          "Male",
          "Male",
          "Male",
          "Female",
          "Male",
          "Male",
          "Male",
          "Male",
          "Male",
          "Female",
          "Male",
          "Male",
          "Male",
          "Male",
          "Male",
          "Female",
          "Male",
          "Male",
          "Male",
          "Female",
          "Female",
          "Male",
          "Female",
          "Female",
          "Male",
          "Male",
          "Female",
          "Male",
          "Female",
          "Female",
          "Male",
          "Female",
          "Male",
          "Male",
          "Female",
          "Male",
          "Male",
          "Female",
          "Female",
          "Male",
          "Male",
          "Female",
          "Male",
          "Female",
          "Male",
          "Male",
          "Female",
          "Male",
          "Male",
          "Male",
          "Male",
          "Male",
          "Male",
          "Female",
          "Female",
          "Male",
          "Female",
          "Male",
          "Female",
          "Male",
          "Male",
          "Female",
          "Female",
          "Male",
          "Female",
          "Male",
          "Male",
          "Male",
          "Male",
          "Female",
          "Male",
          "Female",
          "Female",
          "Female",
          "Female",
          "Female",
          "Female",
          "Female",
          "Male",
          "Male",
          "Female",
          "Female",
          "Male",
          "Male",
          "Male",
          "Male",
          "Female",
          "Female",
          "Male",
          "Female",
          "Female",
          "Male",
          "Male",
          "Female",
          "Male",
          "Female",
          "Male",
          "Male",
          "Female",
          "Female",
          "Male",
          "Female",
          "Male",
          "Male",
          "Female",
          "Male",
          "Female",
          "Male",
          "Male",
          "Male",
          "Female",
          "Female",
          "Male",
          "Female",
          "Male",
          "Female",
          "Male",
          "Female",
          "Male",
          "Male",
          "Female",
          "Female",
          "Female",
          "Male",
          "Female",
          "Female",
          "Female",
          "Female",
          "Male",
          "Female",
          "Female",
          "Female",
          "Male",
          "Female",
          "Male"
         ],
         "xaxis": "x",
         "yaxis": "y"
        }
       ],
       "layout": {
        "barmode": "group",
        "legend": {
         "title": {
          "text": "Attrition"
         },
         "tracegroupgap": 0
        },
        "template": {
         "data": {
          "bar": [
           {
            "error_x": {
             "color": "#2a3f5f"
            },
            "error_y": {
             "color": "#2a3f5f"
            },
            "marker": {
             "line": {
              "color": "#E5ECF6",
              "width": 0.5
             },
             "pattern": {
              "fillmode": "overlay",
              "size": 10,
              "solidity": 0.2
             }
            },
            "type": "bar"
           }
          ],
          "barpolar": [
           {
            "marker": {
             "line": {
              "color": "#E5ECF6",
              "width": 0.5
             },
             "pattern": {
              "fillmode": "overlay",
              "size": 10,
              "solidity": 0.2
             }
            },
            "type": "barpolar"
           }
          ],
          "carpet": [
           {
            "aaxis": {
             "endlinecolor": "#2a3f5f",
             "gridcolor": "white",
             "linecolor": "white",
             "minorgridcolor": "white",
             "startlinecolor": "#2a3f5f"
            },
            "baxis": {
             "endlinecolor": "#2a3f5f",
             "gridcolor": "white",
             "linecolor": "white",
             "minorgridcolor": "white",
             "startlinecolor": "#2a3f5f"
            },
            "type": "carpet"
           }
          ],
          "choropleth": [
           {
            "colorbar": {
             "outlinewidth": 0,
             "ticks": ""
            },
            "type": "choropleth"
           }
          ],
          "contour": [
           {
            "colorbar": {
             "outlinewidth": 0,
             "ticks": ""
            },
            "colorscale": [
             [
              0,
              "#0d0887"
             ],
             [
              0.1111111111111111,
              "#46039f"
             ],
             [
              0.2222222222222222,
              "#7201a8"
             ],
             [
              0.3333333333333333,
              "#9c179e"
             ],
             [
              0.4444444444444444,
              "#bd3786"
             ],
             [
              0.5555555555555556,
              "#d8576b"
             ],
             [
              0.6666666666666666,
              "#ed7953"
             ],
             [
              0.7777777777777778,
              "#fb9f3a"
             ],
             [
              0.8888888888888888,
              "#fdca26"
             ],
             [
              1,
              "#f0f921"
             ]
            ],
            "type": "contour"
           }
          ],
          "contourcarpet": [
           {
            "colorbar": {
             "outlinewidth": 0,
             "ticks": ""
            },
            "type": "contourcarpet"
           }
          ],
          "heatmap": [
           {
            "colorbar": {
             "outlinewidth": 0,
             "ticks": ""
            },
            "colorscale": [
             [
              0,
              "#0d0887"
             ],
             [
              0.1111111111111111,
              "#46039f"
             ],
             [
              0.2222222222222222,
              "#7201a8"
             ],
             [
              0.3333333333333333,
              "#9c179e"
             ],
             [
              0.4444444444444444,
              "#bd3786"
             ],
             [
              0.5555555555555556,
              "#d8576b"
             ],
             [
              0.6666666666666666,
              "#ed7953"
             ],
             [
              0.7777777777777778,
              "#fb9f3a"
             ],
             [
              0.8888888888888888,
              "#fdca26"
             ],
             [
              1,
              "#f0f921"
             ]
            ],
            "type": "heatmap"
           }
          ],
          "heatmapgl": [
           {
            "colorbar": {
             "outlinewidth": 0,
             "ticks": ""
            },
            "colorscale": [
             [
              0,
              "#0d0887"
             ],
             [
              0.1111111111111111,
              "#46039f"
             ],
             [
              0.2222222222222222,
              "#7201a8"
             ],
             [
              0.3333333333333333,
              "#9c179e"
             ],
             [
              0.4444444444444444,
              "#bd3786"
             ],
             [
              0.5555555555555556,
              "#d8576b"
             ],
             [
              0.6666666666666666,
              "#ed7953"
             ],
             [
              0.7777777777777778,
              "#fb9f3a"
             ],
             [
              0.8888888888888888,
              "#fdca26"
             ],
             [
              1,
              "#f0f921"
             ]
            ],
            "type": "heatmapgl"
           }
          ],
          "histogram": [
           {
            "marker": {
             "pattern": {
              "fillmode": "overlay",
              "size": 10,
              "solidity": 0.2
             }
            },
            "type": "histogram"
           }
          ],
          "histogram2d": [
           {
            "colorbar": {
             "outlinewidth": 0,
             "ticks": ""
            },
            "colorscale": [
             [
              0,
              "#0d0887"
             ],
             [
              0.1111111111111111,
              "#46039f"
             ],
             [
              0.2222222222222222,
              "#7201a8"
             ],
             [
              0.3333333333333333,
              "#9c179e"
             ],
             [
              0.4444444444444444,
              "#bd3786"
             ],
             [
              0.5555555555555556,
              "#d8576b"
             ],
             [
              0.6666666666666666,
              "#ed7953"
             ],
             [
              0.7777777777777778,
              "#fb9f3a"
             ],
             [
              0.8888888888888888,
              "#fdca26"
             ],
             [
              1,
              "#f0f921"
             ]
            ],
            "type": "histogram2d"
           }
          ],
          "histogram2dcontour": [
           {
            "colorbar": {
             "outlinewidth": 0,
             "ticks": ""
            },
            "colorscale": [
             [
              0,
              "#0d0887"
             ],
             [
              0.1111111111111111,
              "#46039f"
             ],
             [
              0.2222222222222222,
              "#7201a8"
             ],
             [
              0.3333333333333333,
              "#9c179e"
             ],
             [
              0.4444444444444444,
              "#bd3786"
             ],
             [
              0.5555555555555556,
              "#d8576b"
             ],
             [
              0.6666666666666666,
              "#ed7953"
             ],
             [
              0.7777777777777778,
              "#fb9f3a"
             ],
             [
              0.8888888888888888,
              "#fdca26"
             ],
             [
              1,
              "#f0f921"
             ]
            ],
            "type": "histogram2dcontour"
           }
          ],
          "mesh3d": [
           {
            "colorbar": {
             "outlinewidth": 0,
             "ticks": ""
            },
            "type": "mesh3d"
           }
          ],
          "parcoords": [
           {
            "line": {
             "colorbar": {
              "outlinewidth": 0,
              "ticks": ""
             }
            },
            "type": "parcoords"
           }
          ],
          "pie": [
           {
            "automargin": true,
            "type": "pie"
           }
          ],
          "scatter": [
           {
            "fillpattern": {
             "fillmode": "overlay",
             "size": 10,
             "solidity": 0.2
            },
            "type": "scatter"
           }
          ],
          "scatter3d": [
           {
            "line": {
             "colorbar": {
              "outlinewidth": 0,
              "ticks": ""
             }
            },
            "marker": {
             "colorbar": {
              "outlinewidth": 0,
              "ticks": ""
             }
            },
            "type": "scatter3d"
           }
          ],
          "scattercarpet": [
           {
            "marker": {
             "colorbar": {
              "outlinewidth": 0,
              "ticks": ""
             }
            },
            "type": "scattercarpet"
           }
          ],
          "scattergeo": [
           {
            "marker": {
             "colorbar": {
              "outlinewidth": 0,
              "ticks": ""
             }
            },
            "type": "scattergeo"
           }
          ],
          "scattergl": [
           {
            "marker": {
             "colorbar": {
              "outlinewidth": 0,
              "ticks": ""
             }
            },
            "type": "scattergl"
           }
          ],
          "scattermapbox": [
           {
            "marker": {
             "colorbar": {
              "outlinewidth": 0,
              "ticks": ""
             }
            },
            "type": "scattermapbox"
           }
          ],
          "scatterpolar": [
           {
            "marker": {
             "colorbar": {
              "outlinewidth": 0,
              "ticks": ""
             }
            },
            "type": "scatterpolar"
           }
          ],
          "scatterpolargl": [
           {
            "marker": {
             "colorbar": {
              "outlinewidth": 0,
              "ticks": ""
             }
            },
            "type": "scatterpolargl"
           }
          ],
          "scatterternary": [
           {
            "marker": {
             "colorbar": {
              "outlinewidth": 0,
              "ticks": ""
             }
            },
            "type": "scatterternary"
           }
          ],
          "surface": [
           {
            "colorbar": {
             "outlinewidth": 0,
             "ticks": ""
            },
            "colorscale": [
             [
              0,
              "#0d0887"
             ],
             [
              0.1111111111111111,
              "#46039f"
             ],
             [
              0.2222222222222222,
              "#7201a8"
             ],
             [
              0.3333333333333333,
              "#9c179e"
             ],
             [
              0.4444444444444444,
              "#bd3786"
             ],
             [
              0.5555555555555556,
              "#d8576b"
             ],
             [
              0.6666666666666666,
              "#ed7953"
             ],
             [
              0.7777777777777778,
              "#fb9f3a"
             ],
             [
              0.8888888888888888,
              "#fdca26"
             ],
             [
              1,
              "#f0f921"
             ]
            ],
            "type": "surface"
           }
          ],
          "table": [
           {
            "cells": {
             "fill": {
              "color": "#EBF0F8"
             },
             "line": {
              "color": "white"
             }
            },
            "header": {
             "fill": {
              "color": "#C8D4E3"
             },
             "line": {
              "color": "white"
             }
            },
            "type": "table"
           }
          ]
         },
         "layout": {
          "annotationdefaults": {
           "arrowcolor": "#2a3f5f",
           "arrowhead": 0,
           "arrowwidth": 1
          },
          "autotypenumbers": "strict",
          "coloraxis": {
           "colorbar": {
            "outlinewidth": 0,
            "ticks": ""
           }
          },
          "colorscale": {
           "diverging": [
            [
             0,
             "#8e0152"
            ],
            [
             0.1,
             "#c51b7d"
            ],
            [
             0.2,
             "#de77ae"
            ],
            [
             0.3,
             "#f1b6da"
            ],
            [
             0.4,
             "#fde0ef"
            ],
            [
             0.5,
             "#f7f7f7"
            ],
            [
             0.6,
             "#e6f5d0"
            ],
            [
             0.7,
             "#b8e186"
            ],
            [
             0.8,
             "#7fbc41"
            ],
            [
             0.9,
             "#4d9221"
            ],
            [
             1,
             "#276419"
            ]
           ],
           "sequential": [
            [
             0,
             "#0d0887"
            ],
            [
             0.1111111111111111,
             "#46039f"
            ],
            [
             0.2222222222222222,
             "#7201a8"
            ],
            [
             0.3333333333333333,
             "#9c179e"
            ],
            [
             0.4444444444444444,
             "#bd3786"
            ],
            [
             0.5555555555555556,
             "#d8576b"
            ],
            [
             0.6666666666666666,
             "#ed7953"
            ],
            [
             0.7777777777777778,
             "#fb9f3a"
            ],
            [
             0.8888888888888888,
             "#fdca26"
            ],
            [
             1,
             "#f0f921"
            ]
           ],
           "sequentialminus": [
            [
             0,
             "#0d0887"
            ],
            [
             0.1111111111111111,
             "#46039f"
            ],
            [
             0.2222222222222222,
             "#7201a8"
            ],
            [
             0.3333333333333333,
             "#9c179e"
            ],
            [
             0.4444444444444444,
             "#bd3786"
            ],
            [
             0.5555555555555556,
             "#d8576b"
            ],
            [
             0.6666666666666666,
             "#ed7953"
            ],
            [
             0.7777777777777778,
             "#fb9f3a"
            ],
            [
             0.8888888888888888,
             "#fdca26"
            ],
            [
             1,
             "#f0f921"
            ]
           ]
          },
          "colorway": [
           "#636efa",
           "#EF553B",
           "#00cc96",
           "#ab63fa",
           "#FFA15A",
           "#19d3f3",
           "#FF6692",
           "#B6E880",
           "#FF97FF",
           "#FECB52"
          ],
          "font": {
           "color": "#2a3f5f"
          },
          "geo": {
           "bgcolor": "white",
           "lakecolor": "white",
           "landcolor": "#E5ECF6",
           "showlakes": true,
           "showland": true,
           "subunitcolor": "white"
          },
          "hoverlabel": {
           "align": "left"
          },
          "hovermode": "closest",
          "mapbox": {
           "style": "light"
          },
          "paper_bgcolor": "white",
          "plot_bgcolor": "#E5ECF6",
          "polar": {
           "angularaxis": {
            "gridcolor": "white",
            "linecolor": "white",
            "ticks": ""
           },
           "bgcolor": "#E5ECF6",
           "radialaxis": {
            "gridcolor": "white",
            "linecolor": "white",
            "ticks": ""
           }
          },
          "scene": {
           "xaxis": {
            "backgroundcolor": "#E5ECF6",
            "gridcolor": "white",
            "gridwidth": 2,
            "linecolor": "white",
            "showbackground": true,
            "ticks": "",
            "zerolinecolor": "white"
           },
           "yaxis": {
            "backgroundcolor": "#E5ECF6",
            "gridcolor": "white",
            "gridwidth": 2,
            "linecolor": "white",
            "showbackground": true,
            "ticks": "",
            "zerolinecolor": "white"
           },
           "zaxis": {
            "backgroundcolor": "#E5ECF6",
            "gridcolor": "white",
            "gridwidth": 2,
            "linecolor": "white",
            "showbackground": true,
            "ticks": "",
            "zerolinecolor": "white"
           }
          },
          "shapedefaults": {
           "line": {
            "color": "#2a3f5f"
           }
          },
          "ternary": {
           "aaxis": {
            "gridcolor": "white",
            "linecolor": "white",
            "ticks": ""
           },
           "baxis": {
            "gridcolor": "white",
            "linecolor": "white",
            "ticks": ""
           },
           "bgcolor": "#E5ECF6",
           "caxis": {
            "gridcolor": "white",
            "linecolor": "white",
            "ticks": ""
           }
          },
          "title": {
           "x": 0.05
          },
          "xaxis": {
           "automargin": true,
           "gridcolor": "white",
           "linecolor": "white",
           "ticks": "",
           "title": {
            "standoff": 15
           },
           "zerolinecolor": "white",
           "zerolinewidth": 2
          },
          "yaxis": {
           "automargin": true,
           "gridcolor": "white",
           "linecolor": "white",
           "ticks": "",
           "title": {
            "standoff": 15
           },
           "zerolinecolor": "white",
           "zerolinewidth": 2
          }
         }
        },
        "title": {
         "text": "Gender vs Attrition"
        },
        "xaxis": {
         "anchor": "y",
         "domain": [
          0,
          1
         ],
         "title": {
          "text": "Gender"
         }
        },
        "yaxis": {
         "anchor": "x",
         "domain": [
          0,
          1
         ],
         "title": {
          "text": "count"
         }
        }
       }
      }
     },
     "metadata": {},
     "output_type": "display_data"
    },
    {
     "data": {
      "application/vnd.plotly.v1+json": {
       "config": {
        "plotlyServerURL": "https://plot.ly"
       },
       "data": [
        {
         "alignmentgroup": "True",
         "bingroup": "x",
         "hovertemplate": "Attrition=No<br>Marital_Status=%{x}<br>count=%{y}<extra></extra>",
         "legendgroup": "No",
         "marker": {
          "color": "#636efa",
          "pattern": {
           "shape": ""
          }
         },
         "name": "No",
         "offsetgroup": "No",
         "orientation": "v",
         "showlegend": true,
         "type": "histogram",
         "x": [
          "Married",
          "Married",
          "Married",
          "Divorced",
          "Divorced",
          "Divorced",
          "Divorced",
          "Divorced",
          "Married",
          "Married",
          "Married",
          "Divorced",
          "Divorced",
          "Divorced",
          "Single",
          "Married",
          "Married",
          "Divorced",
          "Married",
          "Married",
          "Divorced",
          "Single",
          "Single",
          "Divorced",
          "Divorced",
          "Married",
          "Single",
          "Divorced",
          "Single",
          "Divorced",
          "Divorced",
          "Married",
          "Divorced",
          "Married",
          "Single",
          "Single",
          "Divorced",
          "Divorced",
          "Married",
          "Divorced",
          "Divorced",
          "Married",
          "Divorced",
          "Divorced",
          "Single",
          "Single",
          "Divorced",
          "Married",
          "Single",
          "Single",
          "Divorced",
          "Single",
          "Single",
          "Married",
          "Married",
          "Divorced",
          "Married",
          "Married",
          "Divorced",
          "Married",
          "Divorced",
          "Divorced",
          "Married",
          "Married",
          "Single",
          "Divorced",
          "Single",
          "Married",
          "Single",
          "Divorced",
          "Single",
          "Divorced",
          "Married",
          "Married",
          "Divorced",
          "Married",
          "Married",
          "Divorced",
          "Single",
          "Single",
          "Single",
          "Single",
          "Married",
          "Single",
          "Divorced",
          "Married",
          "Divorced",
          "Single",
          "Married",
          "Divorced",
          "Married",
          "Divorced",
          "Single",
          "Married",
          "Single",
          "Single",
          "Divorced",
          "Single",
          "Single",
          "Divorced",
          "Divorced",
          "Divorced",
          "Divorced",
          "Married",
          "Married",
          "Married",
          "Married",
          "Single",
          "Married",
          "Married",
          "Single",
          "Single",
          "Single",
          "Divorced",
          "Single",
          "Single",
          "Single",
          "Divorced",
          "Divorced",
          "Single",
          "Single",
          "Single",
          "Divorced",
          "Divorced",
          "Married",
          "Divorced",
          "Single",
          "Married",
          "Married",
          "Married",
          "Divorced",
          "Married",
          "Single",
          "Divorced",
          "Divorced",
          "Married",
          "Single",
          "Single",
          "Single",
          "Single",
          "Married",
          "Married",
          "Single",
          "Divorced",
          "Married",
          "Married",
          "Single",
          "Married",
          "Single",
          "Single",
          "Divorced",
          "Divorced",
          "Divorced",
          "Divorced",
          "Divorced",
          "Divorced",
          "Married",
          "Single",
          "Married",
          "Married",
          "Married",
          "Single",
          "Single",
          "Single",
          "Married",
          "Single",
          "Divorced",
          "Divorced",
          "Married",
          "Single",
          "Divorced",
          "Married",
          "Divorced",
          "Married",
          "Married",
          "Married",
          "Single",
          "Married",
          "Divorced",
          "Single",
          "Divorced",
          "Single",
          "Married",
          "Single",
          "Single",
          "Divorced",
          "Divorced",
          "Married",
          "Single",
          "Married",
          "Married",
          "Married",
          "Married",
          "Divorced",
          "Single",
          "Single",
          "Single",
          "Single",
          "Single",
          "Single",
          "Single",
          "Divorced",
          "Single",
          "Divorced",
          "Married",
          "Single",
          "Married",
          "Married",
          "Married",
          "Divorced",
          "Married",
          "Married",
          "Married",
          "Single",
          "Single",
          "Divorced",
          "Divorced",
          "Divorced",
          "Married",
          "Married",
          "Single",
          "Single",
          "Divorced",
          "Single",
          "Married",
          "Divorced",
          "Divorced",
          "Single",
          "Divorced",
          "Single",
          "Single",
          "Single",
          "Single",
          "Single",
          "Divorced",
          "Married",
          "Divorced",
          "Divorced",
          "Married",
          "Married",
          "Married",
          "Single",
          "Divorced",
          "Single",
          "Married",
          "Married",
          "Married",
          "Single",
          "Married",
          "Single",
          "Single",
          "Married",
          "Single",
          "Divorced",
          "Divorced",
          "Married",
          "Married",
          "Married",
          "Divorced",
          "Divorced",
          "Divorced",
          "Divorced",
          "Divorced",
          "Divorced",
          "Single",
          "Divorced",
          "Single",
          "Divorced",
          "Single",
          "Divorced",
          "Married",
          "Married",
          "Single",
          "Married",
          "Divorced",
          "Single",
          "Divorced",
          "Divorced",
          "Married",
          "Married",
          "Married",
          "Married",
          "Single",
          "Single",
          "Married",
          "Single",
          "Divorced",
          "Divorced",
          "Married",
          "Divorced",
          "Single",
          "Divorced",
          "Divorced",
          "Single",
          "Married",
          "Married",
          "Married",
          "Divorced",
          "Married",
          "Married",
          "Divorced",
          "Divorced",
          "Single",
          "Divorced",
          "Married",
          "Single",
          "Married",
          "Married",
          "Divorced",
          "Married",
          "Single",
          "Single",
          "Married",
          "Single",
          "Married",
          "Divorced",
          "Married",
          "Divorced",
          "Married",
          "Divorced",
          "Married",
          "Single",
          "Divorced",
          "Married",
          "Single",
          "Divorced",
          "Single",
          "Married",
          "Single",
          "Single",
          "Married",
          "Divorced",
          "Divorced",
          "Married",
          "Married",
          "Single",
          "Single",
          "Married",
          "Single",
          "Divorced",
          "Divorced",
          "Single",
          "Married",
          "Divorced",
          "Married",
          "Married",
          "Single",
          "Divorced",
          "Single",
          "Divorced",
          "Divorced",
          "Married",
          "Married",
          "Married",
          "Married",
          "Divorced",
          "Single",
          "Married",
          "Single",
          "Single",
          "Divorced",
          "Single",
          "Single",
          "Divorced",
          "Single",
          "Divorced",
          "Single",
          "Married",
          "Single",
          "Divorced",
          "Single",
          "Married",
          "Married",
          "Divorced",
          "Married",
          "Single",
          "Married",
          "Married",
          "Married",
          "Divorced",
          "Married",
          "Married",
          "Single",
          "Divorced",
          "Married",
          "Divorced",
          "Married",
          "Married",
          "Single",
          "Single",
          "Divorced",
          "Single",
          "Divorced",
          "Married",
          "Married",
          "Single",
          "Divorced",
          "Divorced",
          "Married",
          "Single",
          "Divorced",
          "Divorced",
          "Married",
          "Single",
          "Married",
          "Married",
          "Married",
          "Divorced",
          "Single",
          "Single",
          "Married",
          "Married",
          "Single",
          "Married",
          "Divorced",
          "Married",
          "Single",
          "Single",
          "Married",
          "Divorced",
          "Single",
          "Single",
          "Single",
          "Divorced",
          "Divorced",
          "Married",
          "Divorced",
          "Married",
          "Married",
          "Married",
          "Divorced",
          "Married",
          "Divorced",
          "Divorced",
          "Married",
          "Single",
          "Married",
          "Married",
          "Married",
          "Married",
          "Divorced",
          "Married",
          "Married",
          "Married",
          "Married",
          "Married",
          "Divorced",
          "Divorced",
          "Married",
          "Single",
          "Divorced",
          "Divorced",
          "Married",
          "Divorced",
          "Divorced",
          "Married",
          "Married",
          "Married",
          "Single",
          "Married",
          "Single",
          "Single",
          "Single",
          "Divorced",
          "Married",
          "Single",
          "Married",
          "Married",
          "Married",
          "Single",
          "Divorced",
          "Single",
          "Married",
          "Single",
          "Single",
          "Single",
          "Married",
          "Single",
          "Single",
          "Divorced",
          "Single",
          "Single",
          "Married",
          "Married",
          "Divorced",
          "Married",
          "Single",
          "Divorced",
          "Married",
          "Divorced",
          "Divorced",
          "Single",
          "Divorced",
          "Single",
          "Married",
          "Divorced",
          "Single",
          "Divorced",
          "Divorced",
          "Single",
          "Divorced",
          "Divorced",
          "Single",
          "Single",
          "Married",
          "Married",
          "Divorced",
          "Divorced",
          "Single",
          "Divorced",
          "Single",
          "Single",
          "Divorced",
          "Single",
          "Married",
          "Divorced",
          "Divorced",
          "Divorced",
          "Married",
          "Single",
          "Divorced",
          "Divorced",
          "Married",
          "Married",
          "Single",
          "Single",
          "Married",
          "Single",
          "Married",
          "Divorced",
          "Married",
          "Divorced",
          "Single",
          "Married",
          "Divorced",
          "Married",
          "Divorced",
          "Married",
          "Divorced",
          "Single",
          "Single",
          "Single",
          "Single",
          "Single",
          "Single",
          "Married",
          "Single",
          "Single",
          "Single",
          "Single",
          "Divorced",
          "Divorced",
          "Single",
          "Divorced",
          "Single",
          "Married",
          "Married",
          "Married",
          "Married",
          "Divorced",
          "Single",
          "Single",
          "Married",
          "Married",
          "Single",
          "Married",
          "Single",
          "Single",
          "Single",
          "Single",
          "Single",
          "Married",
          "Single",
          "Single",
          "Married",
          "Married",
          "Married",
          "Single",
          "Divorced",
          "Married",
          "Divorced",
          "Married",
          "Single",
          "Divorced",
          "Single",
          "Divorced",
          "Single",
          "Divorced",
          "Single",
          "Divorced",
          "Single",
          "Single",
          "Single",
          "Divorced",
          "Divorced",
          "Single",
          "Divorced",
          "Divorced",
          "Single",
          "Single",
          "Single",
          "Married",
          "Divorced",
          "Married",
          "Divorced",
          "Divorced",
          "Divorced",
          "Divorced",
          "Divorced",
          "Divorced",
          "Married",
          "Single",
          "Single",
          "Married",
          "Married",
          "Married",
          "Divorced",
          "Single",
          "Divorced",
          "Single",
          "Divorced",
          "Married",
          "Single",
          "Married",
          "Married",
          "Single",
          "Single",
          "Single",
          "Married",
          "Divorced",
          "Married",
          "Married",
          "Single",
          "Divorced",
          "Married",
          "Single",
          "Single",
          "Divorced",
          "Married",
          "Divorced",
          "Married",
          "Single",
          "Married",
          "Divorced",
          "Single",
          "Divorced",
          "Married",
          "Married",
          "Single",
          "Married",
          "Single",
          "Divorced",
          "Married",
          "Single",
          "Single",
          "Married",
          "Divorced",
          "Divorced",
          "Single",
          "Single",
          "Divorced",
          "Married",
          "Single",
          "Single",
          "Single",
          "Married",
          "Married",
          "Divorced",
          "Divorced",
          "Divorced",
          "Married",
          "Married",
          "Married",
          "Single",
          "Single",
          "Married",
          "Married",
          "Single",
          "Divorced",
          "Divorced",
          "Married",
          "Divorced",
          "Divorced",
          "Single",
          "Married",
          "Divorced",
          "Single",
          "Single",
          "Single",
          "Divorced",
          "Married",
          "Single",
          "Married",
          "Divorced",
          "Divorced",
          "Single",
          "Single",
          "Married",
          "Married",
          "Single",
          "Single",
          "Divorced",
          "Single",
          "Divorced",
          "Married",
          "Divorced",
          "Single",
          "Married",
          "Single",
          "Married",
          "Divorced",
          "Divorced",
          "Divorced",
          "Married",
          "Single",
          "Single",
          "Single",
          "Married",
          "Married",
          "Married",
          "Single",
          "Married",
          "Married",
          "Single",
          "Married",
          "Single",
          "Single",
          "Divorced",
          "Divorced",
          "Divorced",
          "Divorced",
          "Married",
          "Single",
          "Married",
          "Divorced",
          "Married",
          "Married",
          "Single",
          "Married",
          "Single",
          "Married",
          "Divorced",
          "Married",
          "Married",
          "Married",
          "Single",
          "Divorced",
          "Divorced",
          "Single",
          "Married",
          "Divorced",
          "Single",
          "Married",
          "Divorced",
          "Married",
          "Married",
          "Married",
          "Divorced",
          "Single",
          "Divorced",
          "Married",
          "Divorced",
          "Married",
          "Single",
          "Married",
          "Married",
          "Single",
          "Divorced",
          "Single",
          "Divorced",
          "Single",
          "Divorced",
          "Single",
          "Married",
          "Divorced",
          "Single",
          "Divorced",
          "Divorced",
          "Divorced",
          "Single",
          "Married",
          "Single",
          "Single",
          "Married",
          "Divorced",
          "Divorced",
          "Married",
          "Divorced",
          "Married",
          "Divorced",
          "Divorced",
          "Single",
          "Married",
          "Single",
          "Single",
          "Married",
          "Divorced",
          "Single",
          "Divorced",
          "Single",
          "Married",
          "Married",
          "Married",
          "Single",
          "Single",
          "Divorced",
          "Single",
          "Divorced",
          "Divorced",
          "Married",
          "Divorced"
         ],
         "xaxis": "x",
         "yaxis": "y"
        },
        {
         "alignmentgroup": "True",
         "bingroup": "x",
         "hovertemplate": "Attrition=Yes<br>Marital_Status=%{x}<br>count=%{y}<extra></extra>",
         "legendgroup": "Yes",
         "marker": {
          "color": "#EF553B",
          "pattern": {
           "shape": ""
          }
         },
         "name": "Yes",
         "offsetgroup": "Yes",
         "orientation": "v",
         "showlegend": true,
         "type": "histogram",
         "x": [
          "Married",
          "Single",
          "Married",
          "Divorced",
          "Single",
          "Married",
          "Married",
          "Single",
          "Single",
          "Divorced",
          "Single",
          "Married",
          "Married",
          "Married",
          "Single",
          "Married",
          "Married",
          "Married",
          "Married",
          "Married",
          "Single",
          "Single",
          "Divorced",
          "Divorced",
          "Married",
          "Single",
          "Single",
          "Single",
          "Single",
          "Single",
          "Single",
          "Divorced",
          "Divorced",
          "Married",
          "Divorced",
          "Married",
          "Married",
          "Divorced",
          "Divorced",
          "Married",
          "Divorced",
          "Married",
          "Single",
          "Single",
          "Married",
          "Single",
          "Single",
          "Single",
          "Divorced",
          "Married",
          "Married",
          "Married",
          "Single",
          "Divorced",
          "Divorced",
          "Single",
          "Single",
          "Divorced",
          "Divorced",
          "Single",
          "Married",
          "Single",
          "Married",
          "Divorced",
          "Divorced",
          "Single",
          "Single",
          "Single",
          "Married",
          "Single",
          "Single",
          "Married",
          "Single",
          "Divorced",
          "Single",
          "Married",
          "Divorced",
          "Divorced",
          "Single",
          "Single",
          "Divorced",
          "Divorced",
          "Single",
          "Single",
          "Married",
          "Single",
          "Divorced",
          "Married",
          "Single",
          "Divorced",
          "Married",
          "Married",
          "Single",
          "Divorced",
          "Married",
          "Single",
          "Single",
          "Single",
          "Single",
          "Married",
          "Single",
          "Married",
          "Single",
          "Divorced",
          "Divorced",
          "Single",
          "Single",
          "Single",
          "Married",
          "Married",
          "Married",
          "Divorced",
          "Married",
          "Divorced",
          "Single",
          "Married",
          "Divorced",
          "Divorced",
          "Married",
          "Married",
          "Married",
          "Married",
          "Divorced",
          "Single",
          "Married",
          "Single",
          "Divorced",
          "Divorced",
          "Married",
          "Married",
          "Single",
          "Married",
          "Married",
          "Single",
          "Divorced",
          "Single",
          "Single",
          "Single",
          "Divorced",
          "Single",
          "Single",
          "Divorced",
          "Married",
          "Single",
          "Married",
          "Divorced",
          "Divorced",
          "Married",
          "Married",
          "Divorced",
          "Single",
          "Married",
          "Married",
          "Divorced",
          "Married",
          "Married",
          "Married",
          "Divorced",
          "Single",
          "Single",
          "Divorced",
          "Divorced",
          "Divorced",
          "Divorced",
          "Divorced",
          "Divorced",
          "Married",
          "Married",
          "Married",
          "Divorced",
          "Single",
          "Married",
          "Divorced",
          "Single",
          "Single",
          "Single",
          "Married",
          "Divorced",
          "Divorced",
          "Married",
          "Divorced",
          "Married",
          "Divorced",
          "Single",
          "Divorced",
          "Single",
          "Married",
          "Married",
          "Single"
         ],
         "xaxis": "x",
         "yaxis": "y"
        }
       ],
       "layout": {
        "barmode": "group",
        "legend": {
         "title": {
          "text": "Attrition"
         },
         "tracegroupgap": 0
        },
        "template": {
         "data": {
          "bar": [
           {
            "error_x": {
             "color": "#2a3f5f"
            },
            "error_y": {
             "color": "#2a3f5f"
            },
            "marker": {
             "line": {
              "color": "#E5ECF6",
              "width": 0.5
             },
             "pattern": {
              "fillmode": "overlay",
              "size": 10,
              "solidity": 0.2
             }
            },
            "type": "bar"
           }
          ],
          "barpolar": [
           {
            "marker": {
             "line": {
              "color": "#E5ECF6",
              "width": 0.5
             },
             "pattern": {
              "fillmode": "overlay",
              "size": 10,
              "solidity": 0.2
             }
            },
            "type": "barpolar"
           }
          ],
          "carpet": [
           {
            "aaxis": {
             "endlinecolor": "#2a3f5f",
             "gridcolor": "white",
             "linecolor": "white",
             "minorgridcolor": "white",
             "startlinecolor": "#2a3f5f"
            },
            "baxis": {
             "endlinecolor": "#2a3f5f",
             "gridcolor": "white",
             "linecolor": "white",
             "minorgridcolor": "white",
             "startlinecolor": "#2a3f5f"
            },
            "type": "carpet"
           }
          ],
          "choropleth": [
           {
            "colorbar": {
             "outlinewidth": 0,
             "ticks": ""
            },
            "type": "choropleth"
           }
          ],
          "contour": [
           {
            "colorbar": {
             "outlinewidth": 0,
             "ticks": ""
            },
            "colorscale": [
             [
              0,
              "#0d0887"
             ],
             [
              0.1111111111111111,
              "#46039f"
             ],
             [
              0.2222222222222222,
              "#7201a8"
             ],
             [
              0.3333333333333333,
              "#9c179e"
             ],
             [
              0.4444444444444444,
              "#bd3786"
             ],
             [
              0.5555555555555556,
              "#d8576b"
             ],
             [
              0.6666666666666666,
              "#ed7953"
             ],
             [
              0.7777777777777778,
              "#fb9f3a"
             ],
             [
              0.8888888888888888,
              "#fdca26"
             ],
             [
              1,
              "#f0f921"
             ]
            ],
            "type": "contour"
           }
          ],
          "contourcarpet": [
           {
            "colorbar": {
             "outlinewidth": 0,
             "ticks": ""
            },
            "type": "contourcarpet"
           }
          ],
          "heatmap": [
           {
            "colorbar": {
             "outlinewidth": 0,
             "ticks": ""
            },
            "colorscale": [
             [
              0,
              "#0d0887"
             ],
             [
              0.1111111111111111,
              "#46039f"
             ],
             [
              0.2222222222222222,
              "#7201a8"
             ],
             [
              0.3333333333333333,
              "#9c179e"
             ],
             [
              0.4444444444444444,
              "#bd3786"
             ],
             [
              0.5555555555555556,
              "#d8576b"
             ],
             [
              0.6666666666666666,
              "#ed7953"
             ],
             [
              0.7777777777777778,
              "#fb9f3a"
             ],
             [
              0.8888888888888888,
              "#fdca26"
             ],
             [
              1,
              "#f0f921"
             ]
            ],
            "type": "heatmap"
           }
          ],
          "heatmapgl": [
           {
            "colorbar": {
             "outlinewidth": 0,
             "ticks": ""
            },
            "colorscale": [
             [
              0,
              "#0d0887"
             ],
             [
              0.1111111111111111,
              "#46039f"
             ],
             [
              0.2222222222222222,
              "#7201a8"
             ],
             [
              0.3333333333333333,
              "#9c179e"
             ],
             [
              0.4444444444444444,
              "#bd3786"
             ],
             [
              0.5555555555555556,
              "#d8576b"
             ],
             [
              0.6666666666666666,
              "#ed7953"
             ],
             [
              0.7777777777777778,
              "#fb9f3a"
             ],
             [
              0.8888888888888888,
              "#fdca26"
             ],
             [
              1,
              "#f0f921"
             ]
            ],
            "type": "heatmapgl"
           }
          ],
          "histogram": [
           {
            "marker": {
             "pattern": {
              "fillmode": "overlay",
              "size": 10,
              "solidity": 0.2
             }
            },
            "type": "histogram"
           }
          ],
          "histogram2d": [
           {
            "colorbar": {
             "outlinewidth": 0,
             "ticks": ""
            },
            "colorscale": [
             [
              0,
              "#0d0887"
             ],
             [
              0.1111111111111111,
              "#46039f"
             ],
             [
              0.2222222222222222,
              "#7201a8"
             ],
             [
              0.3333333333333333,
              "#9c179e"
             ],
             [
              0.4444444444444444,
              "#bd3786"
             ],
             [
              0.5555555555555556,
              "#d8576b"
             ],
             [
              0.6666666666666666,
              "#ed7953"
             ],
             [
              0.7777777777777778,
              "#fb9f3a"
             ],
             [
              0.8888888888888888,
              "#fdca26"
             ],
             [
              1,
              "#f0f921"
             ]
            ],
            "type": "histogram2d"
           }
          ],
          "histogram2dcontour": [
           {
            "colorbar": {
             "outlinewidth": 0,
             "ticks": ""
            },
            "colorscale": [
             [
              0,
              "#0d0887"
             ],
             [
              0.1111111111111111,
              "#46039f"
             ],
             [
              0.2222222222222222,
              "#7201a8"
             ],
             [
              0.3333333333333333,
              "#9c179e"
             ],
             [
              0.4444444444444444,
              "#bd3786"
             ],
             [
              0.5555555555555556,
              "#d8576b"
             ],
             [
              0.6666666666666666,
              "#ed7953"
             ],
             [
              0.7777777777777778,
              "#fb9f3a"
             ],
             [
              0.8888888888888888,
              "#fdca26"
             ],
             [
              1,
              "#f0f921"
             ]
            ],
            "type": "histogram2dcontour"
           }
          ],
          "mesh3d": [
           {
            "colorbar": {
             "outlinewidth": 0,
             "ticks": ""
            },
            "type": "mesh3d"
           }
          ],
          "parcoords": [
           {
            "line": {
             "colorbar": {
              "outlinewidth": 0,
              "ticks": ""
             }
            },
            "type": "parcoords"
           }
          ],
          "pie": [
           {
            "automargin": true,
            "type": "pie"
           }
          ],
          "scatter": [
           {
            "fillpattern": {
             "fillmode": "overlay",
             "size": 10,
             "solidity": 0.2
            },
            "type": "scatter"
           }
          ],
          "scatter3d": [
           {
            "line": {
             "colorbar": {
              "outlinewidth": 0,
              "ticks": ""
             }
            },
            "marker": {
             "colorbar": {
              "outlinewidth": 0,
              "ticks": ""
             }
            },
            "type": "scatter3d"
           }
          ],
          "scattercarpet": [
           {
            "marker": {
             "colorbar": {
              "outlinewidth": 0,
              "ticks": ""
             }
            },
            "type": "scattercarpet"
           }
          ],
          "scattergeo": [
           {
            "marker": {
             "colorbar": {
              "outlinewidth": 0,
              "ticks": ""
             }
            },
            "type": "scattergeo"
           }
          ],
          "scattergl": [
           {
            "marker": {
             "colorbar": {
              "outlinewidth": 0,
              "ticks": ""
             }
            },
            "type": "scattergl"
           }
          ],
          "scattermapbox": [
           {
            "marker": {
             "colorbar": {
              "outlinewidth": 0,
              "ticks": ""
             }
            },
            "type": "scattermapbox"
           }
          ],
          "scatterpolar": [
           {
            "marker": {
             "colorbar": {
              "outlinewidth": 0,
              "ticks": ""
             }
            },
            "type": "scatterpolar"
           }
          ],
          "scatterpolargl": [
           {
            "marker": {
             "colorbar": {
              "outlinewidth": 0,
              "ticks": ""
             }
            },
            "type": "scatterpolargl"
           }
          ],
          "scatterternary": [
           {
            "marker": {
             "colorbar": {
              "outlinewidth": 0,
              "ticks": ""
             }
            },
            "type": "scatterternary"
           }
          ],
          "surface": [
           {
            "colorbar": {
             "outlinewidth": 0,
             "ticks": ""
            },
            "colorscale": [
             [
              0,
              "#0d0887"
             ],
             [
              0.1111111111111111,
              "#46039f"
             ],
             [
              0.2222222222222222,
              "#7201a8"
             ],
             [
              0.3333333333333333,
              "#9c179e"
             ],
             [
              0.4444444444444444,
              "#bd3786"
             ],
             [
              0.5555555555555556,
              "#d8576b"
             ],
             [
              0.6666666666666666,
              "#ed7953"
             ],
             [
              0.7777777777777778,
              "#fb9f3a"
             ],
             [
              0.8888888888888888,
              "#fdca26"
             ],
             [
              1,
              "#f0f921"
             ]
            ],
            "type": "surface"
           }
          ],
          "table": [
           {
            "cells": {
             "fill": {
              "color": "#EBF0F8"
             },
             "line": {
              "color": "white"
             }
            },
            "header": {
             "fill": {
              "color": "#C8D4E3"
             },
             "line": {
              "color": "white"
             }
            },
            "type": "table"
           }
          ]
         },
         "layout": {
          "annotationdefaults": {
           "arrowcolor": "#2a3f5f",
           "arrowhead": 0,
           "arrowwidth": 1
          },
          "autotypenumbers": "strict",
          "coloraxis": {
           "colorbar": {
            "outlinewidth": 0,
            "ticks": ""
           }
          },
          "colorscale": {
           "diverging": [
            [
             0,
             "#8e0152"
            ],
            [
             0.1,
             "#c51b7d"
            ],
            [
             0.2,
             "#de77ae"
            ],
            [
             0.3,
             "#f1b6da"
            ],
            [
             0.4,
             "#fde0ef"
            ],
            [
             0.5,
             "#f7f7f7"
            ],
            [
             0.6,
             "#e6f5d0"
            ],
            [
             0.7,
             "#b8e186"
            ],
            [
             0.8,
             "#7fbc41"
            ],
            [
             0.9,
             "#4d9221"
            ],
            [
             1,
             "#276419"
            ]
           ],
           "sequential": [
            [
             0,
             "#0d0887"
            ],
            [
             0.1111111111111111,
             "#46039f"
            ],
            [
             0.2222222222222222,
             "#7201a8"
            ],
            [
             0.3333333333333333,
             "#9c179e"
            ],
            [
             0.4444444444444444,
             "#bd3786"
            ],
            [
             0.5555555555555556,
             "#d8576b"
            ],
            [
             0.6666666666666666,
             "#ed7953"
            ],
            [
             0.7777777777777778,
             "#fb9f3a"
            ],
            [
             0.8888888888888888,
             "#fdca26"
            ],
            [
             1,
             "#f0f921"
            ]
           ],
           "sequentialminus": [
            [
             0,
             "#0d0887"
            ],
            [
             0.1111111111111111,
             "#46039f"
            ],
            [
             0.2222222222222222,
             "#7201a8"
            ],
            [
             0.3333333333333333,
             "#9c179e"
            ],
            [
             0.4444444444444444,
             "#bd3786"
            ],
            [
             0.5555555555555556,
             "#d8576b"
            ],
            [
             0.6666666666666666,
             "#ed7953"
            ],
            [
             0.7777777777777778,
             "#fb9f3a"
            ],
            [
             0.8888888888888888,
             "#fdca26"
            ],
            [
             1,
             "#f0f921"
            ]
           ]
          },
          "colorway": [
           "#636efa",
           "#EF553B",
           "#00cc96",
           "#ab63fa",
           "#FFA15A",
           "#19d3f3",
           "#FF6692",
           "#B6E880",
           "#FF97FF",
           "#FECB52"
          ],
          "font": {
           "color": "#2a3f5f"
          },
          "geo": {
           "bgcolor": "white",
           "lakecolor": "white",
           "landcolor": "#E5ECF6",
           "showlakes": true,
           "showland": true,
           "subunitcolor": "white"
          },
          "hoverlabel": {
           "align": "left"
          },
          "hovermode": "closest",
          "mapbox": {
           "style": "light"
          },
          "paper_bgcolor": "white",
          "plot_bgcolor": "#E5ECF6",
          "polar": {
           "angularaxis": {
            "gridcolor": "white",
            "linecolor": "white",
            "ticks": ""
           },
           "bgcolor": "#E5ECF6",
           "radialaxis": {
            "gridcolor": "white",
            "linecolor": "white",
            "ticks": ""
           }
          },
          "scene": {
           "xaxis": {
            "backgroundcolor": "#E5ECF6",
            "gridcolor": "white",
            "gridwidth": 2,
            "linecolor": "white",
            "showbackground": true,
            "ticks": "",
            "zerolinecolor": "white"
           },
           "yaxis": {
            "backgroundcolor": "#E5ECF6",
            "gridcolor": "white",
            "gridwidth": 2,
            "linecolor": "white",
            "showbackground": true,
            "ticks": "",
            "zerolinecolor": "white"
           },
           "zaxis": {
            "backgroundcolor": "#E5ECF6",
            "gridcolor": "white",
            "gridwidth": 2,
            "linecolor": "white",
            "showbackground": true,
            "ticks": "",
            "zerolinecolor": "white"
           }
          },
          "shapedefaults": {
           "line": {
            "color": "#2a3f5f"
           }
          },
          "ternary": {
           "aaxis": {
            "gridcolor": "white",
            "linecolor": "white",
            "ticks": ""
           },
           "baxis": {
            "gridcolor": "white",
            "linecolor": "white",
            "ticks": ""
           },
           "bgcolor": "#E5ECF6",
           "caxis": {
            "gridcolor": "white",
            "linecolor": "white",
            "ticks": ""
           }
          },
          "title": {
           "x": 0.05
          },
          "xaxis": {
           "automargin": true,
           "gridcolor": "white",
           "linecolor": "white",
           "ticks": "",
           "title": {
            "standoff": 15
           },
           "zerolinecolor": "white",
           "zerolinewidth": 2
          },
          "yaxis": {
           "automargin": true,
           "gridcolor": "white",
           "linecolor": "white",
           "ticks": "",
           "title": {
            "standoff": 15
           },
           "zerolinecolor": "white",
           "zerolinewidth": 2
          }
         }
        },
        "title": {
         "text": "Marital_Status vs Attrition"
        },
        "xaxis": {
         "anchor": "y",
         "domain": [
          0,
          1
         ],
         "title": {
          "text": "Marital_Status"
         }
        },
        "yaxis": {
         "anchor": "x",
         "domain": [
          0,
          1
         ],
         "title": {
          "text": "count"
         }
        }
       }
      }
     },
     "metadata": {},
     "output_type": "display_data"
    },
    {
     "data": {
      "application/vnd.plotly.v1+json": {
       "config": {
        "plotlyServerURL": "https://plot.ly"
       },
       "data": [
        {
         "alignmentgroup": "True",
         "bingroup": "x",
         "hovertemplate": "Attrition=No<br>Department=%{x}<br>count=%{y}<extra></extra>",
         "legendgroup": "No",
         "marker": {
          "color": "#636efa",
          "pattern": {
           "shape": ""
          }
         },
         "name": "No",
         "offsetgroup": "No",
         "orientation": "v",
         "showlegend": true,
         "type": "histogram",
         "x": [
          "IT",
          "Sales",
          "Marketing",
          "Marketing",
          "Marketing",
          "Finance",
          "HR",
          "Marketing",
          "IT",
          "Marketing",
          "IT",
          "Finance",
          "IT",
          "Sales",
          "HR",
          "HR",
          "Finance",
          "HR",
          "Finance",
          "Finance",
          "Finance",
          "HR",
          "HR",
          "Finance",
          "IT",
          "Finance",
          "Sales",
          "IT",
          "IT",
          "HR",
          "Marketing",
          "HR",
          "Finance",
          "Sales",
          "Finance",
          "IT",
          "IT",
          "Sales",
          "HR",
          "Marketing",
          "Finance",
          "Sales",
          "Sales",
          "Marketing",
          "IT",
          "Finance",
          "HR",
          "Marketing",
          "IT",
          "Marketing",
          "IT",
          "Marketing",
          "Sales",
          "Sales",
          "HR",
          "Marketing",
          "Finance",
          "HR",
          "Marketing",
          "HR",
          "HR",
          "IT",
          "Marketing",
          "Finance",
          "IT",
          "HR",
          "HR",
          "HR",
          "Marketing",
          "Marketing",
          "IT",
          "Finance",
          "IT",
          "Sales",
          "HR",
          "HR",
          "IT",
          "HR",
          "IT",
          "Marketing",
          "IT",
          "HR",
          "IT",
          "IT",
          "Sales",
          "Marketing",
          "Finance",
          "Finance",
          "Sales",
          "IT",
          "Sales",
          "HR",
          "Marketing",
          "IT",
          "Finance",
          "Marketing",
          "Finance",
          "Finance",
          "Sales",
          "Marketing",
          "HR",
          "IT",
          "Finance",
          "IT",
          "IT",
          "HR",
          "Sales",
          "Finance",
          "HR",
          "IT",
          "Finance",
          "Sales",
          "Finance",
          "HR",
          "Sales",
          "IT",
          "Sales",
          "Marketing",
          "Sales",
          "Finance",
          "IT",
          "Finance",
          "HR",
          "Finance",
          "Marketing",
          "Marketing",
          "HR",
          "IT",
          "IT",
          "Finance",
          "Finance",
          "Sales",
          "Marketing",
          "Sales",
          "IT",
          "Sales",
          "Finance",
          "Marketing",
          "Finance",
          "Sales",
          "Finance",
          "Sales",
          "HR",
          "Sales",
          "Marketing",
          "Marketing",
          "Marketing",
          "Marketing",
          "IT",
          "Finance",
          "Finance",
          "IT",
          "Sales",
          "Sales",
          "HR",
          "HR",
          "Finance",
          "HR",
          "Finance",
          "IT",
          "Marketing",
          "Sales",
          "Marketing",
          "Marketing",
          "HR",
          "Finance",
          "IT",
          "Finance",
          "Finance",
          "HR",
          "IT",
          "Finance",
          "Finance",
          "HR",
          "IT",
          "Sales",
          "Finance",
          "Finance",
          "IT",
          "Marketing",
          "Finance",
          "IT",
          "HR",
          "Marketing",
          "Sales",
          "Finance",
          "IT",
          "HR",
          "IT",
          "Sales",
          "HR",
          "HR",
          "Finance",
          "Sales",
          "Sales",
          "Sales",
          "Finance",
          "Marketing",
          "IT",
          "IT",
          "Sales",
          "Finance",
          "HR",
          "Finance",
          "Finance",
          "HR",
          "Sales",
          "Finance",
          "IT",
          "HR",
          "Marketing",
          "Sales",
          "HR",
          "Marketing",
          "Marketing",
          "Finance",
          "Finance",
          "HR",
          "Sales",
          "Finance",
          "IT",
          "Sales",
          "HR",
          "Sales",
          "Sales",
          "Sales",
          "Sales",
          "IT",
          "Finance",
          "Marketing",
          "Sales",
          "Sales",
          "Sales",
          "Finance",
          "HR",
          "IT",
          "HR",
          "Sales",
          "Sales",
          "Sales",
          "HR",
          "Finance",
          "Finance",
          "Marketing",
          "HR",
          "Sales",
          "Finance",
          "HR",
          "Sales",
          "Finance",
          "Marketing",
          "Marketing",
          "Finance",
          "HR",
          "Finance",
          "HR",
          "Sales",
          "Marketing",
          "Sales",
          "HR",
          "Finance",
          "Sales",
          "Finance",
          "Finance",
          "IT",
          "HR",
          "Marketing",
          "HR",
          "Finance",
          "IT",
          "Marketing",
          "Marketing",
          "Finance",
          "Marketing",
          "Sales",
          "Finance",
          "HR",
          "Marketing",
          "Marketing",
          "HR",
          "Marketing",
          "HR",
          "Finance",
          "Sales",
          "HR",
          "IT",
          "Finance",
          "Finance",
          "HR",
          "Sales",
          "IT",
          "Finance",
          "Marketing",
          "Sales",
          "Finance",
          "Marketing",
          "Sales",
          "Finance",
          "Finance",
          "Finance",
          "Marketing",
          "Sales",
          "Finance",
          "IT",
          "Sales",
          "HR",
          "HR",
          "IT",
          "Marketing",
          "Finance",
          "Sales",
          "Sales",
          "Finance",
          "IT",
          "HR",
          "HR",
          "Marketing",
          "Sales",
          "Sales",
          "HR",
          "Marketing",
          "Marketing",
          "HR",
          "HR",
          "Sales",
          "Finance",
          "Finance",
          "IT",
          "Marketing",
          "IT",
          "Sales",
          "HR",
          "HR",
          "HR",
          "Sales",
          "HR",
          "Marketing",
          "Sales",
          "Sales",
          "Marketing",
          "Marketing",
          "HR",
          "Finance",
          "Sales",
          "Finance",
          "Marketing",
          "Marketing",
          "Marketing",
          "Marketing",
          "HR",
          "Marketing",
          "IT",
          "IT",
          "Marketing",
          "HR",
          "Sales",
          "Marketing",
          "HR",
          "Finance",
          "IT",
          "IT",
          "IT",
          "Finance",
          "HR",
          "IT",
          "Marketing",
          "Sales",
          "Finance",
          "HR",
          "HR",
          "Finance",
          "IT",
          "Sales",
          "HR",
          "IT",
          "Marketing",
          "HR",
          "Sales",
          "Sales",
          "Marketing",
          "IT",
          "IT",
          "Sales",
          "HR",
          "HR",
          "Finance",
          "Sales",
          "Finance",
          "Marketing",
          "Marketing",
          "Sales",
          "HR",
          "HR",
          "Finance",
          "Sales",
          "HR",
          "Marketing",
          "Marketing",
          "Marketing",
          "HR",
          "HR",
          "HR",
          "Finance",
          "Marketing",
          "Finance",
          "Marketing",
          "Marketing",
          "IT",
          "Finance",
          "Finance",
          "IT",
          "Sales",
          "Sales",
          "Finance",
          "HR",
          "Sales",
          "HR",
          "Finance",
          "Finance",
          "HR",
          "IT",
          "Finance",
          "Marketing",
          "Finance",
          "Marketing",
          "HR",
          "HR",
          "Finance",
          "Sales",
          "IT",
          "Finance",
          "IT",
          "Finance",
          "Sales",
          "Sales",
          "Sales",
          "Sales",
          "Marketing",
          "IT",
          "Finance",
          "HR",
          "Finance",
          "HR",
          "Marketing",
          "IT",
          "Marketing",
          "Sales",
          "Sales",
          "Sales",
          "Marketing",
          "Finance",
          "Sales",
          "Sales",
          "Sales",
          "Sales",
          "Sales",
          "Marketing",
          "Marketing",
          "IT",
          "Marketing",
          "IT",
          "Marketing",
          "IT",
          "Finance",
          "Marketing",
          "Sales",
          "Finance",
          "IT",
          "Finance",
          "HR",
          "HR",
          "Marketing",
          "Sales",
          "Finance",
          "HR",
          "Marketing",
          "Finance",
          "Marketing",
          "HR",
          "HR",
          "Marketing",
          "IT",
          "Marketing",
          "Sales",
          "Sales",
          "IT",
          "IT",
          "Marketing",
          "Sales",
          "Marketing",
          "Finance",
          "Finance",
          "Sales",
          "HR",
          "Finance",
          "Sales",
          "IT",
          "Sales",
          "Finance",
          "Sales",
          "Marketing",
          "Finance",
          "IT",
          "HR",
          "IT",
          "Sales",
          "Marketing",
          "Marketing",
          "Finance",
          "Marketing",
          "HR",
          "Marketing",
          "Finance",
          "Sales",
          "Sales",
          "Marketing",
          "Sales",
          "Finance",
          "Marketing",
          "Sales",
          "Finance",
          "HR",
          "Finance",
          "HR",
          "Finance",
          "HR",
          "Sales",
          "Sales",
          "IT",
          "Finance",
          "Finance",
          "IT",
          "Finance",
          "Sales",
          "Sales",
          "HR",
          "Sales",
          "IT",
          "HR",
          "Sales",
          "Marketing",
          "Sales",
          "IT",
          "Finance",
          "Sales",
          "HR",
          "Finance",
          "Marketing",
          "HR",
          "HR",
          "HR",
          "Sales",
          "Sales",
          "Sales",
          "Marketing",
          "Marketing",
          "Marketing",
          "IT",
          "Marketing",
          "Sales",
          "Sales",
          "IT",
          "Marketing",
          "Finance",
          "IT",
          "HR",
          "HR",
          "Sales",
          "Sales",
          "IT",
          "HR",
          "Sales",
          "HR",
          "Finance",
          "HR",
          "Marketing",
          "HR",
          "Marketing",
          "Marketing",
          "Finance",
          "HR",
          "HR",
          "Finance",
          "Sales",
          "IT",
          "HR",
          "IT",
          "Finance",
          "Sales",
          "Sales",
          "Finance",
          "Marketing",
          "Marketing",
          "IT",
          "Marketing",
          "Marketing",
          "Sales",
          "IT",
          "HR",
          "IT",
          "IT",
          "Finance",
          "Finance",
          "IT",
          "IT",
          "IT",
          "Marketing",
          "Finance",
          "IT",
          "Sales",
          "Marketing",
          "Marketing",
          "HR",
          "HR",
          "Marketing",
          "Marketing",
          "Marketing",
          "Sales",
          "Marketing",
          "Sales",
          "HR",
          "IT",
          "Finance",
          "Finance",
          "Finance",
          "IT",
          "IT",
          "Finance",
          "Finance",
          "Marketing",
          "Finance",
          "Sales",
          "Finance",
          "IT",
          "IT",
          "Sales",
          "HR",
          "Finance",
          "HR",
          "HR",
          "HR",
          "Marketing",
          "IT",
          "IT",
          "IT",
          "HR",
          "Marketing",
          "Finance",
          "HR",
          "Sales",
          "HR",
          "HR",
          "Sales",
          "Sales",
          "HR",
          "Finance",
          "Finance",
          "Finance",
          "IT",
          "Sales",
          "Marketing",
          "Sales",
          "HR",
          "Finance",
          "Marketing",
          "HR",
          "IT",
          "Marketing",
          "HR",
          "Finance",
          "Sales",
          "HR",
          "Marketing",
          "Sales",
          "Marketing",
          "Marketing",
          "HR",
          "Sales",
          "HR",
          "Finance",
          "HR",
          "Marketing",
          "Sales",
          "Sales",
          "Finance",
          "Marketing",
          "IT",
          "HR",
          "Marketing",
          "HR",
          "Sales",
          "Finance",
          "HR",
          "Finance",
          "HR",
          "Marketing",
          "IT",
          "Marketing",
          "Finance",
          "IT",
          "HR",
          "HR",
          "Sales",
          "HR",
          "Marketing",
          "Marketing",
          "Marketing",
          "IT",
          "HR",
          "Finance",
          "IT",
          "Sales",
          "Finance",
          "Finance",
          "Finance",
          "Marketing",
          "Finance",
          "Finance",
          "Marketing",
          "Sales",
          "Sales",
          "Marketing",
          "HR",
          "HR",
          "IT",
          "Marketing",
          "Finance",
          "Marketing",
          "IT",
          "Marketing",
          "Marketing",
          "IT",
          "Finance",
          "IT",
          "Sales",
          "HR",
          "Finance",
          "Marketing",
          "Sales",
          "HR",
          "Finance",
          "IT",
          "IT",
          "HR",
          "Finance",
          "Finance",
          "IT",
          "Finance",
          "Sales",
          "Marketing",
          "IT",
          "Sales",
          "HR",
          "IT",
          "Marketing",
          "Marketing",
          "HR",
          "HR",
          "Finance",
          "Sales",
          "Marketing",
          "Finance",
          "Marketing",
          "Finance",
          "Sales",
          "Sales",
          "HR",
          "Marketing",
          "Sales",
          "Sales",
          "Marketing",
          "HR",
          "Marketing",
          "IT",
          "IT",
          "Finance",
          "Finance",
          "Finance",
          "IT",
          "Finance",
          "IT",
          "Marketing",
          "Finance",
          "IT",
          "Sales",
          "HR",
          "HR",
          "Sales",
          "IT",
          "Finance",
          "IT",
          "HR",
          "IT",
          "HR",
          "IT",
          "Sales",
          "Sales",
          "Marketing",
          "Marketing",
          "Finance",
          "Finance",
          "Sales",
          "Sales",
          "HR",
          "Finance",
          "Finance",
          "HR",
          "HR",
          "IT",
          "HR",
          "IT"
         ],
         "xaxis": "x",
         "yaxis": "y"
        },
        {
         "alignmentgroup": "True",
         "bingroup": "x",
         "hovertemplate": "Attrition=Yes<br>Department=%{x}<br>count=%{y}<extra></extra>",
         "legendgroup": "Yes",
         "marker": {
          "color": "#EF553B",
          "pattern": {
           "shape": ""
          }
         },
         "name": "Yes",
         "offsetgroup": "Yes",
         "orientation": "v",
         "showlegend": true,
         "type": "histogram",
         "x": [
          "Finance",
          "Finance",
          "Marketing",
          "Finance",
          "Finance",
          "Finance",
          "Marketing",
          "IT",
          "HR",
          "IT",
          "Finance",
          "IT",
          "IT",
          "Marketing",
          "Sales",
          "HR",
          "HR",
          "IT",
          "Marketing",
          "IT",
          "Sales",
          "Finance",
          "Finance",
          "HR",
          "Sales",
          "Sales",
          "Finance",
          "Finance",
          "IT",
          "Sales",
          "HR",
          "HR",
          "Marketing",
          "Finance",
          "HR",
          "Marketing",
          "Sales",
          "IT",
          "Finance",
          "Sales",
          "Sales",
          "Marketing",
          "Sales",
          "IT",
          "Marketing",
          "HR",
          "Finance",
          "HR",
          "Marketing",
          "HR",
          "Sales",
          "IT",
          "Finance",
          "HR",
          "HR",
          "Sales",
          "HR",
          "HR",
          "Marketing",
          "Sales",
          "Sales",
          "Marketing",
          "HR",
          "Marketing",
          "Marketing",
          "HR",
          "Finance",
          "Finance",
          "IT",
          "HR",
          "HR",
          "IT",
          "Marketing",
          "HR",
          "Marketing",
          "Finance",
          "HR",
          "Marketing",
          "HR",
          "HR",
          "HR",
          "Marketing",
          "Marketing",
          "Sales",
          "Sales",
          "Finance",
          "Finance",
          "Finance",
          "Finance",
          "IT",
          "IT",
          "Sales",
          "IT",
          "IT",
          "Sales",
          "IT",
          "Sales",
          "IT",
          "Sales",
          "HR",
          "Finance",
          "Sales",
          "IT",
          "Marketing",
          "HR",
          "HR",
          "Finance",
          "IT",
          "IT",
          "IT",
          "Marketing",
          "Marketing",
          "Marketing",
          "Marketing",
          "Sales",
          "IT",
          "HR",
          "Marketing",
          "Finance",
          "Sales",
          "Marketing",
          "Marketing",
          "HR",
          "Sales",
          "IT",
          "Marketing",
          "Marketing",
          "IT",
          "Finance",
          "HR",
          "Sales",
          "Finance",
          "Sales",
          "Marketing",
          "HR",
          "IT",
          "Sales",
          "IT",
          "Marketing",
          "Sales",
          "Sales",
          "Sales",
          "HR",
          "HR",
          "HR",
          "IT",
          "Marketing",
          "IT",
          "IT",
          "IT",
          "HR",
          "Marketing",
          "Finance",
          "Sales",
          "IT",
          "Sales",
          "IT",
          "IT",
          "Marketing",
          "Finance",
          "HR",
          "Finance",
          "Finance",
          "IT",
          "Sales",
          "Marketing",
          "Finance",
          "HR",
          "Finance",
          "HR",
          "HR",
          "Sales",
          "Finance",
          "Finance",
          "Finance",
          "HR",
          "HR",
          "IT",
          "Finance",
          "HR",
          "HR",
          "Finance",
          "Marketing",
          "HR",
          "Finance",
          "Sales",
          "Marketing",
          "HR",
          "IT"
         ],
         "xaxis": "x",
         "yaxis": "y"
        }
       ],
       "layout": {
        "barmode": "group",
        "legend": {
         "title": {
          "text": "Attrition"
         },
         "tracegroupgap": 0
        },
        "template": {
         "data": {
          "bar": [
           {
            "error_x": {
             "color": "#2a3f5f"
            },
            "error_y": {
             "color": "#2a3f5f"
            },
            "marker": {
             "line": {
              "color": "#E5ECF6",
              "width": 0.5
             },
             "pattern": {
              "fillmode": "overlay",
              "size": 10,
              "solidity": 0.2
             }
            },
            "type": "bar"
           }
          ],
          "barpolar": [
           {
            "marker": {
             "line": {
              "color": "#E5ECF6",
              "width": 0.5
             },
             "pattern": {
              "fillmode": "overlay",
              "size": 10,
              "solidity": 0.2
             }
            },
            "type": "barpolar"
           }
          ],
          "carpet": [
           {
            "aaxis": {
             "endlinecolor": "#2a3f5f",
             "gridcolor": "white",
             "linecolor": "white",
             "minorgridcolor": "white",
             "startlinecolor": "#2a3f5f"
            },
            "baxis": {
             "endlinecolor": "#2a3f5f",
             "gridcolor": "white",
             "linecolor": "white",
             "minorgridcolor": "white",
             "startlinecolor": "#2a3f5f"
            },
            "type": "carpet"
           }
          ],
          "choropleth": [
           {
            "colorbar": {
             "outlinewidth": 0,
             "ticks": ""
            },
            "type": "choropleth"
           }
          ],
          "contour": [
           {
            "colorbar": {
             "outlinewidth": 0,
             "ticks": ""
            },
            "colorscale": [
             [
              0,
              "#0d0887"
             ],
             [
              0.1111111111111111,
              "#46039f"
             ],
             [
              0.2222222222222222,
              "#7201a8"
             ],
             [
              0.3333333333333333,
              "#9c179e"
             ],
             [
              0.4444444444444444,
              "#bd3786"
             ],
             [
              0.5555555555555556,
              "#d8576b"
             ],
             [
              0.6666666666666666,
              "#ed7953"
             ],
             [
              0.7777777777777778,
              "#fb9f3a"
             ],
             [
              0.8888888888888888,
              "#fdca26"
             ],
             [
              1,
              "#f0f921"
             ]
            ],
            "type": "contour"
           }
          ],
          "contourcarpet": [
           {
            "colorbar": {
             "outlinewidth": 0,
             "ticks": ""
            },
            "type": "contourcarpet"
           }
          ],
          "heatmap": [
           {
            "colorbar": {
             "outlinewidth": 0,
             "ticks": ""
            },
            "colorscale": [
             [
              0,
              "#0d0887"
             ],
             [
              0.1111111111111111,
              "#46039f"
             ],
             [
              0.2222222222222222,
              "#7201a8"
             ],
             [
              0.3333333333333333,
              "#9c179e"
             ],
             [
              0.4444444444444444,
              "#bd3786"
             ],
             [
              0.5555555555555556,
              "#d8576b"
             ],
             [
              0.6666666666666666,
              "#ed7953"
             ],
             [
              0.7777777777777778,
              "#fb9f3a"
             ],
             [
              0.8888888888888888,
              "#fdca26"
             ],
             [
              1,
              "#f0f921"
             ]
            ],
            "type": "heatmap"
           }
          ],
          "heatmapgl": [
           {
            "colorbar": {
             "outlinewidth": 0,
             "ticks": ""
            },
            "colorscale": [
             [
              0,
              "#0d0887"
             ],
             [
              0.1111111111111111,
              "#46039f"
             ],
             [
              0.2222222222222222,
              "#7201a8"
             ],
             [
              0.3333333333333333,
              "#9c179e"
             ],
             [
              0.4444444444444444,
              "#bd3786"
             ],
             [
              0.5555555555555556,
              "#d8576b"
             ],
             [
              0.6666666666666666,
              "#ed7953"
             ],
             [
              0.7777777777777778,
              "#fb9f3a"
             ],
             [
              0.8888888888888888,
              "#fdca26"
             ],
             [
              1,
              "#f0f921"
             ]
            ],
            "type": "heatmapgl"
           }
          ],
          "histogram": [
           {
            "marker": {
             "pattern": {
              "fillmode": "overlay",
              "size": 10,
              "solidity": 0.2
             }
            },
            "type": "histogram"
           }
          ],
          "histogram2d": [
           {
            "colorbar": {
             "outlinewidth": 0,
             "ticks": ""
            },
            "colorscale": [
             [
              0,
              "#0d0887"
             ],
             [
              0.1111111111111111,
              "#46039f"
             ],
             [
              0.2222222222222222,
              "#7201a8"
             ],
             [
              0.3333333333333333,
              "#9c179e"
             ],
             [
              0.4444444444444444,
              "#bd3786"
             ],
             [
              0.5555555555555556,
              "#d8576b"
             ],
             [
              0.6666666666666666,
              "#ed7953"
             ],
             [
              0.7777777777777778,
              "#fb9f3a"
             ],
             [
              0.8888888888888888,
              "#fdca26"
             ],
             [
              1,
              "#f0f921"
             ]
            ],
            "type": "histogram2d"
           }
          ],
          "histogram2dcontour": [
           {
            "colorbar": {
             "outlinewidth": 0,
             "ticks": ""
            },
            "colorscale": [
             [
              0,
              "#0d0887"
             ],
             [
              0.1111111111111111,
              "#46039f"
             ],
             [
              0.2222222222222222,
              "#7201a8"
             ],
             [
              0.3333333333333333,
              "#9c179e"
             ],
             [
              0.4444444444444444,
              "#bd3786"
             ],
             [
              0.5555555555555556,
              "#d8576b"
             ],
             [
              0.6666666666666666,
              "#ed7953"
             ],
             [
              0.7777777777777778,
              "#fb9f3a"
             ],
             [
              0.8888888888888888,
              "#fdca26"
             ],
             [
              1,
              "#f0f921"
             ]
            ],
            "type": "histogram2dcontour"
           }
          ],
          "mesh3d": [
           {
            "colorbar": {
             "outlinewidth": 0,
             "ticks": ""
            },
            "type": "mesh3d"
           }
          ],
          "parcoords": [
           {
            "line": {
             "colorbar": {
              "outlinewidth": 0,
              "ticks": ""
             }
            },
            "type": "parcoords"
           }
          ],
          "pie": [
           {
            "automargin": true,
            "type": "pie"
           }
          ],
          "scatter": [
           {
            "fillpattern": {
             "fillmode": "overlay",
             "size": 10,
             "solidity": 0.2
            },
            "type": "scatter"
           }
          ],
          "scatter3d": [
           {
            "line": {
             "colorbar": {
              "outlinewidth": 0,
              "ticks": ""
             }
            },
            "marker": {
             "colorbar": {
              "outlinewidth": 0,
              "ticks": ""
             }
            },
            "type": "scatter3d"
           }
          ],
          "scattercarpet": [
           {
            "marker": {
             "colorbar": {
              "outlinewidth": 0,
              "ticks": ""
             }
            },
            "type": "scattercarpet"
           }
          ],
          "scattergeo": [
           {
            "marker": {
             "colorbar": {
              "outlinewidth": 0,
              "ticks": ""
             }
            },
            "type": "scattergeo"
           }
          ],
          "scattergl": [
           {
            "marker": {
             "colorbar": {
              "outlinewidth": 0,
              "ticks": ""
             }
            },
            "type": "scattergl"
           }
          ],
          "scattermapbox": [
           {
            "marker": {
             "colorbar": {
              "outlinewidth": 0,
              "ticks": ""
             }
            },
            "type": "scattermapbox"
           }
          ],
          "scatterpolar": [
           {
            "marker": {
             "colorbar": {
              "outlinewidth": 0,
              "ticks": ""
             }
            },
            "type": "scatterpolar"
           }
          ],
          "scatterpolargl": [
           {
            "marker": {
             "colorbar": {
              "outlinewidth": 0,
              "ticks": ""
             }
            },
            "type": "scatterpolargl"
           }
          ],
          "scatterternary": [
           {
            "marker": {
             "colorbar": {
              "outlinewidth": 0,
              "ticks": ""
             }
            },
            "type": "scatterternary"
           }
          ],
          "surface": [
           {
            "colorbar": {
             "outlinewidth": 0,
             "ticks": ""
            },
            "colorscale": [
             [
              0,
              "#0d0887"
             ],
             [
              0.1111111111111111,
              "#46039f"
             ],
             [
              0.2222222222222222,
              "#7201a8"
             ],
             [
              0.3333333333333333,
              "#9c179e"
             ],
             [
              0.4444444444444444,
              "#bd3786"
             ],
             [
              0.5555555555555556,
              "#d8576b"
             ],
             [
              0.6666666666666666,
              "#ed7953"
             ],
             [
              0.7777777777777778,
              "#fb9f3a"
             ],
             [
              0.8888888888888888,
              "#fdca26"
             ],
             [
              1,
              "#f0f921"
             ]
            ],
            "type": "surface"
           }
          ],
          "table": [
           {
            "cells": {
             "fill": {
              "color": "#EBF0F8"
             },
             "line": {
              "color": "white"
             }
            },
            "header": {
             "fill": {
              "color": "#C8D4E3"
             },
             "line": {
              "color": "white"
             }
            },
            "type": "table"
           }
          ]
         },
         "layout": {
          "annotationdefaults": {
           "arrowcolor": "#2a3f5f",
           "arrowhead": 0,
           "arrowwidth": 1
          },
          "autotypenumbers": "strict",
          "coloraxis": {
           "colorbar": {
            "outlinewidth": 0,
            "ticks": ""
           }
          },
          "colorscale": {
           "diverging": [
            [
             0,
             "#8e0152"
            ],
            [
             0.1,
             "#c51b7d"
            ],
            [
             0.2,
             "#de77ae"
            ],
            [
             0.3,
             "#f1b6da"
            ],
            [
             0.4,
             "#fde0ef"
            ],
            [
             0.5,
             "#f7f7f7"
            ],
            [
             0.6,
             "#e6f5d0"
            ],
            [
             0.7,
             "#b8e186"
            ],
            [
             0.8,
             "#7fbc41"
            ],
            [
             0.9,
             "#4d9221"
            ],
            [
             1,
             "#276419"
            ]
           ],
           "sequential": [
            [
             0,
             "#0d0887"
            ],
            [
             0.1111111111111111,
             "#46039f"
            ],
            [
             0.2222222222222222,
             "#7201a8"
            ],
            [
             0.3333333333333333,
             "#9c179e"
            ],
            [
             0.4444444444444444,
             "#bd3786"
            ],
            [
             0.5555555555555556,
             "#d8576b"
            ],
            [
             0.6666666666666666,
             "#ed7953"
            ],
            [
             0.7777777777777778,
             "#fb9f3a"
            ],
            [
             0.8888888888888888,
             "#fdca26"
            ],
            [
             1,
             "#f0f921"
            ]
           ],
           "sequentialminus": [
            [
             0,
             "#0d0887"
            ],
            [
             0.1111111111111111,
             "#46039f"
            ],
            [
             0.2222222222222222,
             "#7201a8"
            ],
            [
             0.3333333333333333,
             "#9c179e"
            ],
            [
             0.4444444444444444,
             "#bd3786"
            ],
            [
             0.5555555555555556,
             "#d8576b"
            ],
            [
             0.6666666666666666,
             "#ed7953"
            ],
            [
             0.7777777777777778,
             "#fb9f3a"
            ],
            [
             0.8888888888888888,
             "#fdca26"
            ],
            [
             1,
             "#f0f921"
            ]
           ]
          },
          "colorway": [
           "#636efa",
           "#EF553B",
           "#00cc96",
           "#ab63fa",
           "#FFA15A",
           "#19d3f3",
           "#FF6692",
           "#B6E880",
           "#FF97FF",
           "#FECB52"
          ],
          "font": {
           "color": "#2a3f5f"
          },
          "geo": {
           "bgcolor": "white",
           "lakecolor": "white",
           "landcolor": "#E5ECF6",
           "showlakes": true,
           "showland": true,
           "subunitcolor": "white"
          },
          "hoverlabel": {
           "align": "left"
          },
          "hovermode": "closest",
          "mapbox": {
           "style": "light"
          },
          "paper_bgcolor": "white",
          "plot_bgcolor": "#E5ECF6",
          "polar": {
           "angularaxis": {
            "gridcolor": "white",
            "linecolor": "white",
            "ticks": ""
           },
           "bgcolor": "#E5ECF6",
           "radialaxis": {
            "gridcolor": "white",
            "linecolor": "white",
            "ticks": ""
           }
          },
          "scene": {
           "xaxis": {
            "backgroundcolor": "#E5ECF6",
            "gridcolor": "white",
            "gridwidth": 2,
            "linecolor": "white",
            "showbackground": true,
            "ticks": "",
            "zerolinecolor": "white"
           },
           "yaxis": {
            "backgroundcolor": "#E5ECF6",
            "gridcolor": "white",
            "gridwidth": 2,
            "linecolor": "white",
            "showbackground": true,
            "ticks": "",
            "zerolinecolor": "white"
           },
           "zaxis": {
            "backgroundcolor": "#E5ECF6",
            "gridcolor": "white",
            "gridwidth": 2,
            "linecolor": "white",
            "showbackground": true,
            "ticks": "",
            "zerolinecolor": "white"
           }
          },
          "shapedefaults": {
           "line": {
            "color": "#2a3f5f"
           }
          },
          "ternary": {
           "aaxis": {
            "gridcolor": "white",
            "linecolor": "white",
            "ticks": ""
           },
           "baxis": {
            "gridcolor": "white",
            "linecolor": "white",
            "ticks": ""
           },
           "bgcolor": "#E5ECF6",
           "caxis": {
            "gridcolor": "white",
            "linecolor": "white",
            "ticks": ""
           }
          },
          "title": {
           "x": 0.05
          },
          "xaxis": {
           "automargin": true,
           "gridcolor": "white",
           "linecolor": "white",
           "ticks": "",
           "title": {
            "standoff": 15
           },
           "zerolinecolor": "white",
           "zerolinewidth": 2
          },
          "yaxis": {
           "automargin": true,
           "gridcolor": "white",
           "linecolor": "white",
           "ticks": "",
           "title": {
            "standoff": 15
           },
           "zerolinecolor": "white",
           "zerolinewidth": 2
          }
         }
        },
        "title": {
         "text": "Department vs Attrition"
        },
        "xaxis": {
         "anchor": "y",
         "domain": [
          0,
          1
         ],
         "title": {
          "text": "Department"
         }
        },
        "yaxis": {
         "anchor": "x",
         "domain": [
          0,
          1
         ],
         "title": {
          "text": "count"
         }
        }
       }
      }
     },
     "metadata": {},
     "output_type": "display_data"
    },
    {
     "data": {
      "application/vnd.plotly.v1+json": {
       "config": {
        "plotlyServerURL": "https://plot.ly"
       },
       "data": [
        {
         "alignmentgroup": "True",
         "bingroup": "x",
         "hovertemplate": "Attrition=No<br>Job_Role=%{x}<br>count=%{y}<extra></extra>",
         "legendgroup": "No",
         "marker": {
          "color": "#636efa",
          "pattern": {
           "shape": ""
          }
         },
         "name": "No",
         "offsetgroup": "No",
         "orientation": "v",
         "showlegend": true,
         "type": "histogram",
         "x": [
          "Manager",
          "Assistant",
          "Assistant",
          "Manager",
          "Executive",
          "Assistant",
          "Analyst",
          "Manager",
          "Analyst",
          "Analyst",
          "Analyst",
          "Executive",
          "Assistant",
          "Manager",
          "Analyst",
          "Manager",
          "Analyst",
          "Manager",
          "Analyst",
          "Analyst",
          "Analyst",
          "Analyst",
          "Analyst",
          "Analyst",
          "Manager",
          "Executive",
          "Analyst",
          "Analyst",
          "Analyst",
          "Manager",
          "Assistant",
          "Manager",
          "Assistant",
          "Manager",
          "Manager",
          "Assistant",
          "Executive",
          "Manager",
          "Analyst",
          "Executive",
          "Executive",
          "Analyst",
          "Assistant",
          "Executive",
          "Assistant",
          "Assistant",
          "Assistant",
          "Executive",
          "Analyst",
          "Analyst",
          "Manager",
          "Manager",
          "Executive",
          "Executive",
          "Executive",
          "Analyst",
          "Analyst",
          "Analyst",
          "Analyst",
          "Analyst",
          "Assistant",
          "Assistant",
          "Executive",
          "Manager",
          "Executive",
          "Manager",
          "Analyst",
          "Manager",
          "Executive",
          "Executive",
          "Manager",
          "Assistant",
          "Analyst",
          "Analyst",
          "Executive",
          "Assistant",
          "Analyst",
          "Analyst",
          "Assistant",
          "Assistant",
          "Analyst",
          "Manager",
          "Executive",
          "Manager",
          "Executive",
          "Assistant",
          "Assistant",
          "Analyst",
          "Analyst",
          "Manager",
          "Analyst",
          "Manager",
          "Manager",
          "Assistant",
          "Assistant",
          "Assistant",
          "Assistant",
          "Analyst",
          "Executive",
          "Executive",
          "Manager",
          "Assistant",
          "Analyst",
          "Assistant",
          "Analyst",
          "Executive",
          "Assistant",
          "Assistant",
          "Executive",
          "Analyst",
          "Manager",
          "Executive",
          "Manager",
          "Manager",
          "Executive",
          "Assistant",
          "Manager",
          "Analyst",
          "Manager",
          "Analyst",
          "Assistant",
          "Executive",
          "Analyst",
          "Executive",
          "Manager",
          "Assistant",
          "Manager",
          "Manager",
          "Executive",
          "Manager",
          "Assistant",
          "Manager",
          "Analyst",
          "Executive",
          "Manager",
          "Executive",
          "Analyst",
          "Manager",
          "Analyst",
          "Manager",
          "Manager",
          "Assistant",
          "Manager",
          "Analyst",
          "Manager",
          "Analyst",
          "Manager",
          "Analyst",
          "Analyst",
          "Manager",
          "Assistant",
          "Assistant",
          "Executive",
          "Analyst",
          "Executive",
          "Manager",
          "Manager",
          "Analyst",
          "Manager",
          "Manager",
          "Analyst",
          "Assistant",
          "Manager",
          "Manager",
          "Assistant",
          "Manager",
          "Assistant",
          "Assistant",
          "Executive",
          "Manager",
          "Assistant",
          "Analyst",
          "Executive",
          "Executive",
          "Assistant",
          "Executive",
          "Executive",
          "Executive",
          "Executive",
          "Analyst",
          "Assistant",
          "Manager",
          "Manager",
          "Analyst",
          "Assistant",
          "Executive",
          "Analyst",
          "Assistant",
          "Analyst",
          "Manager",
          "Manager",
          "Assistant",
          "Assistant",
          "Executive",
          "Assistant",
          "Executive",
          "Assistant",
          "Analyst",
          "Manager",
          "Executive",
          "Assistant",
          "Analyst",
          "Executive",
          "Executive",
          "Manager",
          "Manager",
          "Executive",
          "Executive",
          "Assistant",
          "Executive",
          "Assistant",
          "Executive",
          "Manager",
          "Assistant",
          "Analyst",
          "Manager",
          "Assistant",
          "Analyst",
          "Executive",
          "Analyst",
          "Manager",
          "Executive",
          "Manager",
          "Assistant",
          "Assistant",
          "Executive",
          "Manager",
          "Manager",
          "Executive",
          "Analyst",
          "Manager",
          "Analyst",
          "Manager",
          "Manager",
          "Manager",
          "Assistant",
          "Analyst",
          "Analyst",
          "Manager",
          "Assistant",
          "Executive",
          "Executive",
          "Analyst",
          "Manager",
          "Manager",
          "Assistant",
          "Executive",
          "Assistant",
          "Analyst",
          "Executive",
          "Assistant",
          "Assistant",
          "Assistant",
          "Executive",
          "Assistant",
          "Executive",
          "Manager",
          "Manager",
          "Manager",
          "Executive",
          "Analyst",
          "Analyst",
          "Manager",
          "Manager",
          "Assistant",
          "Executive",
          "Executive",
          "Analyst",
          "Assistant",
          "Analyst",
          "Assistant",
          "Executive",
          "Assistant",
          "Analyst",
          "Manager",
          "Analyst",
          "Manager",
          "Assistant",
          "Manager",
          "Assistant",
          "Executive",
          "Executive",
          "Executive",
          "Analyst",
          "Analyst",
          "Assistant",
          "Executive",
          "Analyst",
          "Manager",
          "Manager",
          "Executive",
          "Assistant",
          "Analyst",
          "Manager",
          "Manager",
          "Assistant",
          "Assistant",
          "Executive",
          "Manager",
          "Manager",
          "Analyst",
          "Manager",
          "Manager",
          "Executive",
          "Executive",
          "Assistant",
          "Manager",
          "Executive",
          "Analyst",
          "Assistant",
          "Assistant",
          "Executive",
          "Executive",
          "Analyst",
          "Manager",
          "Executive",
          "Analyst",
          "Manager",
          "Analyst",
          "Analyst",
          "Executive",
          "Manager",
          "Manager",
          "Manager",
          "Manager",
          "Analyst",
          "Analyst",
          "Assistant",
          "Manager",
          "Executive",
          "Manager",
          "Manager",
          "Executive",
          "Assistant",
          "Manager",
          "Analyst",
          "Executive",
          "Assistant",
          "Assistant",
          "Assistant",
          "Assistant",
          "Analyst",
          "Manager",
          "Executive",
          "Executive",
          "Assistant",
          "Executive",
          "Assistant",
          "Analyst",
          "Manager",
          "Analyst",
          "Analyst",
          "Executive",
          "Assistant",
          "Assistant",
          "Executive",
          "Manager",
          "Executive",
          "Analyst",
          "Manager",
          "Manager",
          "Manager",
          "Assistant",
          "Executive",
          "Manager",
          "Manager",
          "Executive",
          "Analyst",
          "Assistant",
          "Manager",
          "Assistant",
          "Assistant",
          "Analyst",
          "Executive",
          "Executive",
          "Assistant",
          "Assistant",
          "Analyst",
          "Manager",
          "Assistant",
          "Executive",
          "Assistant",
          "Assistant",
          "Executive",
          "Analyst",
          "Assistant",
          "Analyst",
          "Executive",
          "Manager",
          "Executive",
          "Analyst",
          "Executive",
          "Executive",
          "Analyst",
          "Executive",
          "Executive",
          "Executive",
          "Assistant",
          "Assistant",
          "Assistant",
          "Assistant",
          "Manager",
          "Manager",
          "Assistant",
          "Executive",
          "Executive",
          "Manager",
          "Analyst",
          "Manager",
          "Manager",
          "Manager",
          "Assistant",
          "Analyst",
          "Manager",
          "Assistant",
          "Analyst",
          "Analyst",
          "Assistant",
          "Manager",
          "Executive",
          "Analyst",
          "Manager",
          "Executive",
          "Analyst",
          "Analyst",
          "Executive",
          "Executive",
          "Assistant",
          "Manager",
          "Assistant",
          "Analyst",
          "Executive",
          "Executive",
          "Executive",
          "Analyst",
          "Executive",
          "Executive",
          "Manager",
          "Assistant",
          "Assistant",
          "Assistant",
          "Analyst",
          "Executive",
          "Analyst",
          "Manager",
          "Manager",
          "Assistant",
          "Analyst",
          "Analyst",
          "Manager",
          "Analyst",
          "Analyst",
          "Analyst",
          "Analyst",
          "Assistant",
          "Manager",
          "Manager",
          "Analyst",
          "Analyst",
          "Assistant",
          "Manager",
          "Manager",
          "Manager",
          "Assistant",
          "Executive",
          "Executive",
          "Executive",
          "Analyst",
          "Analyst",
          "Manager",
          "Executive",
          "Analyst",
          "Assistant",
          "Assistant",
          "Analyst",
          "Analyst",
          "Analyst",
          "Analyst",
          "Executive",
          "Executive",
          "Executive",
          "Manager",
          "Analyst",
          "Assistant",
          "Manager",
          "Analyst",
          "Assistant",
          "Assistant",
          "Executive",
          "Executive",
          "Analyst",
          "Manager",
          "Analyst",
          "Analyst",
          "Executive",
          "Analyst",
          "Manager",
          "Assistant",
          "Assistant",
          "Analyst",
          "Manager",
          "Executive",
          "Assistant",
          "Analyst",
          "Manager",
          "Assistant",
          "Manager",
          "Executive",
          "Analyst",
          "Manager",
          "Analyst",
          "Manager",
          "Executive",
          "Executive",
          "Analyst",
          "Executive",
          "Manager",
          "Assistant",
          "Analyst",
          "Assistant",
          "Analyst",
          "Manager",
          "Manager",
          "Assistant",
          "Manager",
          "Manager",
          "Assistant",
          "Executive",
          "Manager",
          "Manager",
          "Executive",
          "Manager",
          "Analyst",
          "Assistant",
          "Manager",
          "Analyst",
          "Assistant",
          "Assistant",
          "Analyst",
          "Assistant",
          "Analyst",
          "Manager",
          "Analyst",
          "Analyst",
          "Executive",
          "Assistant",
          "Executive",
          "Manager",
          "Executive",
          "Assistant",
          "Executive",
          "Executive",
          "Assistant",
          "Manager",
          "Executive",
          "Manager",
          "Executive",
          "Analyst",
          "Executive",
          "Assistant",
          "Assistant",
          "Executive",
          "Manager",
          "Manager",
          "Analyst",
          "Analyst",
          "Manager",
          "Assistant",
          "Executive",
          "Manager",
          "Executive",
          "Executive",
          "Assistant",
          "Assistant",
          "Executive",
          "Assistant",
          "Executive",
          "Manager",
          "Analyst",
          "Manager",
          "Executive",
          "Assistant",
          "Analyst",
          "Assistant",
          "Executive",
          "Manager",
          "Analyst",
          "Executive",
          "Analyst",
          "Manager",
          "Executive",
          "Assistant",
          "Analyst",
          "Analyst",
          "Assistant",
          "Executive",
          "Analyst",
          "Analyst",
          "Executive",
          "Executive",
          "Assistant",
          "Executive",
          "Executive",
          "Manager",
          "Assistant",
          "Analyst",
          "Executive",
          "Analyst",
          "Analyst",
          "Executive",
          "Assistant",
          "Executive",
          "Analyst",
          "Assistant",
          "Analyst",
          "Analyst",
          "Manager",
          "Manager",
          "Manager",
          "Analyst",
          "Executive",
          "Manager",
          "Assistant",
          "Manager",
          "Analyst",
          "Manager",
          "Manager",
          "Analyst",
          "Assistant",
          "Executive",
          "Manager",
          "Manager",
          "Executive",
          "Executive",
          "Analyst",
          "Analyst",
          "Assistant",
          "Assistant",
          "Analyst",
          "Assistant",
          "Executive",
          "Executive",
          "Assistant",
          "Analyst",
          "Executive",
          "Analyst",
          "Assistant",
          "Executive",
          "Analyst",
          "Assistant",
          "Analyst",
          "Assistant",
          "Executive",
          "Manager",
          "Executive",
          "Assistant",
          "Assistant",
          "Executive",
          "Manager",
          "Executive",
          "Executive",
          "Analyst",
          "Analyst",
          "Analyst",
          "Manager",
          "Analyst",
          "Manager",
          "Assistant",
          "Manager",
          "Manager",
          "Manager",
          "Analyst",
          "Analyst",
          "Executive",
          "Executive",
          "Manager",
          "Executive",
          "Executive",
          "Executive",
          "Assistant",
          "Manager",
          "Assistant",
          "Assistant",
          "Executive",
          "Assistant",
          "Analyst",
          "Executive",
          "Manager",
          "Manager",
          "Executive",
          "Analyst",
          "Manager",
          "Manager",
          "Executive",
          "Analyst",
          "Assistant",
          "Executive",
          "Manager",
          "Assistant",
          "Analyst",
          "Analyst",
          "Manager",
          "Analyst",
          "Analyst",
          "Assistant",
          "Manager",
          "Manager",
          "Manager",
          "Manager",
          "Manager",
          "Analyst",
          "Executive",
          "Manager",
          "Executive",
          "Executive",
          "Analyst",
          "Manager",
          "Manager",
          "Analyst",
          "Manager",
          "Assistant",
          "Executive",
          "Assistant",
          "Executive",
          "Analyst",
          "Manager",
          "Executive",
          "Analyst",
          "Manager",
          "Manager",
          "Executive",
          "Manager",
          "Manager",
          "Assistant",
          "Analyst",
          "Assistant",
          "Manager",
          "Manager",
          "Executive",
          "Assistant",
          "Manager",
          "Analyst",
          "Analyst",
          "Assistant",
          "Analyst",
          "Analyst",
          "Manager",
          "Analyst",
          "Manager",
          "Analyst",
          "Executive",
          "Assistant",
          "Analyst",
          "Executive",
          "Analyst",
          "Analyst",
          "Executive",
          "Assistant",
          "Analyst",
          "Manager",
          "Analyst",
          "Assistant",
          "Executive",
          "Analyst",
          "Executive",
          "Executive",
          "Analyst",
          "Executive",
          "Analyst",
          "Analyst",
          "Assistant",
          "Assistant",
          "Assistant",
          "Executive",
          "Manager",
          "Manager",
          "Manager",
          "Analyst",
          "Manager",
          "Executive",
          "Executive",
          "Assistant",
          "Executive",
          "Analyst",
          "Manager",
          "Analyst",
          "Analyst",
          "Executive",
          "Manager",
          "Analyst",
          "Manager",
          "Analyst",
          "Manager",
          "Assistant",
          "Executive",
          "Manager",
          "Manager",
          "Assistant",
          "Manager",
          "Manager",
          "Executive",
          "Assistant",
          "Assistant",
          "Analyst",
          "Executive",
          "Manager",
          "Manager",
          "Analyst",
          "Executive",
          "Executive",
          "Analyst"
         ],
         "xaxis": "x",
         "yaxis": "y"
        },
        {
         "alignmentgroup": "True",
         "bingroup": "x",
         "hovertemplate": "Attrition=Yes<br>Job_Role=%{x}<br>count=%{y}<extra></extra>",
         "legendgroup": "Yes",
         "marker": {
          "color": "#EF553B",
          "pattern": {
           "shape": ""
          }
         },
         "name": "Yes",
         "offsetgroup": "Yes",
         "orientation": "v",
         "showlegend": true,
         "type": "histogram",
         "x": [
          "Executive",
          "Analyst",
          "Analyst",
          "Analyst",
          "Executive",
          "Assistant",
          "Executive",
          "Assistant",
          "Assistant",
          "Manager",
          "Assistant",
          "Assistant",
          "Manager",
          "Assistant",
          "Executive",
          "Analyst",
          "Manager",
          "Assistant",
          "Executive",
          "Executive",
          "Assistant",
          "Analyst",
          "Manager",
          "Assistant",
          "Manager",
          "Assistant",
          "Executive",
          "Executive",
          "Assistant",
          "Executive",
          "Executive",
          "Analyst",
          "Assistant",
          "Executive",
          "Assistant",
          "Executive",
          "Manager",
          "Analyst",
          "Manager",
          "Executive",
          "Executive",
          "Manager",
          "Executive",
          "Assistant",
          "Manager",
          "Analyst",
          "Assistant",
          "Assistant",
          "Manager",
          "Manager",
          "Manager",
          "Analyst",
          "Executive",
          "Analyst",
          "Executive",
          "Analyst",
          "Analyst",
          "Analyst",
          "Manager",
          "Executive",
          "Executive",
          "Assistant",
          "Executive",
          "Analyst",
          "Analyst",
          "Assistant",
          "Executive",
          "Manager",
          "Manager",
          "Manager",
          "Assistant",
          "Executive",
          "Executive",
          "Executive",
          "Manager",
          "Manager",
          "Assistant",
          "Executive",
          "Manager",
          "Assistant",
          "Assistant",
          "Executive",
          "Manager",
          "Executive",
          "Assistant",
          "Analyst",
          "Manager",
          "Manager",
          "Assistant",
          "Executive",
          "Executive",
          "Manager",
          "Assistant",
          "Assistant",
          "Assistant",
          "Analyst",
          "Analyst",
          "Manager",
          "Manager",
          "Assistant",
          "Analyst",
          "Executive",
          "Manager",
          "Manager",
          "Assistant",
          "Analyst",
          "Manager",
          "Manager",
          "Manager",
          "Analyst",
          "Executive",
          "Assistant",
          "Executive",
          "Executive",
          "Executive",
          "Assistant",
          "Executive",
          "Analyst",
          "Analyst",
          "Executive",
          "Executive",
          "Manager",
          "Executive",
          "Assistant",
          "Assistant",
          "Executive",
          "Analyst",
          "Manager",
          "Assistant",
          "Manager",
          "Analyst",
          "Analyst",
          "Executive",
          "Analyst",
          "Manager",
          "Manager",
          "Assistant",
          "Manager",
          "Manager",
          "Analyst",
          "Analyst",
          "Manager",
          "Executive",
          "Executive",
          "Manager",
          "Assistant",
          "Analyst",
          "Analyst",
          "Assistant",
          "Manager",
          "Analyst",
          "Manager",
          "Manager",
          "Analyst",
          "Assistant",
          "Manager",
          "Analyst",
          "Assistant",
          "Manager",
          "Assistant",
          "Manager",
          "Assistant",
          "Manager",
          "Assistant",
          "Assistant",
          "Assistant",
          "Executive",
          "Analyst",
          "Executive",
          "Executive",
          "Assistant",
          "Executive",
          "Executive",
          "Manager",
          "Analyst",
          "Analyst",
          "Analyst",
          "Assistant",
          "Executive",
          "Executive",
          "Executive",
          "Executive",
          "Executive",
          "Analyst",
          "Manager",
          "Manager",
          "Assistant",
          "Manager",
          "Manager"
         ],
         "xaxis": "x",
         "yaxis": "y"
        }
       ],
       "layout": {
        "barmode": "group",
        "legend": {
         "title": {
          "text": "Attrition"
         },
         "tracegroupgap": 0
        },
        "template": {
         "data": {
          "bar": [
           {
            "error_x": {
             "color": "#2a3f5f"
            },
            "error_y": {
             "color": "#2a3f5f"
            },
            "marker": {
             "line": {
              "color": "#E5ECF6",
              "width": 0.5
             },
             "pattern": {
              "fillmode": "overlay",
              "size": 10,
              "solidity": 0.2
             }
            },
            "type": "bar"
           }
          ],
          "barpolar": [
           {
            "marker": {
             "line": {
              "color": "#E5ECF6",
              "width": 0.5
             },
             "pattern": {
              "fillmode": "overlay",
              "size": 10,
              "solidity": 0.2
             }
            },
            "type": "barpolar"
           }
          ],
          "carpet": [
           {
            "aaxis": {
             "endlinecolor": "#2a3f5f",
             "gridcolor": "white",
             "linecolor": "white",
             "minorgridcolor": "white",
             "startlinecolor": "#2a3f5f"
            },
            "baxis": {
             "endlinecolor": "#2a3f5f",
             "gridcolor": "white",
             "linecolor": "white",
             "minorgridcolor": "white",
             "startlinecolor": "#2a3f5f"
            },
            "type": "carpet"
           }
          ],
          "choropleth": [
           {
            "colorbar": {
             "outlinewidth": 0,
             "ticks": ""
            },
            "type": "choropleth"
           }
          ],
          "contour": [
           {
            "colorbar": {
             "outlinewidth": 0,
             "ticks": ""
            },
            "colorscale": [
             [
              0,
              "#0d0887"
             ],
             [
              0.1111111111111111,
              "#46039f"
             ],
             [
              0.2222222222222222,
              "#7201a8"
             ],
             [
              0.3333333333333333,
              "#9c179e"
             ],
             [
              0.4444444444444444,
              "#bd3786"
             ],
             [
              0.5555555555555556,
              "#d8576b"
             ],
             [
              0.6666666666666666,
              "#ed7953"
             ],
             [
              0.7777777777777778,
              "#fb9f3a"
             ],
             [
              0.8888888888888888,
              "#fdca26"
             ],
             [
              1,
              "#f0f921"
             ]
            ],
            "type": "contour"
           }
          ],
          "contourcarpet": [
           {
            "colorbar": {
             "outlinewidth": 0,
             "ticks": ""
            },
            "type": "contourcarpet"
           }
          ],
          "heatmap": [
           {
            "colorbar": {
             "outlinewidth": 0,
             "ticks": ""
            },
            "colorscale": [
             [
              0,
              "#0d0887"
             ],
             [
              0.1111111111111111,
              "#46039f"
             ],
             [
              0.2222222222222222,
              "#7201a8"
             ],
             [
              0.3333333333333333,
              "#9c179e"
             ],
             [
              0.4444444444444444,
              "#bd3786"
             ],
             [
              0.5555555555555556,
              "#d8576b"
             ],
             [
              0.6666666666666666,
              "#ed7953"
             ],
             [
              0.7777777777777778,
              "#fb9f3a"
             ],
             [
              0.8888888888888888,
              "#fdca26"
             ],
             [
              1,
              "#f0f921"
             ]
            ],
            "type": "heatmap"
           }
          ],
          "heatmapgl": [
           {
            "colorbar": {
             "outlinewidth": 0,
             "ticks": ""
            },
            "colorscale": [
             [
              0,
              "#0d0887"
             ],
             [
              0.1111111111111111,
              "#46039f"
             ],
             [
              0.2222222222222222,
              "#7201a8"
             ],
             [
              0.3333333333333333,
              "#9c179e"
             ],
             [
              0.4444444444444444,
              "#bd3786"
             ],
             [
              0.5555555555555556,
              "#d8576b"
             ],
             [
              0.6666666666666666,
              "#ed7953"
             ],
             [
              0.7777777777777778,
              "#fb9f3a"
             ],
             [
              0.8888888888888888,
              "#fdca26"
             ],
             [
              1,
              "#f0f921"
             ]
            ],
            "type": "heatmapgl"
           }
          ],
          "histogram": [
           {
            "marker": {
             "pattern": {
              "fillmode": "overlay",
              "size": 10,
              "solidity": 0.2
             }
            },
            "type": "histogram"
           }
          ],
          "histogram2d": [
           {
            "colorbar": {
             "outlinewidth": 0,
             "ticks": ""
            },
            "colorscale": [
             [
              0,
              "#0d0887"
             ],
             [
              0.1111111111111111,
              "#46039f"
             ],
             [
              0.2222222222222222,
              "#7201a8"
             ],
             [
              0.3333333333333333,
              "#9c179e"
             ],
             [
              0.4444444444444444,
              "#bd3786"
             ],
             [
              0.5555555555555556,
              "#d8576b"
             ],
             [
              0.6666666666666666,
              "#ed7953"
             ],
             [
              0.7777777777777778,
              "#fb9f3a"
             ],
             [
              0.8888888888888888,
              "#fdca26"
             ],
             [
              1,
              "#f0f921"
             ]
            ],
            "type": "histogram2d"
           }
          ],
          "histogram2dcontour": [
           {
            "colorbar": {
             "outlinewidth": 0,
             "ticks": ""
            },
            "colorscale": [
             [
              0,
              "#0d0887"
             ],
             [
              0.1111111111111111,
              "#46039f"
             ],
             [
              0.2222222222222222,
              "#7201a8"
             ],
             [
              0.3333333333333333,
              "#9c179e"
             ],
             [
              0.4444444444444444,
              "#bd3786"
             ],
             [
              0.5555555555555556,
              "#d8576b"
             ],
             [
              0.6666666666666666,
              "#ed7953"
             ],
             [
              0.7777777777777778,
              "#fb9f3a"
             ],
             [
              0.8888888888888888,
              "#fdca26"
             ],
             [
              1,
              "#f0f921"
             ]
            ],
            "type": "histogram2dcontour"
           }
          ],
          "mesh3d": [
           {
            "colorbar": {
             "outlinewidth": 0,
             "ticks": ""
            },
            "type": "mesh3d"
           }
          ],
          "parcoords": [
           {
            "line": {
             "colorbar": {
              "outlinewidth": 0,
              "ticks": ""
             }
            },
            "type": "parcoords"
           }
          ],
          "pie": [
           {
            "automargin": true,
            "type": "pie"
           }
          ],
          "scatter": [
           {
            "fillpattern": {
             "fillmode": "overlay",
             "size": 10,
             "solidity": 0.2
            },
            "type": "scatter"
           }
          ],
          "scatter3d": [
           {
            "line": {
             "colorbar": {
              "outlinewidth": 0,
              "ticks": ""
             }
            },
            "marker": {
             "colorbar": {
              "outlinewidth": 0,
              "ticks": ""
             }
            },
            "type": "scatter3d"
           }
          ],
          "scattercarpet": [
           {
            "marker": {
             "colorbar": {
              "outlinewidth": 0,
              "ticks": ""
             }
            },
            "type": "scattercarpet"
           }
          ],
          "scattergeo": [
           {
            "marker": {
             "colorbar": {
              "outlinewidth": 0,
              "ticks": ""
             }
            },
            "type": "scattergeo"
           }
          ],
          "scattergl": [
           {
            "marker": {
             "colorbar": {
              "outlinewidth": 0,
              "ticks": ""
             }
            },
            "type": "scattergl"
           }
          ],
          "scattermapbox": [
           {
            "marker": {
             "colorbar": {
              "outlinewidth": 0,
              "ticks": ""
             }
            },
            "type": "scattermapbox"
           }
          ],
          "scatterpolar": [
           {
            "marker": {
             "colorbar": {
              "outlinewidth": 0,
              "ticks": ""
             }
            },
            "type": "scatterpolar"
           }
          ],
          "scatterpolargl": [
           {
            "marker": {
             "colorbar": {
              "outlinewidth": 0,
              "ticks": ""
             }
            },
            "type": "scatterpolargl"
           }
          ],
          "scatterternary": [
           {
            "marker": {
             "colorbar": {
              "outlinewidth": 0,
              "ticks": ""
             }
            },
            "type": "scatterternary"
           }
          ],
          "surface": [
           {
            "colorbar": {
             "outlinewidth": 0,
             "ticks": ""
            },
            "colorscale": [
             [
              0,
              "#0d0887"
             ],
             [
              0.1111111111111111,
              "#46039f"
             ],
             [
              0.2222222222222222,
              "#7201a8"
             ],
             [
              0.3333333333333333,
              "#9c179e"
             ],
             [
              0.4444444444444444,
              "#bd3786"
             ],
             [
              0.5555555555555556,
              "#d8576b"
             ],
             [
              0.6666666666666666,
              "#ed7953"
             ],
             [
              0.7777777777777778,
              "#fb9f3a"
             ],
             [
              0.8888888888888888,
              "#fdca26"
             ],
             [
              1,
              "#f0f921"
             ]
            ],
            "type": "surface"
           }
          ],
          "table": [
           {
            "cells": {
             "fill": {
              "color": "#EBF0F8"
             },
             "line": {
              "color": "white"
             }
            },
            "header": {
             "fill": {
              "color": "#C8D4E3"
             },
             "line": {
              "color": "white"
             }
            },
            "type": "table"
           }
          ]
         },
         "layout": {
          "annotationdefaults": {
           "arrowcolor": "#2a3f5f",
           "arrowhead": 0,
           "arrowwidth": 1
          },
          "autotypenumbers": "strict",
          "coloraxis": {
           "colorbar": {
            "outlinewidth": 0,
            "ticks": ""
           }
          },
          "colorscale": {
           "diverging": [
            [
             0,
             "#8e0152"
            ],
            [
             0.1,
             "#c51b7d"
            ],
            [
             0.2,
             "#de77ae"
            ],
            [
             0.3,
             "#f1b6da"
            ],
            [
             0.4,
             "#fde0ef"
            ],
            [
             0.5,
             "#f7f7f7"
            ],
            [
             0.6,
             "#e6f5d0"
            ],
            [
             0.7,
             "#b8e186"
            ],
            [
             0.8,
             "#7fbc41"
            ],
            [
             0.9,
             "#4d9221"
            ],
            [
             1,
             "#276419"
            ]
           ],
           "sequential": [
            [
             0,
             "#0d0887"
            ],
            [
             0.1111111111111111,
             "#46039f"
            ],
            [
             0.2222222222222222,
             "#7201a8"
            ],
            [
             0.3333333333333333,
             "#9c179e"
            ],
            [
             0.4444444444444444,
             "#bd3786"
            ],
            [
             0.5555555555555556,
             "#d8576b"
            ],
            [
             0.6666666666666666,
             "#ed7953"
            ],
            [
             0.7777777777777778,
             "#fb9f3a"
            ],
            [
             0.8888888888888888,
             "#fdca26"
            ],
            [
             1,
             "#f0f921"
            ]
           ],
           "sequentialminus": [
            [
             0,
             "#0d0887"
            ],
            [
             0.1111111111111111,
             "#46039f"
            ],
            [
             0.2222222222222222,
             "#7201a8"
            ],
            [
             0.3333333333333333,
             "#9c179e"
            ],
            [
             0.4444444444444444,
             "#bd3786"
            ],
            [
             0.5555555555555556,
             "#d8576b"
            ],
            [
             0.6666666666666666,
             "#ed7953"
            ],
            [
             0.7777777777777778,
             "#fb9f3a"
            ],
            [
             0.8888888888888888,
             "#fdca26"
            ],
            [
             1,
             "#f0f921"
            ]
           ]
          },
          "colorway": [
           "#636efa",
           "#EF553B",
           "#00cc96",
           "#ab63fa",
           "#FFA15A",
           "#19d3f3",
           "#FF6692",
           "#B6E880",
           "#FF97FF",
           "#FECB52"
          ],
          "font": {
           "color": "#2a3f5f"
          },
          "geo": {
           "bgcolor": "white",
           "lakecolor": "white",
           "landcolor": "#E5ECF6",
           "showlakes": true,
           "showland": true,
           "subunitcolor": "white"
          },
          "hoverlabel": {
           "align": "left"
          },
          "hovermode": "closest",
          "mapbox": {
           "style": "light"
          },
          "paper_bgcolor": "white",
          "plot_bgcolor": "#E5ECF6",
          "polar": {
           "angularaxis": {
            "gridcolor": "white",
            "linecolor": "white",
            "ticks": ""
           },
           "bgcolor": "#E5ECF6",
           "radialaxis": {
            "gridcolor": "white",
            "linecolor": "white",
            "ticks": ""
           }
          },
          "scene": {
           "xaxis": {
            "backgroundcolor": "#E5ECF6",
            "gridcolor": "white",
            "gridwidth": 2,
            "linecolor": "white",
            "showbackground": true,
            "ticks": "",
            "zerolinecolor": "white"
           },
           "yaxis": {
            "backgroundcolor": "#E5ECF6",
            "gridcolor": "white",
            "gridwidth": 2,
            "linecolor": "white",
            "showbackground": true,
            "ticks": "",
            "zerolinecolor": "white"
           },
           "zaxis": {
            "backgroundcolor": "#E5ECF6",
            "gridcolor": "white",
            "gridwidth": 2,
            "linecolor": "white",
            "showbackground": true,
            "ticks": "",
            "zerolinecolor": "white"
           }
          },
          "shapedefaults": {
           "line": {
            "color": "#2a3f5f"
           }
          },
          "ternary": {
           "aaxis": {
            "gridcolor": "white",
            "linecolor": "white",
            "ticks": ""
           },
           "baxis": {
            "gridcolor": "white",
            "linecolor": "white",
            "ticks": ""
           },
           "bgcolor": "#E5ECF6",
           "caxis": {
            "gridcolor": "white",
            "linecolor": "white",
            "ticks": ""
           }
          },
          "title": {
           "x": 0.05
          },
          "xaxis": {
           "automargin": true,
           "gridcolor": "white",
           "linecolor": "white",
           "ticks": "",
           "title": {
            "standoff": 15
           },
           "zerolinecolor": "white",
           "zerolinewidth": 2
          },
          "yaxis": {
           "automargin": true,
           "gridcolor": "white",
           "linecolor": "white",
           "ticks": "",
           "title": {
            "standoff": 15
           },
           "zerolinecolor": "white",
           "zerolinewidth": 2
          }
         }
        },
        "title": {
         "text": "Job_Role vs Attrition"
        },
        "xaxis": {
         "anchor": "y",
         "domain": [
          0,
          1
         ],
         "title": {
          "text": "Job_Role"
         }
        },
        "yaxis": {
         "anchor": "x",
         "domain": [
          0,
          1
         ],
         "title": {
          "text": "count"
         }
        }
       }
      }
     },
     "metadata": {},
     "output_type": "display_data"
    },
    {
     "data": {
      "application/vnd.plotly.v1+json": {
       "config": {
        "plotlyServerURL": "https://plot.ly"
       },
       "data": [
        {
         "alignmentgroup": "True",
         "bingroup": "x",
         "hovertemplate": "Attrition=No<br>Overtime=%{x}<br>count=%{y}<extra></extra>",
         "legendgroup": "No",
         "marker": {
          "color": "#636efa",
          "pattern": {
           "shape": ""
          }
         },
         "name": "No",
         "offsetgroup": "No",
         "orientation": "v",
         "showlegend": true,
         "type": "histogram",
         "x": [
          "No",
          "Yes",
          "Yes",
          "No",
          "No",
          "No",
          "No",
          "No",
          "Yes",
          "No",
          "No",
          "No",
          "Yes",
          "No",
          "Yes",
          "Yes",
          "Yes",
          "No",
          "No",
          "No",
          "No",
          "No",
          "Yes",
          "No",
          "No",
          "Yes",
          "Yes",
          "Yes",
          "Yes",
          "No",
          "Yes",
          "No",
          "Yes",
          "No",
          "No",
          "Yes",
          "No",
          "Yes",
          "Yes",
          "No",
          "Yes",
          "No",
          "No",
          "No",
          "No",
          "Yes",
          "Yes",
          "Yes",
          "No",
          "No",
          "Yes",
          "No",
          "No",
          "Yes",
          "No",
          "No",
          "No",
          "No",
          "Yes",
          "No",
          "Yes",
          "No",
          "No",
          "Yes",
          "Yes",
          "No",
          "No",
          "Yes",
          "No",
          "Yes",
          "Yes",
          "Yes",
          "No",
          "No",
          "Yes",
          "Yes",
          "Yes",
          "Yes",
          "No",
          "Yes",
          "No",
          "No",
          "No",
          "Yes",
          "Yes",
          "No",
          "Yes",
          "Yes",
          "Yes",
          "Yes",
          "Yes",
          "Yes",
          "No",
          "Yes",
          "No",
          "No",
          "Yes",
          "No",
          "No",
          "Yes",
          "No",
          "Yes",
          "No",
          "Yes",
          "Yes",
          "Yes",
          "No",
          "Yes",
          "Yes",
          "No",
          "Yes",
          "Yes",
          "No",
          "Yes",
          "No",
          "Yes",
          "No",
          "Yes",
          "Yes",
          "Yes",
          "No",
          "Yes",
          "No",
          "Yes",
          "Yes",
          "No",
          "Yes",
          "Yes",
          "No",
          "Yes",
          "No",
          "Yes",
          "No",
          "Yes",
          "Yes",
          "No",
          "Yes",
          "No",
          "Yes",
          "Yes",
          "No",
          "No",
          "Yes",
          "No",
          "Yes",
          "Yes",
          "Yes",
          "No",
          "No",
          "Yes",
          "No",
          "Yes",
          "Yes",
          "No",
          "Yes",
          "Yes",
          "Yes",
          "No",
          "No",
          "Yes",
          "No",
          "Yes",
          "No",
          "No",
          "Yes",
          "Yes",
          "Yes",
          "No",
          "Yes",
          "Yes",
          "Yes",
          "No",
          "No",
          "No",
          "Yes",
          "No",
          "Yes",
          "No",
          "No",
          "No",
          "No",
          "Yes",
          "No",
          "Yes",
          "No",
          "No",
          "No",
          "No",
          "Yes",
          "Yes",
          "No",
          "Yes",
          "No",
          "Yes",
          "Yes",
          "Yes",
          "No",
          "No",
          "Yes",
          "No",
          "Yes",
          "Yes",
          "Yes",
          "No",
          "No",
          "No",
          "No",
          "No",
          "No",
          "Yes",
          "No",
          "Yes",
          "Yes",
          "No",
          "Yes",
          "Yes",
          "Yes",
          "No",
          "No",
          "Yes",
          "Yes",
          "Yes",
          "No",
          "No",
          "No",
          "No",
          "No",
          "Yes",
          "Yes",
          "Yes",
          "No",
          "No",
          "Yes",
          "Yes",
          "Yes",
          "No",
          "Yes",
          "No",
          "Yes",
          "No",
          "No",
          "Yes",
          "Yes",
          "Yes",
          "No",
          "Yes",
          "Yes",
          "Yes",
          "No",
          "No",
          "Yes",
          "Yes",
          "Yes",
          "No",
          "No",
          "No",
          "No",
          "Yes",
          "Yes",
          "No",
          "Yes",
          "Yes",
          "No",
          "No",
          "No",
          "No",
          "Yes",
          "No",
          "Yes",
          "Yes",
          "Yes",
          "No",
          "No",
          "No",
          "Yes",
          "Yes",
          "Yes",
          "No",
          "Yes",
          "Yes",
          "No",
          "No",
          "Yes",
          "No",
          "No",
          "No",
          "Yes",
          "Yes",
          "Yes",
          "Yes",
          "No",
          "Yes",
          "Yes",
          "No",
          "No",
          "No",
          "No",
          "No",
          "Yes",
          "Yes",
          "No",
          "Yes",
          "Yes",
          "No",
          "No",
          "No",
          "No",
          "Yes",
          "No",
          "No",
          "Yes",
          "No",
          "Yes",
          "Yes",
          "No",
          "No",
          "No",
          "Yes",
          "No",
          "No",
          "No",
          "Yes",
          "No",
          "Yes",
          "No",
          "No",
          "No",
          "No",
          "No",
          "No",
          "No",
          "No",
          "No",
          "Yes",
          "No",
          "No",
          "No",
          "Yes",
          "No",
          "Yes",
          "Yes",
          "No",
          "No",
          "No",
          "No",
          "No",
          "No",
          "No",
          "No",
          "No",
          "No",
          "Yes",
          "Yes",
          "No",
          "Yes",
          "Yes",
          "No",
          "No",
          "No",
          "Yes",
          "No",
          "No",
          "No",
          "No",
          "No",
          "Yes",
          "No",
          "Yes",
          "No",
          "Yes",
          "Yes",
          "Yes",
          "No",
          "Yes",
          "Yes",
          "Yes",
          "Yes",
          "Yes",
          "No",
          "No",
          "Yes",
          "No",
          "No",
          "Yes",
          "Yes",
          "No",
          "No",
          "No",
          "Yes",
          "Yes",
          "Yes",
          "No",
          "No",
          "Yes",
          "Yes",
          "No",
          "No",
          "Yes",
          "Yes",
          "Yes",
          "Yes",
          "Yes",
          "No",
          "Yes",
          "No",
          "No",
          "Yes",
          "Yes",
          "No",
          "No",
          "No",
          "No",
          "No",
          "No",
          "No",
          "No",
          "Yes",
          "Yes",
          "Yes",
          "No",
          "Yes",
          "Yes",
          "No",
          "Yes",
          "No",
          "No",
          "Yes",
          "No",
          "No",
          "Yes",
          "Yes",
          "Yes",
          "No",
          "Yes",
          "Yes",
          "Yes",
          "No",
          "No",
          "No",
          "Yes",
          "No",
          "No",
          "Yes",
          "Yes",
          "No",
          "Yes",
          "No",
          "Yes",
          "Yes",
          "No",
          "Yes",
          "No",
          "No",
          "Yes",
          "No",
          "Yes",
          "No",
          "Yes",
          "Yes",
          "Yes",
          "No",
          "No",
          "No",
          "No",
          "Yes",
          "Yes",
          "No",
          "Yes",
          "No",
          "Yes",
          "Yes",
          "No",
          "No",
          "No",
          "No",
          "Yes",
          "Yes",
          "No",
          "No",
          "Yes",
          "Yes",
          "No",
          "No",
          "Yes",
          "No",
          "No",
          "No",
          "No",
          "No",
          "Yes",
          "Yes",
          "No",
          "Yes",
          "No",
          "No",
          "Yes",
          "Yes",
          "Yes",
          "Yes",
          "No",
          "No",
          "No",
          "Yes",
          "No",
          "Yes",
          "No",
          "Yes",
          "Yes",
          "Yes",
          "Yes",
          "Yes",
          "Yes",
          "No",
          "Yes",
          "Yes",
          "No",
          "No",
          "Yes",
          "Yes",
          "No",
          "Yes",
          "Yes",
          "No",
          "Yes",
          "No",
          "No",
          "No",
          "No",
          "Yes",
          "No",
          "Yes",
          "Yes",
          "No",
          "Yes",
          "Yes",
          "Yes",
          "No",
          "No",
          "Yes",
          "Yes",
          "No",
          "No",
          "Yes",
          "Yes",
          "Yes",
          "Yes",
          "Yes",
          "Yes",
          "No",
          "Yes",
          "No",
          "No",
          "No",
          "No",
          "No",
          "No",
          "Yes",
          "No",
          "No",
          "No",
          "Yes",
          "Yes",
          "No",
          "No",
          "Yes",
          "Yes",
          "Yes",
          "Yes",
          "No",
          "No",
          "Yes",
          "No",
          "No",
          "Yes",
          "Yes",
          "No",
          "Yes",
          "No",
          "No",
          "Yes",
          "Yes",
          "Yes",
          "Yes",
          "No",
          "Yes",
          "No",
          "Yes",
          "Yes",
          "No",
          "Yes",
          "No",
          "Yes",
          "No",
          "Yes",
          "Yes",
          "Yes",
          "Yes",
          "Yes",
          "Yes",
          "Yes",
          "Yes",
          "Yes",
          "Yes",
          "Yes",
          "Yes",
          "No",
          "Yes",
          "No",
          "No",
          "Yes",
          "No",
          "No",
          "No",
          "Yes",
          "Yes",
          "No",
          "No",
          "Yes",
          "Yes",
          "No",
          "Yes",
          "Yes",
          "No",
          "Yes",
          "Yes",
          "No",
          "Yes",
          "No",
          "Yes",
          "No",
          "No",
          "Yes",
          "No",
          "Yes",
          "No",
          "No",
          "Yes",
          "Yes",
          "Yes",
          "Yes",
          "No",
          "Yes",
          "Yes",
          "No",
          "No",
          "Yes",
          "No",
          "No",
          "Yes",
          "Yes",
          "No",
          "Yes",
          "Yes",
          "Yes",
          "Yes",
          "No",
          "Yes",
          "Yes",
          "Yes",
          "Yes",
          "No",
          "No",
          "Yes",
          "No",
          "Yes",
          "Yes",
          "No",
          "No",
          "Yes",
          "Yes",
          "No",
          "No",
          "Yes",
          "No",
          "No",
          "No",
          "No",
          "Yes",
          "No",
          "Yes",
          "No",
          "Yes",
          "Yes",
          "No",
          "Yes",
          "Yes",
          "Yes",
          "Yes",
          "No",
          "No",
          "No",
          "No",
          "Yes",
          "No",
          "No",
          "No",
          "No",
          "No",
          "No",
          "Yes",
          "No",
          "No",
          "No",
          "No",
          "No",
          "No",
          "Yes",
          "Yes",
          "No",
          "Yes",
          "No",
          "Yes",
          "No",
          "Yes",
          "No",
          "Yes",
          "Yes",
          "No",
          "Yes",
          "No",
          "Yes",
          "No",
          "Yes",
          "Yes",
          "No",
          "No",
          "No",
          "Yes",
          "Yes",
          "Yes",
          "No",
          "Yes",
          "No",
          "Yes",
          "Yes",
          "No",
          "No",
          "No",
          "No",
          "No",
          "No",
          "Yes",
          "No",
          "Yes",
          "No",
          "No",
          "Yes",
          "No",
          "No",
          "Yes",
          "Yes",
          "Yes",
          "No",
          "No",
          "Yes",
          "No",
          "Yes",
          "Yes",
          "Yes",
          "Yes",
          "Yes",
          "Yes",
          "Yes",
          "Yes",
          "No",
          "Yes",
          "No",
          "No",
          "No",
          "No",
          "Yes",
          "Yes",
          "No",
          "No",
          "Yes",
          "No",
          "No",
          "No",
          "No",
          "Yes",
          "Yes",
          "Yes",
          "No",
          "No",
          "No",
          "No",
          "No",
          "No",
          "No",
          "No",
          "Yes",
          "No",
          "Yes",
          "Yes",
          "No",
          "No",
          "No",
          "No",
          "Yes",
          "Yes",
          "No",
          "Yes",
          "Yes",
          "Yes",
          "Yes",
          "Yes",
          "Yes",
          "No",
          "Yes",
          "No",
          "Yes"
         ],
         "xaxis": "x",
         "yaxis": "y"
        },
        {
         "alignmentgroup": "True",
         "bingroup": "x",
         "hovertemplate": "Attrition=Yes<br>Overtime=%{x}<br>count=%{y}<extra></extra>",
         "legendgroup": "Yes",
         "marker": {
          "color": "#EF553B",
          "pattern": {
           "shape": ""
          }
         },
         "name": "Yes",
         "offsetgroup": "Yes",
         "orientation": "v",
         "showlegend": true,
         "type": "histogram",
         "x": [
          "Yes",
          "No",
          "No",
          "No",
          "Yes",
          "Yes",
          "No",
          "Yes",
          "No",
          "No",
          "Yes",
          "Yes",
          "Yes",
          "Yes",
          "Yes",
          "Yes",
          "Yes",
          "No",
          "No",
          "No",
          "Yes",
          "Yes",
          "Yes",
          "No",
          "No",
          "No",
          "Yes",
          "Yes",
          "Yes",
          "No",
          "Yes",
          "Yes",
          "No",
          "Yes",
          "Yes",
          "No",
          "Yes",
          "Yes",
          "Yes",
          "No",
          "Yes",
          "Yes",
          "Yes",
          "Yes",
          "Yes",
          "Yes",
          "No",
          "Yes",
          "No",
          "Yes",
          "No",
          "No",
          "No",
          "No",
          "Yes",
          "Yes",
          "No",
          "No",
          "Yes",
          "No",
          "Yes",
          "No",
          "No",
          "Yes",
          "No",
          "Yes",
          "No",
          "No",
          "Yes",
          "No",
          "No",
          "Yes",
          "No",
          "No",
          "No",
          "No",
          "Yes",
          "No",
          "No",
          "No",
          "Yes",
          "No",
          "Yes",
          "Yes",
          "Yes",
          "Yes",
          "Yes",
          "No",
          "Yes",
          "No",
          "No",
          "No",
          "Yes",
          "Yes",
          "Yes",
          "No",
          "No",
          "No",
          "No",
          "Yes",
          "Yes",
          "No",
          "Yes",
          "Yes",
          "No",
          "No",
          "No",
          "No",
          "Yes",
          "No",
          "Yes",
          "No",
          "Yes",
          "No",
          "No",
          "Yes",
          "Yes",
          "No",
          "Yes",
          "Yes",
          "No",
          "Yes",
          "No",
          "No",
          "Yes",
          "No",
          "No",
          "Yes",
          "No",
          "No",
          "No",
          "Yes",
          "Yes",
          "Yes",
          "Yes",
          "No",
          "No",
          "No",
          "Yes",
          "Yes",
          "No",
          "No",
          "No",
          "No",
          "No",
          "No",
          "No",
          "No",
          "No",
          "Yes",
          "No",
          "No",
          "Yes",
          "Yes",
          "Yes",
          "Yes",
          "Yes",
          "Yes",
          "No",
          "Yes",
          "No",
          "Yes",
          "No",
          "No",
          "No",
          "Yes",
          "No",
          "No",
          "Yes",
          "Yes",
          "No",
          "No",
          "No",
          "No",
          "Yes",
          "Yes",
          "No",
          "Yes",
          "Yes",
          "No",
          "No",
          "No",
          "No",
          "No",
          "No",
          "Yes",
          "No",
          "No",
          "Yes"
         ],
         "xaxis": "x",
         "yaxis": "y"
        }
       ],
       "layout": {
        "barmode": "group",
        "legend": {
         "title": {
          "text": "Attrition"
         },
         "tracegroupgap": 0
        },
        "template": {
         "data": {
          "bar": [
           {
            "error_x": {
             "color": "#2a3f5f"
            },
            "error_y": {
             "color": "#2a3f5f"
            },
            "marker": {
             "line": {
              "color": "#E5ECF6",
              "width": 0.5
             },
             "pattern": {
              "fillmode": "overlay",
              "size": 10,
              "solidity": 0.2
             }
            },
            "type": "bar"
           }
          ],
          "barpolar": [
           {
            "marker": {
             "line": {
              "color": "#E5ECF6",
              "width": 0.5
             },
             "pattern": {
              "fillmode": "overlay",
              "size": 10,
              "solidity": 0.2
             }
            },
            "type": "barpolar"
           }
          ],
          "carpet": [
           {
            "aaxis": {
             "endlinecolor": "#2a3f5f",
             "gridcolor": "white",
             "linecolor": "white",
             "minorgridcolor": "white",
             "startlinecolor": "#2a3f5f"
            },
            "baxis": {
             "endlinecolor": "#2a3f5f",
             "gridcolor": "white",
             "linecolor": "white",
             "minorgridcolor": "white",
             "startlinecolor": "#2a3f5f"
            },
            "type": "carpet"
           }
          ],
          "choropleth": [
           {
            "colorbar": {
             "outlinewidth": 0,
             "ticks": ""
            },
            "type": "choropleth"
           }
          ],
          "contour": [
           {
            "colorbar": {
             "outlinewidth": 0,
             "ticks": ""
            },
            "colorscale": [
             [
              0,
              "#0d0887"
             ],
             [
              0.1111111111111111,
              "#46039f"
             ],
             [
              0.2222222222222222,
              "#7201a8"
             ],
             [
              0.3333333333333333,
              "#9c179e"
             ],
             [
              0.4444444444444444,
              "#bd3786"
             ],
             [
              0.5555555555555556,
              "#d8576b"
             ],
             [
              0.6666666666666666,
              "#ed7953"
             ],
             [
              0.7777777777777778,
              "#fb9f3a"
             ],
             [
              0.8888888888888888,
              "#fdca26"
             ],
             [
              1,
              "#f0f921"
             ]
            ],
            "type": "contour"
           }
          ],
          "contourcarpet": [
           {
            "colorbar": {
             "outlinewidth": 0,
             "ticks": ""
            },
            "type": "contourcarpet"
           }
          ],
          "heatmap": [
           {
            "colorbar": {
             "outlinewidth": 0,
             "ticks": ""
            },
            "colorscale": [
             [
              0,
              "#0d0887"
             ],
             [
              0.1111111111111111,
              "#46039f"
             ],
             [
              0.2222222222222222,
              "#7201a8"
             ],
             [
              0.3333333333333333,
              "#9c179e"
             ],
             [
              0.4444444444444444,
              "#bd3786"
             ],
             [
              0.5555555555555556,
              "#d8576b"
             ],
             [
              0.6666666666666666,
              "#ed7953"
             ],
             [
              0.7777777777777778,
              "#fb9f3a"
             ],
             [
              0.8888888888888888,
              "#fdca26"
             ],
             [
              1,
              "#f0f921"
             ]
            ],
            "type": "heatmap"
           }
          ],
          "heatmapgl": [
           {
            "colorbar": {
             "outlinewidth": 0,
             "ticks": ""
            },
            "colorscale": [
             [
              0,
              "#0d0887"
             ],
             [
              0.1111111111111111,
              "#46039f"
             ],
             [
              0.2222222222222222,
              "#7201a8"
             ],
             [
              0.3333333333333333,
              "#9c179e"
             ],
             [
              0.4444444444444444,
              "#bd3786"
             ],
             [
              0.5555555555555556,
              "#d8576b"
             ],
             [
              0.6666666666666666,
              "#ed7953"
             ],
             [
              0.7777777777777778,
              "#fb9f3a"
             ],
             [
              0.8888888888888888,
              "#fdca26"
             ],
             [
              1,
              "#f0f921"
             ]
            ],
            "type": "heatmapgl"
           }
          ],
          "histogram": [
           {
            "marker": {
             "pattern": {
              "fillmode": "overlay",
              "size": 10,
              "solidity": 0.2
             }
            },
            "type": "histogram"
           }
          ],
          "histogram2d": [
           {
            "colorbar": {
             "outlinewidth": 0,
             "ticks": ""
            },
            "colorscale": [
             [
              0,
              "#0d0887"
             ],
             [
              0.1111111111111111,
              "#46039f"
             ],
             [
              0.2222222222222222,
              "#7201a8"
             ],
             [
              0.3333333333333333,
              "#9c179e"
             ],
             [
              0.4444444444444444,
              "#bd3786"
             ],
             [
              0.5555555555555556,
              "#d8576b"
             ],
             [
              0.6666666666666666,
              "#ed7953"
             ],
             [
              0.7777777777777778,
              "#fb9f3a"
             ],
             [
              0.8888888888888888,
              "#fdca26"
             ],
             [
              1,
              "#f0f921"
             ]
            ],
            "type": "histogram2d"
           }
          ],
          "histogram2dcontour": [
           {
            "colorbar": {
             "outlinewidth": 0,
             "ticks": ""
            },
            "colorscale": [
             [
              0,
              "#0d0887"
             ],
             [
              0.1111111111111111,
              "#46039f"
             ],
             [
              0.2222222222222222,
              "#7201a8"
             ],
             [
              0.3333333333333333,
              "#9c179e"
             ],
             [
              0.4444444444444444,
              "#bd3786"
             ],
             [
              0.5555555555555556,
              "#d8576b"
             ],
             [
              0.6666666666666666,
              "#ed7953"
             ],
             [
              0.7777777777777778,
              "#fb9f3a"
             ],
             [
              0.8888888888888888,
              "#fdca26"
             ],
             [
              1,
              "#f0f921"
             ]
            ],
            "type": "histogram2dcontour"
           }
          ],
          "mesh3d": [
           {
            "colorbar": {
             "outlinewidth": 0,
             "ticks": ""
            },
            "type": "mesh3d"
           }
          ],
          "parcoords": [
           {
            "line": {
             "colorbar": {
              "outlinewidth": 0,
              "ticks": ""
             }
            },
            "type": "parcoords"
           }
          ],
          "pie": [
           {
            "automargin": true,
            "type": "pie"
           }
          ],
          "scatter": [
           {
            "fillpattern": {
             "fillmode": "overlay",
             "size": 10,
             "solidity": 0.2
            },
            "type": "scatter"
           }
          ],
          "scatter3d": [
           {
            "line": {
             "colorbar": {
              "outlinewidth": 0,
              "ticks": ""
             }
            },
            "marker": {
             "colorbar": {
              "outlinewidth": 0,
              "ticks": ""
             }
            },
            "type": "scatter3d"
           }
          ],
          "scattercarpet": [
           {
            "marker": {
             "colorbar": {
              "outlinewidth": 0,
              "ticks": ""
             }
            },
            "type": "scattercarpet"
           }
          ],
          "scattergeo": [
           {
            "marker": {
             "colorbar": {
              "outlinewidth": 0,
              "ticks": ""
             }
            },
            "type": "scattergeo"
           }
          ],
          "scattergl": [
           {
            "marker": {
             "colorbar": {
              "outlinewidth": 0,
              "ticks": ""
             }
            },
            "type": "scattergl"
           }
          ],
          "scattermapbox": [
           {
            "marker": {
             "colorbar": {
              "outlinewidth": 0,
              "ticks": ""
             }
            },
            "type": "scattermapbox"
           }
          ],
          "scatterpolar": [
           {
            "marker": {
             "colorbar": {
              "outlinewidth": 0,
              "ticks": ""
             }
            },
            "type": "scatterpolar"
           }
          ],
          "scatterpolargl": [
           {
            "marker": {
             "colorbar": {
              "outlinewidth": 0,
              "ticks": ""
             }
            },
            "type": "scatterpolargl"
           }
          ],
          "scatterternary": [
           {
            "marker": {
             "colorbar": {
              "outlinewidth": 0,
              "ticks": ""
             }
            },
            "type": "scatterternary"
           }
          ],
          "surface": [
           {
            "colorbar": {
             "outlinewidth": 0,
             "ticks": ""
            },
            "colorscale": [
             [
              0,
              "#0d0887"
             ],
             [
              0.1111111111111111,
              "#46039f"
             ],
             [
              0.2222222222222222,
              "#7201a8"
             ],
             [
              0.3333333333333333,
              "#9c179e"
             ],
             [
              0.4444444444444444,
              "#bd3786"
             ],
             [
              0.5555555555555556,
              "#d8576b"
             ],
             [
              0.6666666666666666,
              "#ed7953"
             ],
             [
              0.7777777777777778,
              "#fb9f3a"
             ],
             [
              0.8888888888888888,
              "#fdca26"
             ],
             [
              1,
              "#f0f921"
             ]
            ],
            "type": "surface"
           }
          ],
          "table": [
           {
            "cells": {
             "fill": {
              "color": "#EBF0F8"
             },
             "line": {
              "color": "white"
             }
            },
            "header": {
             "fill": {
              "color": "#C8D4E3"
             },
             "line": {
              "color": "white"
             }
            },
            "type": "table"
           }
          ]
         },
         "layout": {
          "annotationdefaults": {
           "arrowcolor": "#2a3f5f",
           "arrowhead": 0,
           "arrowwidth": 1
          },
          "autotypenumbers": "strict",
          "coloraxis": {
           "colorbar": {
            "outlinewidth": 0,
            "ticks": ""
           }
          },
          "colorscale": {
           "diverging": [
            [
             0,
             "#8e0152"
            ],
            [
             0.1,
             "#c51b7d"
            ],
            [
             0.2,
             "#de77ae"
            ],
            [
             0.3,
             "#f1b6da"
            ],
            [
             0.4,
             "#fde0ef"
            ],
            [
             0.5,
             "#f7f7f7"
            ],
            [
             0.6,
             "#e6f5d0"
            ],
            [
             0.7,
             "#b8e186"
            ],
            [
             0.8,
             "#7fbc41"
            ],
            [
             0.9,
             "#4d9221"
            ],
            [
             1,
             "#276419"
            ]
           ],
           "sequential": [
            [
             0,
             "#0d0887"
            ],
            [
             0.1111111111111111,
             "#46039f"
            ],
            [
             0.2222222222222222,
             "#7201a8"
            ],
            [
             0.3333333333333333,
             "#9c179e"
            ],
            [
             0.4444444444444444,
             "#bd3786"
            ],
            [
             0.5555555555555556,
             "#d8576b"
            ],
            [
             0.6666666666666666,
             "#ed7953"
            ],
            [
             0.7777777777777778,
             "#fb9f3a"
            ],
            [
             0.8888888888888888,
             "#fdca26"
            ],
            [
             1,
             "#f0f921"
            ]
           ],
           "sequentialminus": [
            [
             0,
             "#0d0887"
            ],
            [
             0.1111111111111111,
             "#46039f"
            ],
            [
             0.2222222222222222,
             "#7201a8"
            ],
            [
             0.3333333333333333,
             "#9c179e"
            ],
            [
             0.4444444444444444,
             "#bd3786"
            ],
            [
             0.5555555555555556,
             "#d8576b"
            ],
            [
             0.6666666666666666,
             "#ed7953"
            ],
            [
             0.7777777777777778,
             "#fb9f3a"
            ],
            [
             0.8888888888888888,
             "#fdca26"
            ],
            [
             1,
             "#f0f921"
            ]
           ]
          },
          "colorway": [
           "#636efa",
           "#EF553B",
           "#00cc96",
           "#ab63fa",
           "#FFA15A",
           "#19d3f3",
           "#FF6692",
           "#B6E880",
           "#FF97FF",
           "#FECB52"
          ],
          "font": {
           "color": "#2a3f5f"
          },
          "geo": {
           "bgcolor": "white",
           "lakecolor": "white",
           "landcolor": "#E5ECF6",
           "showlakes": true,
           "showland": true,
           "subunitcolor": "white"
          },
          "hoverlabel": {
           "align": "left"
          },
          "hovermode": "closest",
          "mapbox": {
           "style": "light"
          },
          "paper_bgcolor": "white",
          "plot_bgcolor": "#E5ECF6",
          "polar": {
           "angularaxis": {
            "gridcolor": "white",
            "linecolor": "white",
            "ticks": ""
           },
           "bgcolor": "#E5ECF6",
           "radialaxis": {
            "gridcolor": "white",
            "linecolor": "white",
            "ticks": ""
           }
          },
          "scene": {
           "xaxis": {
            "backgroundcolor": "#E5ECF6",
            "gridcolor": "white",
            "gridwidth": 2,
            "linecolor": "white",
            "showbackground": true,
            "ticks": "",
            "zerolinecolor": "white"
           },
           "yaxis": {
            "backgroundcolor": "#E5ECF6",
            "gridcolor": "white",
            "gridwidth": 2,
            "linecolor": "white",
            "showbackground": true,
            "ticks": "",
            "zerolinecolor": "white"
           },
           "zaxis": {
            "backgroundcolor": "#E5ECF6",
            "gridcolor": "white",
            "gridwidth": 2,
            "linecolor": "white",
            "showbackground": true,
            "ticks": "",
            "zerolinecolor": "white"
           }
          },
          "shapedefaults": {
           "line": {
            "color": "#2a3f5f"
           }
          },
          "ternary": {
           "aaxis": {
            "gridcolor": "white",
            "linecolor": "white",
            "ticks": ""
           },
           "baxis": {
            "gridcolor": "white",
            "linecolor": "white",
            "ticks": ""
           },
           "bgcolor": "#E5ECF6",
           "caxis": {
            "gridcolor": "white",
            "linecolor": "white",
            "ticks": ""
           }
          },
          "title": {
           "x": 0.05
          },
          "xaxis": {
           "automargin": true,
           "gridcolor": "white",
           "linecolor": "white",
           "ticks": "",
           "title": {
            "standoff": 15
           },
           "zerolinecolor": "white",
           "zerolinewidth": 2
          },
          "yaxis": {
           "automargin": true,
           "gridcolor": "white",
           "linecolor": "white",
           "ticks": "",
           "title": {
            "standoff": 15
           },
           "zerolinecolor": "white",
           "zerolinewidth": 2
          }
         }
        },
        "title": {
         "text": "Overtime vs Attrition"
        },
        "xaxis": {
         "anchor": "y",
         "domain": [
          0,
          1
         ],
         "title": {
          "text": "Overtime"
         }
        },
        "yaxis": {
         "anchor": "x",
         "domain": [
          0,
          1
         ],
         "title": {
          "text": "count"
         }
        }
       }
      }
     },
     "metadata": {},
     "output_type": "display_data"
    }
   ],
   "source": [
    "categorical_cols = df.select_dtypes(include=['object']).columns.tolist()\n",
    "categorical_cols.remove('Attrition')  # target already plotted\n",
    "\n",
    "for col in categorical_cols:\n",
    "    fig = px.histogram(df, x=col, color='Attrition', barmode='group', title=f'{col} vs Attrition')\n",
    "    fig.show()\n"
   ]
  },
  {
   "cell_type": "code",
   "execution_count": 14,
   "id": "bea9f85c",
   "metadata": {},
   "outputs": [
    {
     "data": {
      "image/png": "[encoded data removed]",
      "text/plain": [
       "<Figure size 1200x800 with 2 Axes>"
      ]
     },
     "metadata": {},
     "output_type": "display_data"
    }
   ],
   "source": [
    "# Select numeric columns correctly\n",
    "numeric_cols = df.select_dtypes(include=['int64', 'float64']).columns\n",
    "\n",
    "# Correlation\n",
    "corr = df[numeric_cols].corr()\n",
    "\n",
    "# Plot heatmap\n",
    "plt.figure(figsize=(12,8))\n",
    "sns.heatmap(corr, annot=True, cmap='coolwarm', center=0)\n",
    "plt.title('Correlation Heatmap of Numeric Features')\n",
    "plt.show()"
   ]
  },
  {
   "cell_type": "code",
   "execution_count": 15,
   "id": "b19c2774",
   "metadata": {},
   "outputs": [
    {
     "data": {
      "application/vnd.plotly.v1+json": {
       "config": {
        "plotlyServerURL": "https://plot.ly"
       },
       "data": [
        {
         "alignmentgroup": "True",
         "hovertemplate": "Attrition=No<br>Overtime=%{x}<br>Job_Satisfaction=%{y}<extra></extra>",
         "legendgroup": "No",
         "marker": {
          "color": "#636efa"
         },
         "name": "No",
         "notched": false,
         "offsetgroup": "No",
         "orientation": "v",
         "showlegend": true,
         "type": "box",
         "x": [
          "No",
          "Yes",
          "Yes",
          "No",
          "No",
          "No",
          "No",
          "No",
          "Yes",
          "No",
          "No",
          "No",
          "Yes",
          "No",
          "Yes",
          "Yes",
          "Yes",
          "No",
          "No",
          "No",
          "No",
          "No",
          "Yes",
          "No",
          "No",
          "Yes",
          "Yes",
          "Yes",
          "Yes",
          "No",
          "Yes",
          "No",
          "Yes",
          "No",
          "No",
          "Yes",
          "No",
          "Yes",
          "Yes",
          "No",
          "Yes",
          "No",
          "No",
          "No",
          "No",
          "Yes",
          "Yes",
          "Yes",
          "No",
          "No",
          "Yes",
          "No",
          "No",
          "Yes",
          "No",
          "No",
          "No",
          "No",
          "Yes",
          "No",
          "Yes",
          "No",
          "No",
          "Yes",
          "Yes",
          "No",
          "No",
          "Yes",
          "No",
          "Yes",
          "Yes",
          "Yes",
          "No",
          "No",
          "Yes",
          "Yes",
          "Yes",
          "Yes",
          "No",
          "Yes",
          "No",
          "No",
          "No",
          "Yes",
          "Yes",
          "No",
          "Yes",
          "Yes",
          "Yes",
          "Yes",
          "Yes",
          "Yes",
          "No",
          "Yes",
          "No",
          "No",
          "Yes",
          "No",
          "No",
          "Yes",
          "No",
          "Yes",
          "No",
          "Yes",
          "Yes",
          "Yes",
          "No",
          "Yes",
          "Yes",
          "No",
          "Yes",
          "Yes",
          "No",
          "Yes",
          "No",
          "Yes",
          "No",
          "Yes",
          "Yes",
          "Yes",
          "No",
          "Yes",
          "No",
          "Yes",
          "Yes",
          "No",
          "Yes",
          "Yes",
          "No",
          "Yes",
          "No",
          "Yes",
          "No",
          "Yes",
          "Yes",
          "No",
          "Yes",
          "No",
          "Yes",
          "Yes",
          "No",
          "No",
          "Yes",
          "No",
          "Yes",
          "Yes",
          "Yes",
          "No",
          "No",
          "Yes",
          "No",
          "Yes",
          "Yes",
          "No",
          "Yes",
          "Yes",
          "Yes",
          "No",
          "No",
          "Yes",
          "No",
          "Yes",
          "No",
          "No",
          "Yes",
          "Yes",
          "Yes",
          "No",
          "Yes",
          "Yes",
          "Yes",
          "No",
          "No",
          "No",
          "Yes",
          "No",
          "Yes",
          "No",
          "No",
          "No",
          "No",
          "Yes",
          "No",
          "Yes",
          "No",
          "No",
          "No",
          "No",
          "Yes",
          "Yes",
          "No",
          "Yes",
          "No",
          "Yes",
          "Yes",
          "Yes",
          "No",
          "No",
          "Yes",
          "No",
          "Yes",
          "Yes",
          "Yes",
          "No",
          "No",
          "No",
          "No",
          "No",
          "No",
          "Yes",
          "No",
          "Yes",
          "Yes",
          "No",
          "Yes",
          "Yes",
          "Yes",
          "No",
          "No",
          "Yes",
          "Yes",
          "Yes",
          "No",
          "No",
          "No",
          "No",
          "No",
          "Yes",
          "Yes",
          "Yes",
          "No",
          "No",
          "Yes",
          "Yes",
          "Yes",
          "No",
          "Yes",
          "No",
          "Yes",
          "No",
          "No",
          "Yes",
          "Yes",
          "Yes",
          "No",
          "Yes",
          "Yes",
          "Yes",
          "No",
          "No",
          "Yes",
          "Yes",
          "Yes",
          "No",
          "No",
          "No",
          "No",
          "Yes",
          "Yes",
          "No",
          "Yes",
          "Yes",
          "No",
          "No",
          "No",
          "No",
          "Yes",
          "No",
          "Yes",
          "Yes",
          "Yes",
          "No",
          "No",
          "No",
          "Yes",
          "Yes",
          "Yes",
          "No",
          "Yes",
          "Yes",
          "No",
          "No",
          "Yes",
          "No",
          "No",
          "No",
          "Yes",
          "Yes",
          "Yes",
          "Yes",
          "No",
          "Yes",
          "Yes",
          "No",
          "No",
          "No",
          "No",
          "No",
          "Yes",
          "Yes",
          "No",
          "Yes",
          "Yes",
          "No",
          "No",
          "No",
          "No",
          "Yes",
          "No",
          "No",
          "Yes",
          "No",
          "Yes",
          "Yes",
          "No",
          "No",
          "No",
          "Yes",
          "No",
          "No",
          "No",
          "Yes",
          "No",
          "Yes",
          "No",
          "No",
          "No",
          "No",
          "No",
          "No",
          "No",
          "No",
          "No",
          "Yes",
          "No",
          "No",
          "No",
          "Yes",
          "No",
          "Yes",
          "Yes",
          "No",
          "No",
          "No",
          "No",
          "No",
          "No",
          "No",
          "No",
          "No",
          "No",
          "Yes",
          "Yes",
          "No",
          "Yes",
          "Yes",
          "No",
          "No",
          "No",
          "Yes",
          "No",
          "No",
          "No",
          "No",
          "No",
          "Yes",
          "No",
          "Yes",
          "No",
          "Yes",
          "Yes",
          "Yes",
          "No",
          "Yes",
          "Yes",
          "Yes",
          "Yes",
          "Yes",
          "No",
          "No",
          "Yes",
          "No",
          "No",
          "Yes",
          "Yes",
          "No",
          "No",
          "No",
          "Yes",
          "Yes",
          "Yes",
          "No",
          "No",
          "Yes",
          "Yes",
          "No",
          "No",
          "Yes",
          "Yes",
          "Yes",
          "Yes",
          "Yes",
          "No",
          "Yes",
          "No",
          "No",
          "Yes",
          "Yes",
          "No",
          "No",
          "No",
          "No",
          "No",
          "No",
          "No",
          "No",
          "Yes",
          "Yes",
          "Yes",
          "No",
          "Yes",
          "Yes",
          "No",
          "Yes",
          "No",
          "No",
          "Yes",
          "No",
          "No",
          "Yes",
          "Yes",
          "Yes",
          "No",
          "Yes",
          "Yes",
          "Yes",
          "No",
          "No",
          "No",
          "Yes",
          "No",
          "No",
          "Yes",
          "Yes",
          "No",
          "Yes",
          "No",
          "Yes",
          "Yes",
          "No",
          "Yes",
          "No",
          "No",
          "Yes",
          "No",
          "Yes",
          "No",
          "Yes",
          "Yes",
          "Yes",
          "No",
          "No",
          "No",
          "No",
          "Yes",
          "Yes",
          "No",
          "Yes",
          "No",
          "Yes",
          "Yes",
          "No",
          "No",
          "No",
          "No",
          "Yes",
          "Yes",
          "No",
          "No",
          "Yes",
          "Yes",
          "No",
          "No",
          "Yes",
          "No",
          "No",
          "No",
          "No",
          "No",
          "Yes",
          "Yes",
          "No",
          "Yes",
          "No",
          "No",
          "Yes",
          "Yes",
          "Yes",
          "Yes",
          "No",
          "No",
          "No",
          "Yes",
          "No",
          "Yes",
          "No",
          "Yes",
          "Yes",
          "Yes",
          "Yes",
          "Yes",
          "Yes",
          "No",
          "Yes",
          "Yes",
          "No",
          "No",
          "Yes",
          "Yes",
          "No",
          "Yes",
          "Yes",
          "No",
          "Yes",
          "No",
          "No",
          "No",
          "No",
          "Yes",
          "No",
          "Yes",
          "Yes",
          "No",
          "Yes",
          "Yes",
          "Yes",
          "No",
          "No",
          "Yes",
          "Yes",
          "No",
          "No",
          "Yes",
          "Yes",
          "Yes",
          "Yes",
          "Yes",
          "Yes",
          "No",
          "Yes",
          "No",
          "No",
          "No",
          "No",
          "No",
          "No",
          "Yes",
          "No",
          "No",
          "No",
          "Yes",
          "Yes",
          "No",
          "No",
          "Yes",
          "Yes",
          "Yes",
          "Yes",
          "No",
          "No",
          "Yes",
          "No",
          "No",
          "Yes",
          "Yes",
          "No",
          "Yes",
          "No",
          "No",
          "Yes",
          "Yes",
          "Yes",
          "Yes",
          "No",
          "Yes",
          "No",
          "Yes",
          "Yes",
          "No",
          "Yes",
          "No",
          "Yes",
          "No",
          "Yes",
          "Yes",
          "Yes",
          "Yes",
          "Yes",
          "Yes",
          "Yes",
          "Yes",
          "Yes",
          "Yes",
          "Yes",
          "Yes",
          "No",
          "Yes",
          "No",
          "No",
          "Yes",
          "No",
          "No",
          "No",
          "Yes",
          "Yes",
          "No",
          "No",
          "Yes",
          "Yes",
          "No",
          "Yes",
          "Yes",
          "No",
          "Yes",
          "Yes",
          "No",
          "Yes",
          "No",
          "Yes",
          "No",
          "No",
          "Yes",
          "No",
          "Yes",
          "No",
          "No",
          "Yes",
          "Yes",
          "Yes",
          "Yes",
          "No",
          "Yes",
          "Yes",
          "No",
          "No",
          "Yes",
          "No",
          "No",
          "Yes",
          "Yes",
          "No",
          "Yes",
          "Yes",
          "Yes",
          "Yes",
          "No",
          "Yes",
          "Yes",
          "Yes",
          "Yes",
          "No",
          "No",
          "Yes",
          "No",
          "Yes",
          "Yes",
          "No",
          "No",
          "Yes",
          "Yes",
          "No",
          "No",
          "Yes",
          "No",
          "No",
          "No",
          "No",
          "Yes",
          "No",
          "Yes",
          "No",
          "Yes",
          "Yes",
          "No",
          "Yes",
          "Yes",
          "Yes",
          "Yes",
          "No",
          "No",
          "No",
          "No",
          "Yes",
          "No",
          "No",
          "No",
          "No",
          "No",
          "No",
          "Yes",
          "No",
          "No",
          "No",
          "No",
          "No",
          "No",
          "Yes",
          "Yes",
          "No",
          "Yes",
          "No",
          "Yes",
          "No",
          "Yes",
          "No",
          "Yes",
          "Yes",
          "No",
          "Yes",
          "No",
          "Yes",
          "No",
          "Yes",
          "Yes",
          "No",
          "No",
          "No",
          "Yes",
          "Yes",
          "Yes",
          "No",
          "Yes",
          "No",
          "Yes",
          "Yes",
          "No",
          "No",
          "No",
          "No",
          "No",
          "No",
          "Yes",
          "No",
          "Yes",
          "No",
          "No",
          "Yes",
          "No",
          "No",
          "Yes",
          "Yes",
          "Yes",
          "No",
          "No",
          "Yes",
          "No",
          "Yes",
          "Yes",
          "Yes",
          "Yes",
          "Yes",
          "Yes",
          "Yes",
          "Yes",
          "No",
          "Yes",
          "No",
          "No",
          "No",
          "No",
          "Yes",
          "Yes",
          "No",
          "No",
          "Yes",
          "No",
          "No",
          "No",
          "No",
          "Yes",
          "Yes",
          "Yes",
          "No",
          "No",
          "No",
          "No",
          "No",
          "No",
          "No",
          "No",
          "Yes",
          "No",
          "Yes",
          "Yes",
          "No",
          "No",
          "No",
          "No",
          "Yes",
          "Yes",
          "No",
          "Yes",
          "Yes",
          "Yes",
          "Yes",
          "Yes",
          "Yes",
          "No",
          "Yes",
          "No",
          "Yes"
         ],
         "x0": " ",
         "xaxis": "x",
         "y": [
          3,
          1,
          2,
          5,
          5,
          2,
          5,
          2,
          1,
          1,
          2,
          2,
          4,
          5,
          5,
          4,
          4,
          1,
          4,
          2,
          3,
          2,
          5,
          2,
          5,
          2,
          5,
          1,
          2,
          3,
          1,
          3,
          3,
          4,
          5,
          1,
          5,
          5,
          5,
          3,
          5,
          3,
          2,
          2,
          5,
          3,
          5,
          5,
          5,
          3,
          4,
          4,
          2,
          4,
          4,
          1,
          2,
          1,
          1,
          5,
          3,
          2,
          4,
          4,
          3,
          2,
          4,
          4,
          5,
          1,
          4,
          2,
          3,
          5,
          2,
          5,
          4,
          3,
          1,
          1,
          1,
          2,
          1,
          3,
          2,
          3,
          3,
          5,
          4,
          5,
          2,
          5,
          4,
          2,
          2,
          4,
          4,
          5,
          5,
          5,
          4,
          4,
          2,
          3,
          2,
          2,
          1,
          5,
          2,
          1,
          5,
          4,
          1,
          4,
          3,
          3,
          3,
          2,
          2,
          2,
          5,
          2,
          3,
          2,
          4,
          3,
          1,
          3,
          2,
          4,
          4,
          1,
          5,
          3,
          5,
          4,
          4,
          5,
          5,
          2,
          5,
          4,
          3,
          2,
          1,
          2,
          3,
          4,
          5,
          3,
          2,
          5,
          1,
          4,
          4,
          3,
          4,
          1,
          2,
          1,
          3,
          3,
          1,
          5,
          3,
          1,
          1,
          4,
          5,
          5,
          2,
          4,
          1,
          4,
          3,
          1,
          5,
          4,
          1,
          2,
          3,
          2,
          2,
          2,
          3,
          3,
          3,
          3,
          5,
          3,
          4,
          1,
          4,
          4,
          5,
          1,
          3,
          5,
          3,
          3,
          4,
          3,
          1,
          3,
          4,
          3,
          5,
          5,
          5,
          2,
          5,
          5,
          2,
          5,
          4,
          5,
          5,
          4,
          1,
          4,
          4,
          3,
          3,
          4,
          2,
          4,
          4,
          3,
          1,
          3,
          5,
          4,
          4,
          2,
          3,
          4,
          3,
          3,
          5,
          5,
          3,
          5,
          1,
          4,
          5,
          3,
          4,
          3,
          3,
          5,
          5,
          1,
          4,
          5,
          4,
          1,
          1,
          2,
          1,
          3,
          1,
          2,
          3,
          1,
          5,
          5,
          1,
          5,
          3,
          4,
          2,
          4,
          5,
          3,
          5,
          2,
          1,
          2,
          5,
          5,
          5,
          5,
          4,
          1,
          4,
          5,
          5,
          5,
          1,
          2,
          4,
          4,
          4,
          1,
          5,
          3,
          1,
          4,
          2,
          1,
          1,
          1,
          3,
          4,
          2,
          5,
          3,
          5,
          5,
          4,
          1,
          5,
          3,
          2,
          3,
          2,
          4,
          1,
          5,
          4,
          5,
          5,
          3,
          4,
          5,
          5,
          2,
          1,
          3,
          5,
          1,
          3,
          1,
          5,
          2,
          5,
          4,
          5,
          4,
          4,
          1,
          4,
          5,
          3,
          4,
          4,
          4,
          5,
          5,
          5,
          3,
          1,
          2,
          4,
          2,
          4,
          3,
          5,
          1,
          5,
          4,
          1,
          5,
          1,
          3,
          3,
          5,
          4,
          5,
          5,
          3,
          1,
          4,
          1,
          4,
          2,
          3,
          3,
          5,
          2,
          4,
          5,
          1,
          4,
          4,
          2,
          2,
          3,
          1,
          1,
          1,
          1,
          1,
          5,
          3,
          4,
          3,
          5,
          3,
          5,
          3,
          3,
          5,
          1,
          1,
          2,
          2,
          2,
          4,
          1,
          3,
          1,
          1,
          2,
          1,
          1,
          2,
          2,
          3,
          4,
          2,
          3,
          5,
          5,
          5,
          1,
          4,
          3,
          4,
          3,
          3,
          2,
          4,
          4,
          2,
          5,
          1,
          3,
          2,
          5,
          5,
          3,
          3,
          3,
          3,
          2,
          3,
          3,
          2,
          3,
          5,
          4,
          5,
          1,
          1,
          5,
          1,
          4,
          2,
          4,
          5,
          3,
          3,
          2,
          4,
          4,
          2,
          2,
          1,
          5,
          4,
          2,
          2,
          5,
          2,
          3,
          3,
          3,
          5,
          4,
          3,
          2,
          5,
          2,
          4,
          2,
          2,
          4,
          2,
          3,
          4,
          4,
          3,
          5,
          5,
          3,
          2,
          4,
          3,
          4,
          5,
          4,
          2,
          1,
          4,
          2,
          3,
          4,
          2,
          1,
          2,
          3,
          4,
          4,
          4,
          3,
          4,
          2,
          1,
          1,
          4,
          5,
          3,
          3,
          2,
          4,
          4,
          2,
          2,
          5,
          2,
          3,
          1,
          4,
          4,
          1,
          4,
          1,
          5,
          2,
          4,
          1,
          4,
          3,
          1,
          4,
          2,
          4,
          3,
          3,
          2,
          4,
          1,
          4,
          2,
          1,
          3,
          5,
          5,
          4,
          3,
          5,
          3,
          4,
          1,
          4,
          3,
          5,
          3,
          1,
          2,
          4,
          5,
          1,
          4,
          3,
          2,
          3,
          1,
          5,
          4,
          1,
          4,
          2,
          3,
          5,
          1,
          5,
          5,
          1,
          1,
          5,
          3,
          4,
          5,
          2,
          1,
          4,
          2,
          4,
          4,
          2,
          5,
          5,
          5,
          3,
          5,
          2,
          3,
          3,
          2,
          5,
          1,
          2,
          4,
          2,
          4,
          2,
          1,
          2,
          3,
          4,
          2,
          4,
          5,
          1,
          2,
          4,
          5,
          3,
          4,
          1,
          4,
          5,
          3,
          5,
          2,
          3,
          5,
          5,
          1,
          3,
          4,
          3,
          5,
          5,
          5,
          5,
          1,
          5,
          2,
          4,
          5,
          1,
          2,
          5,
          3,
          2,
          2,
          1,
          5,
          2,
          5,
          1,
          1,
          1,
          5,
          3,
          4,
          1,
          3,
          2,
          3,
          5,
          3,
          4,
          5,
          2,
          3,
          5,
          4,
          5,
          2,
          3,
          3,
          3,
          2,
          5,
          1,
          2,
          1,
          4,
          2,
          4,
          1,
          4,
          4,
          3,
          4,
          4,
          1,
          1,
          1,
          5,
          1,
          2,
          5,
          3,
          4,
          4,
          2,
          3,
          3,
          5,
          4,
          1,
          2,
          2,
          2,
          1,
          5,
          4,
          1,
          5,
          3,
          4,
          1,
          3,
          5,
          1,
          1,
          3,
          2,
          1,
          4,
          5,
          2,
          2,
          4,
          5,
          1,
          2,
          4,
          4,
          1,
          3,
          5,
          5,
          4,
          2,
          4,
          1,
          5,
          2,
          5,
          5,
          2,
          2,
          2,
          4,
          3,
          1,
          3,
          2,
          5,
          1,
          5,
          5,
          1,
          1,
          4,
          5,
          1,
          5,
          4,
          1,
          4,
          4,
          4,
          5,
          4,
          3,
          1,
          1,
          2,
          4,
          4,
          3,
          4,
          2,
          5,
          1,
          3,
          1,
          5,
          4,
          4,
          4,
          5,
          5,
          5,
          1,
          5,
          4,
          5,
          2,
          4,
          5,
          1,
          2,
          1
         ],
         "y0": " ",
         "yaxis": "y"
        },
        {
         "alignmentgroup": "True",
         "hovertemplate": "Attrition=Yes<br>Overtime=%{x}<br>Job_Satisfaction=%{y}<extra></extra>",
         "legendgroup": "Yes",
         "marker": {
          "color": "#EF553B"
         },
         "name": "Yes",
         "notched": false,
         "offsetgroup": "Yes",
         "orientation": "v",
         "showlegend": true,
         "type": "box",
         "x": [
          "Yes",
          "No",
          "No",
          "No",
          "Yes",
          "Yes",
          "No",
          "Yes",
          "No",
          "No",
          "Yes",
          "Yes",
          "Yes",
          "Yes",
          "Yes",
          "Yes",
          "Yes",
          "No",
          "No",
          "No",
          "Yes",
          "Yes",
          "Yes",
          "No",
          "No",
          "No",
          "Yes",
          "Yes",
          "Yes",
          "No",
          "Yes",
          "Yes",
          "No",
          "Yes",
          "Yes",
          "No",
          "Yes",
          "Yes",
          "Yes",
          "No",
          "Yes",
          "Yes",
          "Yes",
          "Yes",
          "Yes",
          "Yes",
          "No",
          "Yes",
          "No",
          "Yes",
          "No",
          "No",
          "No",
          "No",
          "Yes",
          "Yes",
          "No",
          "No",
          "Yes",
          "No",
          "Yes",
          "No",
          "No",
          "Yes",
          "No",
          "Yes",
          "No",
          "No",
          "Yes",
          "No",
          "No",
          "Yes",
          "No",
          "No",
          "No",
          "No",
          "Yes",
          "No",
          "No",
          "No",
          "Yes",
          "No",
          "Yes",
          "Yes",
          "Yes",
          "Yes",
          "Yes",
          "No",
          "Yes",
          "No",
          "No",
          "No",
          "Yes",
          "Yes",
          "Yes",
          "No",
          "No",
          "No",
          "No",
          "Yes",
          "Yes",
          "No",
          "Yes",
          "Yes",
          "No",
          "No",
          "No",
          "No",
          "Yes",
          "No",
          "Yes",
          "No",
          "Yes",
          "No",
          "No",
          "Yes",
          "Yes",
          "No",
          "Yes",
          "Yes",
          "No",
          "Yes",
          "No",
          "No",
          "Yes",
          "No",
          "No",
          "Yes",
          "No",
          "No",
          "No",
          "Yes",
          "Yes",
          "Yes",
          "Yes",
          "No",
          "No",
          "No",
          "Yes",
          "Yes",
          "No",
          "No",
          "No",
          "No",
          "No",
          "No",
          "No",
          "No",
          "No",
          "Yes",
          "No",
          "No",
          "Yes",
          "Yes",
          "Yes",
          "Yes",
          "Yes",
          "Yes",
          "No",
          "Yes",
          "No",
          "Yes",
          "No",
          "No",
          "No",
          "Yes",
          "No",
          "No",
          "Yes",
          "Yes",
          "No",
          "No",
          "No",
          "No",
          "Yes",
          "Yes",
          "No",
          "Yes",
          "Yes",
          "No",
          "No",
          "No",
          "No",
          "No",
          "No",
          "Yes",
          "No",
          "No",
          "Yes"
         ],
         "x0": " ",
         "xaxis": "x",
         "y": [
          1,
          4,
          5,
          2,
          3,
          2,
          3,
          4,
          2,
          1,
          2,
          5,
          3,
          4,
          4,
          2,
          1,
          2,
          5,
          5,
          2,
          5,
          4,
          5,
          3,
          3,
          2,
          3,
          1,
          5,
          5,
          5,
          2,
          1,
          5,
          2,
          5,
          4,
          5,
          1,
          4,
          1,
          2,
          5,
          4,
          4,
          2,
          3,
          3,
          2,
          5,
          1,
          4,
          1,
          2,
          5,
          1,
          3,
          5,
          3,
          1,
          4,
          3,
          4,
          5,
          5,
          4,
          5,
          3,
          3,
          1,
          5,
          5,
          5,
          2,
          3,
          2,
          4,
          5,
          5,
          3,
          1,
          1,
          4,
          2,
          4,
          5,
          4,
          2,
          2,
          5,
          3,
          4,
          2,
          3,
          4,
          1,
          1,
          3,
          5,
          4,
          5,
          5,
          1,
          4,
          2,
          1,
          5,
          1,
          2,
          4,
          4,
          3,
          3,
          3,
          3,
          2,
          1,
          5,
          4,
          3,
          1,
          2,
          1,
          1,
          1,
          5,
          5,
          3,
          5,
          5,
          4,
          4,
          1,
          5,
          2,
          4,
          3,
          4,
          5,
          5,
          5,
          4,
          5,
          5,
          4,
          1,
          4,
          4,
          5,
          2,
          1,
          4,
          4,
          2,
          5,
          4,
          2,
          4,
          5,
          2,
          3,
          5,
          1,
          1,
          2,
          4,
          2,
          1,
          1,
          3,
          4,
          4,
          4,
          3,
          5,
          4,
          2,
          5,
          1,
          1,
          3,
          1,
          5,
          3,
          3,
          5,
          2,
          1
         ],
         "y0": " ",
         "yaxis": "y"
        }
       ],
       "layout": {
        "boxmode": "group",
        "legend": {
         "title": {
          "text": "Attrition"
         },
         "tracegroupgap": 0
        },
        "template": {
         "data": {
          "bar": [
           {
            "error_x": {
             "color": "#2a3f5f"
            },
            "error_y": {
             "color": "#2a3f5f"
            },
            "marker": {
             "line": {
              "color": "#E5ECF6",
              "width": 0.5
             },
             "pattern": {
              "fillmode": "overlay",
              "size": 10,
              "solidity": 0.2
             }
            },
            "type": "bar"
           }
          ],
          "barpolar": [
           {
            "marker": {
             "line": {
              "color": "#E5ECF6",
              "width": 0.5
             },
             "pattern": {
              "fillmode": "overlay",
              "size": 10,
              "solidity": 0.2
             }
            },
            "type": "barpolar"
           }
          ],
          "carpet": [
           {
            "aaxis": {
             "endlinecolor": "#2a3f5f",
             "gridcolor": "white",
             "linecolor": "white",
             "minorgridcolor": "white",
             "startlinecolor": "#2a3f5f"
            },
            "baxis": {
             "endlinecolor": "#2a3f5f",
             "gridcolor": "white",
             "linecolor": "white",
             "minorgridcolor": "white",
             "startlinecolor": "#2a3f5f"
            },
            "type": "carpet"
           }
          ],
          "choropleth": [
           {
            "colorbar": {
             "outlinewidth": 0,
             "ticks": ""
            },
            "type": "choropleth"
           }
          ],
          "contour": [
           {
            "colorbar": {
             "outlinewidth": 0,
             "ticks": ""
            },
            "colorscale": [
             [
              0,
              "#0d0887"
             ],
             [
              0.1111111111111111,
              "#46039f"
             ],
             [
              0.2222222222222222,
              "#7201a8"
             ],
             [
              0.3333333333333333,
              "#9c179e"
             ],
             [
              0.4444444444444444,
              "#bd3786"
             ],
             [
              0.5555555555555556,
              "#d8576b"
             ],
             [
              0.6666666666666666,
              "#ed7953"
             ],
             [
              0.7777777777777778,
              "#fb9f3a"
             ],
             [
              0.8888888888888888,
              "#fdca26"
             ],
             [
              1,
              "#f0f921"
             ]
            ],
            "type": "contour"
           }
          ],
          "contourcarpet": [
           {
            "colorbar": {
             "outlinewidth": 0,
             "ticks": ""
            },
            "type": "contourcarpet"
           }
          ],
          "heatmap": [
           {
            "colorbar": {
             "outlinewidth": 0,
             "ticks": ""
            },
            "colorscale": [
             [
              0,
              "#0d0887"
             ],
             [
              0.1111111111111111,
              "#46039f"
             ],
             [
              0.2222222222222222,
              "#7201a8"
             ],
             [
              0.3333333333333333,
              "#9c179e"
             ],
             [
              0.4444444444444444,
              "#bd3786"
             ],
             [
              0.5555555555555556,
              "#d8576b"
             ],
             [
              0.6666666666666666,
              "#ed7953"
             ],
             [
              0.7777777777777778,
              "#fb9f3a"
             ],
             [
              0.8888888888888888,
              "#fdca26"
             ],
             [
              1,
              "#f0f921"
             ]
            ],
            "type": "heatmap"
           }
          ],
          "heatmapgl": [
           {
            "colorbar": {
             "outlinewidth": 0,
             "ticks": ""
            },
            "colorscale": [
             [
              0,
              "#0d0887"
             ],
             [
              0.1111111111111111,
              "#46039f"
             ],
             [
              0.2222222222222222,
              "#7201a8"
             ],
             [
              0.3333333333333333,
              "#9c179e"
             ],
             [
              0.4444444444444444,
              "#bd3786"
             ],
             [
              0.5555555555555556,
              "#d8576b"
             ],
             [
              0.6666666666666666,
              "#ed7953"
             ],
             [
              0.7777777777777778,
              "#fb9f3a"
             ],
             [
              0.8888888888888888,
              "#fdca26"
             ],
             [
              1,
              "#f0f921"
             ]
            ],
            "type": "heatmapgl"
           }
          ],
          "histogram": [
           {
            "marker": {
             "pattern": {
              "fillmode": "overlay",
              "size": 10,
              "solidity": 0.2
             }
            },
            "type": "histogram"
           }
          ],
          "histogram2d": [
           {
            "colorbar": {
             "outlinewidth": 0,
             "ticks": ""
            },
            "colorscale": [
             [
              0,
              "#0d0887"
             ],
             [
              0.1111111111111111,
              "#46039f"
             ],
             [
              0.2222222222222222,
              "#7201a8"
             ],
             [
              0.3333333333333333,
              "#9c179e"
             ],
             [
              0.4444444444444444,
              "#bd3786"
             ],
             [
              0.5555555555555556,
              "#d8576b"
             ],
             [
              0.6666666666666666,
              "#ed7953"
             ],
             [
              0.7777777777777778,
              "#fb9f3a"
             ],
             [
              0.8888888888888888,
              "#fdca26"
             ],
             [
              1,
              "#f0f921"
             ]
            ],
            "type": "histogram2d"
           }
          ],
          "histogram2dcontour": [
           {
            "colorbar": {
             "outlinewidth": 0,
             "ticks": ""
            },
            "colorscale": [
             [
              0,
              "#0d0887"
             ],
             [
              0.1111111111111111,
              "#46039f"
             ],
             [
              0.2222222222222222,
              "#7201a8"
             ],
             [
              0.3333333333333333,
              "#9c179e"
             ],
             [
              0.4444444444444444,
              "#bd3786"
             ],
             [
              0.5555555555555556,
              "#d8576b"
             ],
             [
              0.6666666666666666,
              "#ed7953"
             ],
             [
              0.7777777777777778,
              "#fb9f3a"
             ],
             [
              0.8888888888888888,
              "#fdca26"
             ],
             [
              1,
              "#f0f921"
             ]
            ],
            "type": "histogram2dcontour"
           }
          ],
          "mesh3d": [
           {
            "colorbar": {
             "outlinewidth": 0,
             "ticks": ""
            },
            "type": "mesh3d"
           }
          ],
          "parcoords": [
           {
            "line": {
             "colorbar": {
              "outlinewidth": 0,
              "ticks": ""
             }
            },
            "type": "parcoords"
           }
          ],
          "pie": [
           {
            "automargin": true,
            "type": "pie"
           }
          ],
          "scatter": [
           {
            "fillpattern": {
             "fillmode": "overlay",
             "size": 10,
             "solidity": 0.2
            },
            "type": "scatter"
           }
          ],
          "scatter3d": [
           {
            "line": {
             "colorbar": {
              "outlinewidth": 0,
              "ticks": ""
             }
            },
            "marker": {
             "colorbar": {
              "outlinewidth": 0,
              "ticks": ""
             }
            },
            "type": "scatter3d"
           }
          ],
          "scattercarpet": [
           {
            "marker": {
             "colorbar": {
              "outlinewidth": 0,
              "ticks": ""
             }
            },
            "type": "scattercarpet"
           }
          ],
          "scattergeo": [
           {
            "marker": {
             "colorbar": {
              "outlinewidth": 0,
              "ticks": ""
             }
            },
            "type": "scattergeo"
           }
          ],
          "scattergl": [
           {
            "marker": {
             "colorbar": {
              "outlinewidth": 0,
              "ticks": ""
             }
            },
            "type": "scattergl"
           }
          ],
          "scattermapbox": [
           {
            "marker": {
             "colorbar": {
              "outlinewidth": 0,
              "ticks": ""
             }
            },
            "type": "scattermapbox"
           }
          ],
          "scatterpolar": [
           {
            "marker": {
             "colorbar": {
              "outlinewidth": 0,
              "ticks": ""
             }
            },
            "type": "scatterpolar"
           }
          ],
          "scatterpolargl": [
           {
            "marker": {
             "colorbar": {
              "outlinewidth": 0,
              "ticks": ""
             }
            },
            "type": "scatterpolargl"
           }
          ],
          "scatterternary": [
           {
            "marker": {
             "colorbar": {
              "outlinewidth": 0,
              "ticks": ""
             }
            },
            "type": "scatterternary"
           }
          ],
          "surface": [
           {
            "colorbar": {
             "outlinewidth": 0,
             "ticks": ""
            },
            "colorscale": [
             [
              0,
              "#0d0887"
             ],
             [
              0.1111111111111111,
              "#46039f"
             ],
             [
              0.2222222222222222,
              "#7201a8"
             ],
             [
              0.3333333333333333,
              "#9c179e"
             ],
             [
              0.4444444444444444,
              "#bd3786"
             ],
             [
              0.5555555555555556,
              "#d8576b"
             ],
             [
              0.6666666666666666,
              "#ed7953"
             ],
             [
              0.7777777777777778,
              "#fb9f3a"
             ],
             [
              0.8888888888888888,
              "#fdca26"
             ],
             [
              1,
              "#f0f921"
             ]
            ],
            "type": "surface"
           }
          ],
          "table": [
           {
            "cells": {
             "fill": {
              "color": "#EBF0F8"
             },
             "line": {
              "color": "white"
             }
            },
            "header": {
             "fill": {
              "color": "#C8D4E3"
             },
             "line": {
              "color": "white"
             }
            },
            "type": "table"
           }
          ]
         },
         "layout": {
          "annotationdefaults": {
           "arrowcolor": "#2a3f5f",
           "arrowhead": 0,
           "arrowwidth": 1
          },
          "autotypenumbers": "strict",
          "coloraxis": {
           "colorbar": {
            "outlinewidth": 0,
            "ticks": ""
           }
          },
          "colorscale": {
           "diverging": [
            [
             0,
             "#8e0152"
            ],
            [
             0.1,
             "#c51b7d"
            ],
            [
             0.2,
             "#de77ae"
            ],
            [
             0.3,
             "#f1b6da"
            ],
            [
             0.4,
             "#fde0ef"
            ],
            [
             0.5,
             "#f7f7f7"
            ],
            [
             0.6,
             "#e6f5d0"
            ],
            [
             0.7,
             "#b8e186"
            ],
            [
             0.8,
             "#7fbc41"
            ],
            [
             0.9,
             "#4d9221"
            ],
            [
             1,
             "#276419"
            ]
           ],
           "sequential": [
            [
             0,
             "#0d0887"
            ],
            [
             0.1111111111111111,
             "#46039f"
            ],
            [
             0.2222222222222222,
             "#7201a8"
            ],
            [
             0.3333333333333333,
             "#9c179e"
            ],
            [
             0.4444444444444444,
             "#bd3786"
            ],
            [
             0.5555555555555556,
             "#d8576b"
            ],
            [
             0.6666666666666666,
             "#ed7953"
            ],
            [
             0.7777777777777778,
             "#fb9f3a"
            ],
            [
             0.8888888888888888,
             "#fdca26"
            ],
            [
             1,
             "#f0f921"
            ]
           ],
           "sequentialminus": [
            [
             0,
             "#0d0887"
            ],
            [
             0.1111111111111111,
             "#46039f"
            ],
            [
             0.2222222222222222,
             "#7201a8"
            ],
            [
             0.3333333333333333,
             "#9c179e"
            ],
            [
             0.4444444444444444,
             "#bd3786"
            ],
            [
             0.5555555555555556,
             "#d8576b"
            ],
            [
             0.6666666666666666,
             "#ed7953"
            ],
            [
             0.7777777777777778,
             "#fb9f3a"
            ],
            [
             0.8888888888888888,
             "#fdca26"
            ],
            [
             1,
             "#f0f921"
            ]
           ]
          },
          "colorway": [
           "#636efa",
           "#EF553B",
           "#00cc96",
           "#ab63fa",
           "#FFA15A",
           "#19d3f3",
           "#FF6692",
           "#B6E880",
           "#FF97FF",
           "#FECB52"
          ],
          "font": {
           "color": "#2a3f5f"
          },
          "geo": {
           "bgcolor": "white",
           "lakecolor": "white",
           "landcolor": "#E5ECF6",
           "showlakes": true,
           "showland": true,
           "subunitcolor": "white"
          },
          "hoverlabel": {
           "align": "left"
          },
          "hovermode": "closest",
          "mapbox": {
           "style": "light"
          },
          "paper_bgcolor": "white",
          "plot_bgcolor": "#E5ECF6",
          "polar": {
           "angularaxis": {
            "gridcolor": "white",
            "linecolor": "white",
            "ticks": ""
           },
           "bgcolor": "#E5ECF6",
           "radialaxis": {
            "gridcolor": "white",
            "linecolor": "white",
            "ticks": ""
           }
          },
          "scene": {
           "xaxis": {
            "backgroundcolor": "#E5ECF6",
            "gridcolor": "white",
            "gridwidth": 2,
            "linecolor": "white",
            "showbackground": true,
            "ticks": "",
            "zerolinecolor": "white"
           },
           "yaxis": {
            "backgroundcolor": "#E5ECF6",
            "gridcolor": "white",
            "gridwidth": 2,
            "linecolor": "white",
            "showbackground": true,
            "ticks": "",
            "zerolinecolor": "white"
           },
           "zaxis": {
            "backgroundcolor": "#E5ECF6",
            "gridcolor": "white",
            "gridwidth": 2,
            "linecolor": "white",
            "showbackground": true,
            "ticks": "",
            "zerolinecolor": "white"
           }
          },
          "shapedefaults": {
           "line": {
            "color": "#2a3f5f"
           }
          },
          "ternary": {
           "aaxis": {
            "gridcolor": "white",
            "linecolor": "white",
            "ticks": ""
           },
           "baxis": {
            "gridcolor": "white",
            "linecolor": "white",
            "ticks": ""
           },
           "bgcolor": "#E5ECF6",
           "caxis": {
            "gridcolor": "white",
            "linecolor": "white",
            "ticks": ""
           }
          },
          "title": {
           "x": 0.05
          },
          "xaxis": {
           "automargin": true,
           "gridcolor": "white",
           "linecolor": "white",
           "ticks": "",
           "title": {
            "standoff": 15
           },
           "zerolinecolor": "white",
           "zerolinewidth": 2
          },
          "yaxis": {
           "automargin": true,
           "gridcolor": "white",
           "linecolor": "white",
           "ticks": "",
           "title": {
            "standoff": 15
           },
           "zerolinecolor": "white",
           "zerolinewidth": 2
          }
         }
        },
        "title": {
         "text": "Overtime vs Job Satisfaction by Attrition"
        },
        "xaxis": {
         "anchor": "y",
         "domain": [
          0,
          1
         ],
         "title": {
          "text": "Overtime"
         }
        },
        "yaxis": {
         "anchor": "x",
         "domain": [
          0,
          1
         ],
         "title": {
          "text": "Job_Satisfaction"
         }
        }
       }
      }
     },
     "metadata": {},
     "output_type": "display_data"
    },
    {
     "data": {
      "application/vnd.plotly.v1+json": {
       "config": {
        "plotlyServerURL": "https://plot.ly"
       },
       "data": [
        {
         "alignmentgroup": "True",
         "box": {
          "visible": true
         },
         "hovertemplate": "Attrition=No<br>Department=%{x}<br>Monthly_Income=%{y}<extra></extra>",
         "legendgroup": "No",
         "marker": {
          "color": "#636efa"
         },
         "name": "No",
         "offsetgroup": "No",
         "orientation": "v",
         "points": "all",
         "scalegroup": "True",
         "showlegend": true,
         "type": "violin",
         "x": [
          "IT",
          "Sales",
          "Marketing",
          "Marketing",
          "Marketing",
          "Finance",
          "HR",
          "Marketing",
          "IT",
          "Marketing",
          "IT",
          "Finance",
          "IT",
          "Sales",
          "HR",
          "HR",
          "Finance",
          "HR",
          "Finance",
          "Finance",
          "Finance",
          "HR",
          "HR",
          "Finance",
          "IT",
          "Finance",
          "Sales",
          "IT",
          "IT",
          "HR",
          "Marketing",
          "HR",
          "Finance",
          "Sales",
          "Finance",
          "IT",
          "IT",
          "Sales",
          "HR",
          "Marketing",
          "Finance",
          "Sales",
          "Sales",
          "Marketing",
          "IT",
          "Finance",
          "HR",
          "Marketing",
          "IT",
          "Marketing",
          "IT",
          "Marketing",
          "Sales",
          "Sales",
          "HR",
          "Marketing",
          "Finance",
          "HR",
          "Marketing",
          "HR",
          "HR",
          "IT",
          "Marketing",
          "Finance",
          "IT",
          "HR",
          "HR",
          "HR",
          "Marketing",
          "Marketing",
          "IT",
          "Finance",
          "IT",
          "Sales",
          "HR",
          "HR",
          "IT",
          "HR",
          "IT",
          "Marketing",
          "IT",
          "HR",
          "IT",
          "IT",
          "Sales",
          "Marketing",
          "Finance",
          "Finance",
          "Sales",
          "IT",
          "Sales",
          "HR",
          "Marketing",
          "IT",
          "Finance",
          "Marketing",
          "Finance",
          "Finance",
          "Sales",
          "Marketing",
          "HR",
          "IT",
          "Finance",
          "IT",
          "IT",
          "HR",
          "Sales",
          "Finance",
          "HR",
          "IT",
          "Finance",
          "Sales",
          "Finance",
          "HR",
          "Sales",
          "IT",
          "Sales",
          "Marketing",
          "Sales",
          "Finance",
          "IT",
          "Finance",
          "HR",
          "Finance",
          "Marketing",
          "Marketing",
          "HR",
          "IT",
          "IT",
          "Finance",
          "Finance",
          "Sales",
          "Marketing",
          "Sales",
          "IT",
          "Sales",
          "Finance",
          "Marketing",
          "Finance",
          "Sales",
          "Finance",
          "Sales",
          "HR",
          "Sales",
          "Marketing",
          "Marketing",
          "Marketing",
          "Marketing",
          "IT",
          "Finance",
          "Finance",
          "IT",
          "Sales",
          "Sales",
          "HR",
          "HR",
          "Finance",
          "HR",
          "Finance",
          "IT",
          "Marketing",
          "Sales",
          "Marketing",
          "Marketing",
          "HR",
          "Finance",
          "IT",
          "Finance",
          "Finance",
          "HR",
          "IT",
          "Finance",
          "Finance",
          "HR",
          "IT",
          "Sales",
          "Finance",
          "Finance",
          "IT",
          "Marketing",
          "Finance",
          "IT",
          "HR",
          "Marketing",
          "Sales",
          "Finance",
          "IT",
          "HR",
          "IT",
          "Sales",
          "HR",
          "HR",
          "Finance",
          "Sales",
          "Sales",
          "Sales",
          "Finance",
          "Marketing",
          "IT",
          "IT",
          "Sales",
          "Finance",
          "HR",
          "Finance",
          "Finance",
          "HR",
          "Sales",
          "Finance",
          "IT",
          "HR",
          "Marketing",
          "Sales",
          "HR",
          "Marketing",
          "Marketing",
          "Finance",
          "Finance",
          "HR",
          "Sales",
          "Finance",
          "IT",
          "Sales",
          "HR",
          "Sales",
          "Sales",
          "Sales",
          "Sales",
          "IT",
          "Finance",
          "Marketing",
          "Sales",
          "Sales",
          "Sales",
          "Finance",
          "HR",
          "IT",
          "HR",
          "Sales",
          "Sales",
          "Sales",
          "HR",
          "Finance",
          "Finance",
          "Marketing",
          "HR",
          "Sales",
          "Finance",
          "HR",
          "Sales",
          "Finance",
          "Marketing",
          "Marketing",
          "Finance",
          "HR",
          "Finance",
          "HR",
          "Sales",
          "Marketing",
          "Sales",
          "HR",
          "Finance",
          "Sales",
          "Finance",
          "Finance",
          "IT",
          "HR",
          "Marketing",
          "HR",
          "Finance",
          "IT",
          "Marketing",
          "Marketing",
          "Finance",
          "Marketing",
          "Sales",
          "Finance",
          "HR",
          "Marketing",
          "Marketing",
          "HR",
          "Marketing",
          "HR",
          "Finance",
          "Sales",
          "HR",
          "IT",
          "Finance",
          "Finance",
          "HR",
          "Sales",
          "IT",
          "Finance",
          "Marketing",
          "Sales",
          "Finance",
          "Marketing",
          "Sales",
          "Finance",
          "Finance",
          "Finance",
          "Marketing",
          "Sales",
          "Finance",
          "IT",
          "Sales",
          "HR",
          "HR",
          "IT",
          "Marketing",
          "Finance",
          "Sales",
          "Sales",
          "Finance",
          "IT",
          "HR",
          "HR",
          "Marketing",
          "Sales",
          "Sales",
          "HR",
          "Marketing",
          "Marketing",
          "HR",
          "HR",
          "Sales",
          "Finance",
          "Finance",
          "IT",
          "Marketing",
          "IT",
          "Sales",
          "HR",
          "HR",
          "HR",
          "Sales",
          "HR",
          "Marketing",
          "Sales",
          "Sales",
          "Marketing",
          "Marketing",
          "HR",
          "Finance",
          "Sales",
          "Finance",
          "Marketing",
          "Marketing",
          "Marketing",
          "Marketing",
          "HR",
          "Marketing",
          "IT",
          "IT",
          "Marketing",
          "HR",
          "Sales",
          "Marketing",
          "HR",
          "Finance",
          "IT",
          "IT",
          "IT",
          "Finance",
          "HR",
          "IT",
          "Marketing",
          "Sales",
          "Finance",
          "HR",
          "HR",
          "Finance",
          "IT",
          "Sales",
          "HR",
          "IT",
          "Marketing",
          "HR",
          "Sales",
          "Sales",
          "Marketing",
          "IT",
          "IT",
          "Sales",
          "HR",
          "HR",
          "Finance",
          "Sales",
          "Finance",
          "Marketing",
          "Marketing",
          "Sales",
          "HR",
          "HR",
          "Finance",
          "Sales",
          "HR",
          "Marketing",
          "Marketing",
          "Marketing",
          "HR",
          "HR",
          "HR",
          "Finance",
          "Marketing",
          "Finance",
          "Marketing",
          "Marketing",
          "IT",
          "Finance",
          "Finance",
          "IT",
          "Sales",
          "Sales",
          "Finance",
          "HR",
          "Sales",
          "HR",
          "Finance",
          "Finance",
          "HR",
          "IT",
          "Finance",
          "Marketing",
          "Finance",
          "Marketing",
          "HR",
          "HR",
          "Finance",
          "Sales",
          "IT",
          "Finance",
          "IT",
          "Finance",
          "Sales",
          "Sales",
          "Sales",
          "Sales",
          "Marketing",
          "IT",
          "Finance",
          "HR",
          "Finance",
          "HR",
          "Marketing",
          "IT",
          "Marketing",
          "Sales",
          "Sales",
          "Sales",
          "Marketing",
          "Finance",
          "Sales",
          "Sales",
          "Sales",
          "Sales",
          "Sales",
          "Marketing",
          "Marketing",
          "IT",
          "Marketing",
          "IT",
          "Marketing",
          "IT",
          "Finance",
          "Marketing",
          "Sales",
          "Finance",
          "IT",
          "Finance",
          "HR",
          "HR",
          "Marketing",
          "Sales",
          "Finance",
          "HR",
          "Marketing",
          "Finance",
          "Marketing",
          "HR",
          "HR",
          "Marketing",
          "IT",
          "Marketing",
          "Sales",
          "Sales",
          "IT",
          "IT",
          "Marketing",
          "Sales",
          "Marketing",
          "Finance",
          "Finance",
          "Sales",
          "HR",
          "Finance",
          "Sales",
          "IT",
          "Sales",
          "Finance",
          "Sales",
          "Marketing",
          "Finance",
          "IT",
          "HR",
          "IT",
          "Sales",
          "Marketing",
          "Marketing",
          "Finance",
          "Marketing",
          "HR",
          "Marketing",
          "Finance",
          "Sales",
          "Sales",
          "Marketing",
          "Sales",
          "Finance",
          "Marketing",
          "Sales",
          "Finance",
          "HR",
          "Finance",
          "HR",
          "Finance",
          "HR",
          "Sales",
          "Sales",
          "IT",
          "Finance",
          "Finance",
          "IT",
          "Finance",
          "Sales",
          "Sales",
          "HR",
          "Sales",
          "IT",
          "HR",
          "Sales",
          "Marketing",
          "Sales",
          "IT",
          "Finance",
          "Sales",
          "HR",
          "Finance",
          "Marketing",
          "HR",
          "HR",
          "HR",
          "Sales",
          "Sales",
          "Sales",
          "Marketing",
          "Marketing",
          "Marketing",
          "IT",
          "Marketing",
          "Sales",
          "Sales",
          "IT",
          "Marketing",
          "Finance",
          "IT",
          "HR",
          "HR",
          "Sales",
          "Sales",
          "IT",
          "HR",
          "Sales",
          "HR",
          "Finance",
          "HR",
          "Marketing",
          "HR",
          "Marketing",
          "Marketing",
          "Finance",
          "HR",
          "HR",
          "Finance",
          "Sales",
          "IT",
          "HR",
          "IT",
          "Finance",
          "Sales",
          "Sales",
          "Finance",
          "Marketing",
          "Marketing",
          "IT",
          "Marketing",
          "Marketing",
          "Sales",
          "IT",
          "HR",
          "IT",
          "IT",
          "Finance",
          "Finance",
          "IT",
          "IT",
          "IT",
          "Marketing",
          "Finance",
          "IT",
          "Sales",
          "Marketing",
          "Marketing",
          "HR",
          "HR",
          "Marketing",
          "Marketing",
          "Marketing",
          "Sales",
          "Marketing",
          "Sales",
          "HR",
          "IT",
          "Finance",
          "Finance",
          "Finance",
          "IT",
          "IT",
          "Finance",
          "Finance",
          "Marketing",
          "Finance",
          "Sales",
          "Finance",
          "IT",
          "IT",
          "Sales",
          "HR",
          "Finance",
          "HR",
          "HR",
          "HR",
          "Marketing",
          "IT",
          "IT",
          "IT",
          "HR",
          "Marketing",
          "Finance",
          "HR",
          "Sales",
          "HR",
          "HR",
          "Sales",
          "Sales",
          "HR",
          "Finance",
          "Finance",
          "Finance",
          "IT",
          "Sales",
          "Marketing",
          "Sales",
          "HR",
          "Finance",
          "Marketing",
          "HR",
          "IT",
          "Marketing",
          "HR",
          "Finance",
          "Sales",
          "HR",
          "Marketing",
          "Sales",
          "Marketing",
          "Marketing",
          "HR",
          "Sales",
          "HR",
          "Finance",
          "HR",
          "Marketing",
          "Sales",
          "Sales",
          "Finance",
          "Marketing",
          "IT",
          "HR",
          "Marketing",
          "HR",
          "Sales",
          "Finance",
          "HR",
          "Finance",
          "HR",
          "Marketing",
          "IT",
          "Marketing",
          "Finance",
          "IT",
          "HR",
          "HR",
          "Sales",
          "HR",
          "Marketing",
          "Marketing",
          "Marketing",
          "IT",
          "HR",
          "Finance",
          "IT",
          "Sales",
          "Finance",
          "Finance",
          "Finance",
          "Marketing",
          "Finance",
          "Finance",
          "Marketing",
          "Sales",
          "Sales",
          "Marketing",
          "HR",
          "HR",
          "IT",
          "Marketing",
          "Finance",
          "Marketing",
          "IT",
          "Marketing",
          "Marketing",
          "IT",
          "Finance",
          "IT",
          "Sales",
          "HR",
          "Finance",
          "Marketing",
          "Sales",
          "HR",
          "Finance",
          "IT",
          "IT",
          "HR",
          "Finance",
          "Finance",
          "IT",
          "Finance",
          "Sales",
          "Marketing",
          "IT",
          "Sales",
          "HR",
          "IT",
          "Marketing",
          "Marketing",
          "HR",
          "HR",
          "Finance",
          "Sales",
          "Marketing",
          "Finance",
          "Marketing",
          "Finance",
          "Sales",
          "Sales",
          "HR",
          "Marketing",
          "Sales",
          "Sales",
          "Marketing",
          "HR",
          "Marketing",
          "IT",
          "IT",
          "Finance",
          "Finance",
          "Finance",
          "IT",
          "Finance",
          "IT",
          "Marketing",
          "Finance",
          "IT",
          "Sales",
          "HR",
          "HR",
          "Sales",
          "IT",
          "Finance",
          "IT",
          "HR",
          "IT",
          "HR",
          "IT",
          "Sales",
          "Sales",
          "Marketing",
          "Marketing",
          "Finance",
          "Finance",
          "Sales",
          "Sales",
          "HR",
          "Finance",
          "Finance",
          "HR",
          "HR",
          "IT",
          "HR",
          "IT"
         ],
         "x0": " ",
         "xaxis": "x",
         "y": [
          15488,
          13079,
          13744,
          6809,
          10206,
          16746,
          18995,
          19035,
          14671,
          16210,
          18553,
          10452,
          11718,
          17859,
          5172,
          16158,
          19663,
          14085,
          6981,
          8247,
          13553,
          9135,
          16731,
          10189,
          14087,
          16667,
          5776,
          10697,
          17629,
          11386,
          11044,
          18034,
          13900,
          8581,
          5014,
          15997,
          13635,
          16648,
          10148,
          17022,
          8919,
          7651,
          10940,
          6866,
          19755,
          5253,
          7942,
          15330,
          3864,
          4268,
          8229,
          19309,
          3935,
          15172,
          13530,
          18560,
          19156,
          19709,
          12726,
          10774,
          4985,
          17252,
          7603,
          18960,
          12462,
          17166,
          10754,
          17246,
          7078,
          15853,
          7042,
          19284,
          17389,
          5575,
          9754,
          4986,
          8968,
          7103,
          5076,
          5994,
          17466,
          17523,
          10531,
          10371,
          17547,
          6144,
          16990,
          17083,
          19626,
          10954,
          10269,
          9828,
          11844,
          9331,
          13291,
          13164,
          13450,
          5035,
          14463,
          10977,
          15182,
          3298,
          3923,
          16331,
          7875,
          15254,
          13905,
          16353,
          18882,
          12663,
          3941,
          4907,
          7837,
          16680,
          8696,
          19226,
          15615,
          4466,
          3262,
          14580,
          13136,
          4893,
          11106,
          14826,
          4652,
          3599,
          11792,
          6637,
          13355,
          18989,
          8599,
          16945,
          13762,
          10382,
          11982,
          10707,
          12269,
          10008,
          18523,
          6618,
          16007,
          5547,
          6164,
          17327,
          3946,
          17693,
          19890,
          18540,
          9719,
          11435,
          14350,
          6590,
          13064,
          3390,
          14569,
          16107,
          5560,
          8867,
          18284,
          4211,
          4539,
          11693,
          11921,
          15744,
          7386,
          15242,
          17257,
          16946,
          8930,
          8402,
          3507,
          4436,
          14618,
          11750,
          10354,
          14294,
          16840,
          7399,
          8037,
          18848,
          6715,
          17877,
          10837,
          4301,
          10370,
          9411,
          9365,
          18449,
          4478,
          11448,
          13622,
          19825,
          5646,
          8209,
          9533,
          10211,
          14927,
          12316,
          15177,
          13846,
          10933,
          8476,
          16853,
          10928,
          5080,
          9089,
          10797,
          11346,
          3904,
          19788,
          12974,
          4184,
          4725,
          14380,
          16057,
          8606,
          6956,
          19081,
          8540,
          19288,
          18882,
          7675,
          12082,
          16009,
          9748,
          9103,
          14348,
          12782,
          8882,
          8798,
          12627,
          11415,
          15466,
          12846,
          15720,
          7524,
          9559,
          10620,
          6124,
          15070,
          11134,
          3924,
          8506,
          16650,
          5395,
          18310,
          11226,
          14781,
          6365,
          19972,
          14410,
          12095,
          13361,
          12906,
          19940,
          14279,
          8452,
          9477,
          9470,
          5062,
          14671,
          17308,
          5313,
          12706,
          12837,
          8831,
          7056,
          4689,
          6917,
          17506,
          17318,
          18300,
          18674,
          8560,
          18451,
          4079,
          16983,
          18327,
          15755,
          10235,
          5031,
          11514,
          12095,
          17287,
          8911,
          14695,
          18896,
          15435,
          4141,
          12281,
          5038,
          7270,
          13046,
          19878,
          10116,
          6786,
          12190,
          8428,
          9681,
          17892,
          12643,
          12943,
          13472,
          15992,
          9869,
          10669,
          14538,
          13171,
          16851,
          15979,
          17745,
          8730,
          16921,
          3126,
          8602,
          15581,
          12211,
          9671,
          15271,
          12654,
          7086,
          7180,
          5841,
          9040,
          13304,
          7758,
          19234,
          4375,
          4181,
          8974,
          4882,
          7530,
          4073,
          16743,
          12562,
          5156,
          19184,
          10966,
          5580,
          5159,
          19172,
          16900,
          14440,
          17678,
          17436,
          15021,
          9772,
          4627,
          11219,
          12713,
          11488,
          5181,
          10164,
          3901,
          12290,
          5881,
          16058,
          8622,
          4378,
          8650,
          15433,
          12456,
          10036,
          9487,
          7603,
          15632,
          3220,
          7818,
          10349,
          8618,
          12856,
          7576,
          18207,
          4462,
          18905,
          19252,
          11236,
          8753,
          10237,
          17175,
          9191,
          17622,
          4001,
          17877,
          13232,
          7476,
          19862,
          3515,
          4191,
          16448,
          9297,
          11334,
          9008,
          10987,
          3787,
          9222,
          12873,
          5572,
          9915,
          8033,
          10788,
          18689,
          14452,
          7712,
          15478,
          18103,
          16277,
          8730,
          13724,
          14772,
          19268,
          15940,
          19932,
          17643,
          19955,
          14469,
          3178,
          3798,
          10601,
          5795,
          15496,
          7588,
          10297,
          6084,
          14110,
          3731,
          4129,
          4605,
          14970,
          14362,
          5933,
          18187,
          8074,
          17037,
          10099,
          3893,
          4390,
          5371,
          4515,
          18906,
          17605,
          8586,
          5917,
          18901,
          6793,
          12947,
          18859,
          4577,
          12488,
          12164,
          4030,
          13785,
          9691,
          9358,
          18511,
          18897,
          14646,
          18474,
          10037,
          12499,
          16386,
          9221,
          17356,
          10389,
          7922,
          16639,
          13003,
          8178,
          18240,
          6968,
          5716,
          16511,
          11181,
          15995,
          14298,
          19762,
          9380,
          3615,
          12158,
          6158,
          16434,
          7938,
          11881,
          8603,
          19766,
          14695,
          12775,
          17559,
          9146,
          11802,
          11307,
          3446,
          4391,
          14891,
          17998,
          12265,
          8454,
          6150,
          18386,
          9414,
          7657,
          8480,
          11033,
          3983,
          11543,
          12916,
          13143,
          18581,
          4907,
          12216,
          11737,
          16757,
          7174,
          18708,
          12297,
          4990,
          19374,
          18706,
          17645,
          16668,
          18960,
          7435,
          18804,
          17626,
          9449,
          6199,
          9768,
          12130,
          11633,
          7225,
          9054,
          4505,
          12053,
          18749,
          19344,
          4551,
          18154,
          16799,
          9852,
          4449,
          5659,
          10509,
          5721,
          13490,
          12824,
          9240,
          19896,
          3215,
          10299,
          13364,
          6153,
          4706,
          13298,
          4567,
          13400,
          13345,
          4128,
          10867,
          8583,
          7897,
          9001,
          7567,
          12271,
          17348,
          14703,
          16329,
          9256,
          3228,
          19678,
          7284,
          16390,
          3918,
          14445,
          3498,
          5809,
          7961,
          12017,
          6779,
          5118,
          9391,
          3145,
          16929,
          17917,
          7565,
          19576,
          9637,
          11243,
          5410,
          4820,
          8882,
          4867,
          10465,
          14461,
          9103,
          15197,
          18424,
          3240,
          7631,
          12599,
          14694,
          8077,
          6768,
          12142,
          10995,
          16276,
          15746,
          14475,
          9568,
          5601,
          16854,
          5159,
          11313,
          7368,
          4317,
          4230,
          4301,
          18927,
          4910,
          17904,
          11107,
          19562,
          12088,
          17260,
          12743,
          11683,
          3060,
          12269,
          5895,
          18323,
          15352,
          14875,
          8823,
          3534,
          7011,
          9957,
          12196,
          13691,
          16327,
          5706,
          3001,
          12225,
          13891,
          4861,
          8269,
          18699,
          11320,
          19821,
          13740,
          6129,
          8398,
          8529,
          6918,
          19410,
          9937,
          10118,
          8338,
          15472,
          6140,
          10996,
          18489,
          17201,
          10776,
          7943,
          15886,
          10798,
          11092,
          14810,
          17914,
          5460,
          11737,
          16920,
          13754,
          18360,
          12951,
          5565,
          6174,
          5630,
          7321,
          16204,
          10099,
          14360,
          16502,
          17130,
          17271,
          19075,
          7151,
          11911,
          15861,
          3666,
          8840,
          6565,
          18630,
          10382,
          19149,
          18871,
          16273,
          3992,
          5121,
          15388,
          7136,
          19727,
          15653,
          18479,
          7823,
          8471,
          12533,
          10127,
          6720,
          18696,
          4364,
          5708,
          15982,
          3151,
          5321,
          16865,
          3495,
          14987,
          3556,
          16393,
          6085,
          3156,
          11926,
          10162,
          11055,
          7654,
          14468,
          3154,
          10950,
          18323,
          7626,
          17259,
          17873,
          12369,
          3153,
          10853,
          8599,
          14049,
          3786,
          7368,
          17923,
          7272,
          8994,
          17086,
          12261,
          10011,
          12344,
          9704,
          18896,
          3143,
          13681,
          10367,
          6228,
          7582,
          16147,
          14397,
          9031,
          16647,
          18146,
          7185,
          15486,
          10328,
          19684,
          6010,
          8555,
          3067,
          4537,
          19781,
          8680,
          11747,
          5941,
          13849,
          10067,
          13151,
          18126,
          18613,
          9447,
          9273,
          4299,
          9701,
          7994,
          18627,
          11269,
          5831,
          14602,
          14819,
          14619,
          19661,
          6089,
          3523,
          15410,
          18732,
          11167,
          8190,
          7575,
          10727,
          5131,
          17900,
          14332,
          9666,
          19526,
          15479,
          4410,
          15665,
          3534,
          6342,
          16465,
          7500,
          4172,
          4641,
          19855,
          11738
         ],
         "y0": " ",
         "yaxis": "y"
        },
        {
         "alignmentgroup": "True",
         "box": {
          "visible": true
         },
         "hovertemplate": "Attrition=Yes<br>Department=%{x}<br>Monthly_Income=%{y}<extra></extra>",
         "legendgroup": "Yes",
         "marker": {
          "color": "#EF553B"
         },
         "name": "Yes",
         "offsetgroup": "Yes",
         "orientation": "v",
         "points": "all",
         "scalegroup": "True",
         "showlegend": true,
         "type": "violin",
         "x": [
          "Finance",
          "Finance",
          "Marketing",
          "Finance",
          "Finance",
          "Finance",
          "Marketing",
          "IT",
          "HR",
          "IT",
          "Finance",
          "IT",
          "IT",
          "Marketing",
          "Sales",
          "HR",
          "HR",
          "IT",
          "Marketing",
          "IT",
          "Sales",
          "Finance",
          "Finance",
          "HR",
          "Sales",
          "Sales",
          "Finance",
          "Finance",
          "IT",
          "Sales",
          "HR",
          "HR",
          "Marketing",
          "Finance",
          "HR",
          "Marketing",
          "Sales",
          "IT",
          "Finance",
          "Sales",
          "Sales",
          "Marketing",
          "Sales",
          "IT",
          "Marketing",
          "HR",
          "Finance",
          "HR",
          "Marketing",
          "HR",
          "Sales",
          "IT",
          "Finance",
          "HR",
          "HR",
          "Sales",
          "HR",
          "HR",
          "Marketing",
          "Sales",
          "Sales",
          "Marketing",
          "HR",
          "Marketing",
          "Marketing",
          "HR",
          "Finance",
          "Finance",
          "IT",
          "HR",
          "HR",
          "IT",
          "Marketing",
          "HR",
          "Marketing",
          "Finance",
          "HR",
          "Marketing",
          "HR",
          "HR",
          "HR",
          "Marketing",
          "Marketing",
          "Sales",
          "Sales",
          "Finance",
          "Finance",
          "Finance",
          "Finance",
          "IT",
          "IT",
          "Sales",
          "IT",
          "IT",
          "Sales",
          "IT",
          "Sales",
          "IT",
          "Sales",
          "HR",
          "Finance",
          "Sales",
          "IT",
          "Marketing",
          "HR",
          "HR",
          "Finance",
          "IT",
          "IT",
          "IT",
          "Marketing",
          "Marketing",
          "Marketing",
          "Marketing",
          "Sales",
          "IT",
          "HR",
          "Marketing",
          "Finance",
          "Sales",
          "Marketing",
          "Marketing",
          "HR",
          "Sales",
          "IT",
          "Marketing",
          "Marketing",
          "IT",
          "Finance",
          "HR",
          "Sales",
          "Finance",
          "Sales",
          "Marketing",
          "HR",
          "IT",
          "Sales",
          "IT",
          "Marketing",
          "Sales",
          "Sales",
          "Sales",
          "HR",
          "HR",
          "HR",
          "IT",
          "Marketing",
          "IT",
          "IT",
          "IT",
          "HR",
          "Marketing",
          "Finance",
          "Sales",
          "IT",
          "Sales",
          "IT",
          "IT",
          "Marketing",
          "Finance",
          "HR",
          "Finance",
          "Finance",
          "IT",
          "Sales",
          "Marketing",
          "Finance",
          "HR",
          "Finance",
          "HR",
          "HR",
          "Sales",
          "Finance",
          "Finance",
          "Finance",
          "HR",
          "HR",
          "IT",
          "Finance",
          "HR",
          "HR",
          "Finance",
          "Marketing",
          "HR",
          "Finance",
          "Sales",
          "Marketing",
          "HR",
          "IT"
         ],
         "x0": " ",
         "xaxis": "x",
         "y": [
          8197,
          8573,
          17541,
          13878,
          12311,
          12615,
          8060,
          18886,
          9638,
          3609,
          13348,
          19999,
          10454,
          16666,
          15370,
          7054,
          18470,
          10493,
          6744,
          8594,
          10130,
          17220,
          16397,
          9578,
          16543,
          3375,
          10833,
          12290,
          17342,
          17312,
          7633,
          16778,
          3272,
          17414,
          18576,
          15668,
          16029,
          12121,
          13310,
          11947,
          19017,
          19122,
          3692,
          9396,
          13073,
          12927,
          19555,
          3421,
          18966,
          12145,
          11671,
          14706,
          8515,
          11531,
          7270,
          12030,
          4813,
          3305,
          17347,
          5936,
          6862,
          8649,
          6340,
          10876,
          7683,
          4784,
          9893,
          15661,
          14126,
          13065,
          5962,
          8296,
          18997,
          17997,
          11876,
          5887,
          8014,
          3490,
          6729,
          5987,
          8585,
          6159,
          5693,
          7340,
          10257,
          14664,
          14594,
          7248,
          17226,
          10813,
          5068,
          15478,
          13860,
          19655,
          6332,
          6676,
          3066,
          18855,
          10533,
          7616,
          3198,
          12830,
          16798,
          13937,
          7239,
          6432,
          9326,
          18881,
          4462,
          13570,
          10769,
          19574,
          3463,
          8417,
          5212,
          3371,
          8565,
          10437,
          14516,
          18454,
          8969,
          18861,
          13486,
          17894,
          8596,
          6775,
          14357,
          10951,
          19980,
          13832,
          17783,
          15444,
          12637,
          5925,
          14523,
          14113,
          5741,
          16264,
          13050,
          5521,
          19053,
          9080,
          16272,
          5757,
          9464,
          18124,
          19969,
          14962,
          5155,
          17820,
          14112,
          17380,
          14360,
          19931,
          13860,
          11997,
          6225,
          13833,
          6114,
          6161,
          13313,
          8801,
          19667,
          13426,
          10366,
          9858,
          7920,
          5148,
          4552,
          16016,
          15379,
          18792,
          17785,
          10011,
          4212,
          17141,
          7243,
          14496,
          12549,
          15185,
          14549,
          18116,
          8499,
          10489,
          4996,
          18378,
          4797,
          6364,
          11007
         ],
         "y0": " ",
         "yaxis": "y"
        }
       ],
       "layout": {
        "legend": {
         "title": {
          "text": "Attrition"
         },
         "tracegroupgap": 0
        },
        "template": {
         "data": {
          "bar": [
           {
            "error_x": {
             "color": "#2a3f5f"
            },
            "error_y": {
             "color": "#2a3f5f"
            },
            "marker": {
             "line": {
              "color": "#E5ECF6",
              "width": 0.5
             },
             "pattern": {
              "fillmode": "overlay",
              "size": 10,
              "solidity": 0.2
             }
            },
            "type": "bar"
           }
          ],
          "barpolar": [
           {
            "marker": {
             "line": {
              "color": "#E5ECF6",
              "width": 0.5
             },
             "pattern": {
              "fillmode": "overlay",
              "size": 10,
              "solidity": 0.2
             }
            },
            "type": "barpolar"
           }
          ],
          "carpet": [
           {
            "aaxis": {
             "endlinecolor": "#2a3f5f",
             "gridcolor": "white",
             "linecolor": "white",
             "minorgridcolor": "white",
             "startlinecolor": "#2a3f5f"
            },
            "baxis": {
             "endlinecolor": "#2a3f5f",
             "gridcolor": "white",
             "linecolor": "white",
             "minorgridcolor": "white",
             "startlinecolor": "#2a3f5f"
            },
            "type": "carpet"
           }
          ],
          "choropleth": [
           {
            "colorbar": {
             "outlinewidth": 0,
             "ticks": ""
            },
            "type": "choropleth"
           }
          ],
          "contour": [
           {
            "colorbar": {
             "outlinewidth": 0,
             "ticks": ""
            },
            "colorscale": [
             [
              0,
              "#0d0887"
             ],
             [
              0.1111111111111111,
              "#46039f"
             ],
             [
              0.2222222222222222,
              "#7201a8"
             ],
             [
              0.3333333333333333,
              "#9c179e"
             ],
             [
              0.4444444444444444,
              "#bd3786"
             ],
             [
              0.5555555555555556,
              "#d8576b"
             ],
             [
              0.6666666666666666,
              "#ed7953"
             ],
             [
              0.7777777777777778,
              "#fb9f3a"
             ],
             [
              0.8888888888888888,
              "#fdca26"
             ],
             [
              1,
              "#f0f921"
             ]
            ],
            "type": "contour"
           }
          ],
          "contourcarpet": [
           {
            "colorbar": {
             "outlinewidth": 0,
             "ticks": ""
            },
            "type": "contourcarpet"
           }
          ],
          "heatmap": [
           {
            "colorbar": {
             "outlinewidth": 0,
             "ticks": ""
            },
            "colorscale": [
             [
              0,
              "#0d0887"
             ],
             [
              0.1111111111111111,
              "#46039f"
             ],
             [
              0.2222222222222222,
              "#7201a8"
             ],
             [
              0.3333333333333333,
              "#9c179e"
             ],
             [
              0.4444444444444444,
              "#bd3786"
             ],
             [
              0.5555555555555556,
              "#d8576b"
             ],
             [
              0.6666666666666666,
              "#ed7953"
             ],
             [
              0.7777777777777778,
              "#fb9f3a"
             ],
             [
              0.8888888888888888,
              "#fdca26"
             ],
             [
              1,
              "#f0f921"
             ]
            ],
            "type": "heatmap"
           }
          ],
          "heatmapgl": [
           {
            "colorbar": {
             "outlinewidth": 0,
             "ticks": ""
            },
            "colorscale": [
             [
              0,
              "#0d0887"
             ],
             [
              0.1111111111111111,
              "#46039f"
             ],
             [
              0.2222222222222222,
              "#7201a8"
             ],
             [
              0.3333333333333333,
              "#9c179e"
             ],
             [
              0.4444444444444444,
              "#bd3786"
             ],
             [
              0.5555555555555556,
              "#d8576b"
             ],
             [
              0.6666666666666666,
              "#ed7953"
             ],
             [
              0.7777777777777778,
              "#fb9f3a"
             ],
             [
              0.8888888888888888,
              "#fdca26"
             ],
             [
              1,
              "#f0f921"
             ]
            ],
            "type": "heatmapgl"
           }
          ],
          "histogram": [
           {
            "marker": {
             "pattern": {
              "fillmode": "overlay",
              "size": 10,
              "solidity": 0.2
             }
            },
            "type": "histogram"
           }
          ],
          "histogram2d": [
           {
            "colorbar": {
             "outlinewidth": 0,
             "ticks": ""
            },
            "colorscale": [
             [
              0,
              "#0d0887"
             ],
             [
              0.1111111111111111,
              "#46039f"
             ],
             [
              0.2222222222222222,
              "#7201a8"
             ],
             [
              0.3333333333333333,
              "#9c179e"
             ],
             [
              0.4444444444444444,
              "#bd3786"
             ],
             [
              0.5555555555555556,
              "#d8576b"
             ],
             [
              0.6666666666666666,
              "#ed7953"
             ],
             [
              0.7777777777777778,
              "#fb9f3a"
             ],
             [
              0.8888888888888888,
              "#fdca26"
             ],
             [
              1,
              "#f0f921"
             ]
            ],
            "type": "histogram2d"
           }
          ],
          "histogram2dcontour": [
           {
            "colorbar": {
             "outlinewidth": 0,
             "ticks": ""
            },
            "colorscale": [
             [
              0,
              "#0d0887"
             ],
             [
              0.1111111111111111,
              "#46039f"
             ],
             [
              0.2222222222222222,
              "#7201a8"
             ],
             [
              0.3333333333333333,
              "#9c179e"
             ],
             [
              0.4444444444444444,
              "#bd3786"
             ],
             [
              0.5555555555555556,
              "#d8576b"
             ],
             [
              0.6666666666666666,
              "#ed7953"
             ],
             [
              0.7777777777777778,
              "#fb9f3a"
             ],
             [
              0.8888888888888888,
              "#fdca26"
             ],
             [
              1,
              "#f0f921"
             ]
            ],
            "type": "histogram2dcontour"
           }
          ],
          "mesh3d": [
           {
            "colorbar": {
             "outlinewidth": 0,
             "ticks": ""
            },
            "type": "mesh3d"
           }
          ],
          "parcoords": [
           {
            "line": {
             "colorbar": {
              "outlinewidth": 0,
              "ticks": ""
             }
            },
            "type": "parcoords"
           }
          ],
          "pie": [
           {
            "automargin": true,
            "type": "pie"
           }
          ],
          "scatter": [
           {
            "fillpattern": {
             "fillmode": "overlay",
             "size": 10,
             "solidity": 0.2
            },
            "type": "scatter"
           }
          ],
          "scatter3d": [
           {
            "line": {
             "colorbar": {
              "outlinewidth": 0,
              "ticks": ""
             }
            },
            "marker": {
             "colorbar": {
              "outlinewidth": 0,
              "ticks": ""
             }
            },
            "type": "scatter3d"
           }
          ],
          "scattercarpet": [
           {
            "marker": {
             "colorbar": {
              "outlinewidth": 0,
              "ticks": ""
             }
            },
            "type": "scattercarpet"
           }
          ],
          "scattergeo": [
           {
            "marker": {
             "colorbar": {
              "outlinewidth": 0,
              "ticks": ""
             }
            },
            "type": "scattergeo"
           }
          ],
          "scattergl": [
           {
            "marker": {
             "colorbar": {
              "outlinewidth": 0,
              "ticks": ""
             }
            },
            "type": "scattergl"
           }
          ],
          "scattermapbox": [
           {
            "marker": {
             "colorbar": {
              "outlinewidth": 0,
              "ticks": ""
             }
            },
            "type": "scattermapbox"
           }
          ],
          "scatterpolar": [
           {
            "marker": {
             "colorbar": {
              "outlinewidth": 0,
              "ticks": ""
             }
            },
            "type": "scatterpolar"
           }
          ],
          "scatterpolargl": [
           {
            "marker": {
             "colorbar": {
              "outlinewidth": 0,
              "ticks": ""
             }
            },
            "type": "scatterpolargl"
           }
          ],
          "scatterternary": [
           {
            "marker": {
             "colorbar": {
              "outlinewidth": 0,
              "ticks": ""
             }
            },
            "type": "scatterternary"
           }
          ],
          "surface": [
           {
            "colorbar": {
             "outlinewidth": 0,
             "ticks": ""
            },
            "colorscale": [
             [
              0,
              "#0d0887"
             ],
             [
              0.1111111111111111,
              "#46039f"
             ],
             [
              0.2222222222222222,
              "#7201a8"
             ],
             [
              0.3333333333333333,
              "#9c179e"
             ],
             [
              0.4444444444444444,
              "#bd3786"
             ],
             [
              0.5555555555555556,
              "#d8576b"
             ],
             [
              0.6666666666666666,
              "#ed7953"
             ],
             [
              0.7777777777777778,
              "#fb9f3a"
             ],
             [
              0.8888888888888888,
              "#fdca26"
             ],
             [
              1,
              "#f0f921"
             ]
            ],
            "type": "surface"
           }
          ],
          "table": [
           {
            "cells": {
             "fill": {
              "color": "#EBF0F8"
             },
             "line": {
              "color": "white"
             }
            },
            "header": {
             "fill": {
              "color": "#C8D4E3"
             },
             "line": {
              "color": "white"
             }
            },
            "type": "table"
           }
          ]
         },
         "layout": {
          "annotationdefaults": {
           "arrowcolor": "#2a3f5f",
           "arrowhead": 0,
           "arrowwidth": 1
          },
          "autotypenumbers": "strict",
          "coloraxis": {
           "colorbar": {
            "outlinewidth": 0,
            "ticks": ""
           }
          },
          "colorscale": {
           "diverging": [
            [
             0,
             "#8e0152"
            ],
            [
             0.1,
             "#c51b7d"
            ],
            [
             0.2,
             "#de77ae"
            ],
            [
             0.3,
             "#f1b6da"
            ],
            [
             0.4,
             "#fde0ef"
            ],
            [
             0.5,
             "#f7f7f7"
            ],
            [
             0.6,
             "#e6f5d0"
            ],
            [
             0.7,
             "#b8e186"
            ],
            [
             0.8,
             "#7fbc41"
            ],
            [
             0.9,
             "#4d9221"
            ],
            [
             1,
             "#276419"
            ]
           ],
           "sequential": [
            [
             0,
             "#0d0887"
            ],
            [
             0.1111111111111111,
             "#46039f"
            ],
            [
             0.2222222222222222,
             "#7201a8"
            ],
            [
             0.3333333333333333,
             "#9c179e"
            ],
            [
             0.4444444444444444,
             "#bd3786"
            ],
            [
             0.5555555555555556,
             "#d8576b"
            ],
            [
             0.6666666666666666,
             "#ed7953"
            ],
            [
             0.7777777777777778,
             "#fb9f3a"
            ],
            [
             0.8888888888888888,
             "#fdca26"
            ],
            [
             1,
             "#f0f921"
            ]
           ],
           "sequentialminus": [
            [
             0,
             "#0d0887"
            ],
            [
             0.1111111111111111,
             "#46039f"
            ],
            [
             0.2222222222222222,
             "#7201a8"
            ],
            [
             0.3333333333333333,
             "#9c179e"
            ],
            [
             0.4444444444444444,
             "#bd3786"
            ],
            [
             0.5555555555555556,
             "#d8576b"
            ],
            [
             0.6666666666666666,
             "#ed7953"
            ],
            [
             0.7777777777777778,
             "#fb9f3a"
            ],
            [
             0.8888888888888888,
             "#fdca26"
            ],
            [
             1,
             "#f0f921"
            ]
           ]
          },
          "colorway": [
           "#636efa",
           "#EF553B",
           "#00cc96",
           "#ab63fa",
           "#FFA15A",
           "#19d3f3",
           "#FF6692",
           "#B6E880",
           "#FF97FF",
           "#FECB52"
          ],
          "font": {
           "color": "#2a3f5f"
          },
          "geo": {
           "bgcolor": "white",
           "lakecolor": "white",
           "landcolor": "#E5ECF6",
           "showlakes": true,
           "showland": true,
           "subunitcolor": "white"
          },
          "hoverlabel": {
           "align": "left"
          },
          "hovermode": "closest",
          "mapbox": {
           "style": "light"
          },
          "paper_bgcolor": "white",
          "plot_bgcolor": "#E5ECF6",
          "polar": {
           "angularaxis": {
            "gridcolor": "white",
            "linecolor": "white",
            "ticks": ""
           },
           "bgcolor": "#E5ECF6",
           "radialaxis": {
            "gridcolor": "white",
            "linecolor": "white",
            "ticks": ""
           }
          },
          "scene": {
           "xaxis": {
            "backgroundcolor": "#E5ECF6",
            "gridcolor": "white",
            "gridwidth": 2,
            "linecolor": "white",
            "showbackground": true,
            "ticks": "",
            "zerolinecolor": "white"
           },
           "yaxis": {
            "backgroundcolor": "#E5ECF6",
            "gridcolor": "white",
            "gridwidth": 2,
            "linecolor": "white",
            "showbackground": true,
            "ticks": "",
            "zerolinecolor": "white"
           },
           "zaxis": {
            "backgroundcolor": "#E5ECF6",
            "gridcolor": "white",
            "gridwidth": 2,
            "linecolor": "white",
            "showbackground": true,
            "ticks": "",
            "zerolinecolor": "white"
           }
          },
          "shapedefaults": {
           "line": {
            "color": "#2a3f5f"
           }
          },
          "ternary": {
           "aaxis": {
            "gridcolor": "white",
            "linecolor": "white",
            "ticks": ""
           },
           "baxis": {
            "gridcolor": "white",
            "linecolor": "white",
            "ticks": ""
           },
           "bgcolor": "#E5ECF6",
           "caxis": {
            "gridcolor": "white",
            "linecolor": "white",
            "ticks": ""
           }
          },
          "title": {
           "x": 0.05
          },
          "xaxis": {
           "automargin": true,
           "gridcolor": "white",
           "linecolor": "white",
           "ticks": "",
           "title": {
            "standoff": 15
           },
           "zerolinecolor": "white",
           "zerolinewidth": 2
          },
          "yaxis": {
           "automargin": true,
           "gridcolor": "white",
           "linecolor": "white",
           "ticks": "",
           "title": {
            "standoff": 15
           },
           "zerolinecolor": "white",
           "zerolinewidth": 2
          }
         }
        },
        "title": {
         "text": "Department vs Monthly Income by Attrition"
        },
        "violinmode": "group",
        "xaxis": {
         "anchor": "y",
         "domain": [
          0,
          1
         ],
         "title": {
          "text": "Department"
         }
        },
        "yaxis": {
         "anchor": "x",
         "domain": [
          0,
          1
         ],
         "title": {
          "text": "Monthly_Income"
         }
        }
       }
      }
     },
     "metadata": {},
     "output_type": "display_data"
    }
   ],
   "source": [
    "# Overtime vs Job Satisfaction\n",
    "fig = px.box(df, x='Overtime', y='Job_Satisfaction', color='Attrition', title='Overtime vs Job Satisfaction by Attrition')\n",
    "fig.show()\n",
    "\n",
    "# Department vs Monthly Income\n",
    "fig = px.violin(df, x='Department', y='Monthly_Income', color='Attrition', box=True, points='all', title='Department vs Monthly Income by Attrition')\n",
    "fig.show()"
   ]
  },
  {
   "cell_type": "code",
   "execution_count": 16,
   "id": "083c9e92",
   "metadata": {},
   "outputs": [
    {
     "name": "stdout",
     "output_type": "stream",
     "text": [
      "<class 'pandas.core.frame.DataFrame'>\n",
      "RangeIndex: 1000 entries, 0 to 999\n",
      "Data columns (total 26 columns):\n",
      " #   Column                         Non-Null Count  Dtype  \n",
      "---  ------                         --------------  -----  \n",
      " 0   Employee_ID                    1000 non-null   int64  \n",
      " 1   Age                            1000 non-null   int64  \n",
      " 2   Gender                         1000 non-null   object \n",
      " 3   Marital_Status                 1000 non-null   object \n",
      " 4   Department                     1000 non-null   object \n",
      " 5   Job_Role                       1000 non-null   object \n",
      " 6   Job_Level                      1000 non-null   float64\n",
      " 7   Monthly_Income                 1000 non-null   int64  \n",
      " 8   Hourly_Rate                    1000 non-null   float64\n",
      " 9   Years_at_Company               1000 non-null   int64  \n",
      " 10  Years_in_Current_Role          1000 non-null   int64  \n",
      " 11  Years_Since_Last_Promotion     1000 non-null   int64  \n",
      " 12  Work_Life_Balance              1000 non-null   int64  \n",
      " 13  Job_Satisfaction               1000 non-null   int64  \n",
      " 14  Performance_Rating             1000 non-null   int64  \n",
      " 15  Training_Hours_Last_Year       1000 non-null   int64  \n",
      " 16  Overtime                       1000 non-null   object \n",
      " 17  Project_Count                  1000 non-null   int64  \n",
      " 18  Average_Hours_Worked_Per_Week  1000 non-null   int64  \n",
      " 19  Absenteeism                    1000 non-null   int64  \n",
      " 20  Work_Environment_Satisfaction  1000 non-null   int64  \n",
      " 21  Relationship_with_Manager      1000 non-null   int64  \n",
      " 22  Job_Involvement                1000 non-null   int64  \n",
      " 23  Distance_From_Home             1000 non-null   int64  \n",
      " 24  Number_of_Companies_Worked     1000 non-null   int64  \n",
      " 25  Attrition                      1000 non-null   object \n",
      "dtypes: float64(2), int64(18), object(6)\n",
      "memory usage: 203.3+ KB\n"
     ]
    }
   ],
   "source": [
    "df.info()"
   ]
  },
  {
   "cell_type": "code",
   "execution_count": null,
   "id": "ee825b84",
   "metadata": {},
   "outputs": [],
   "source": [
    "\n",
    "# Select all categorical columns (object or category type)\n",
    "categorical_col = df.select_dtypes(include=['object', 'category']).columns\n",
    "\n",
    "# Initialize label encoder\n",
    "label_encoder = LabelEncoder()\n",
    "\n",
    "# Encode each categorical column into numeric labels\n",
    "for col in categorical_col:\n",
    "    df[col] = label_encoder.fit_transform(df[col])"
   ]
  },
  {
   "cell_type": "code",
   "execution_count": 18,
   "id": "7a34c3e1",
   "metadata": {},
   "outputs": [],
   "source": [
    "# Select all columns with float data type\n",
    "float_cols = df.select_dtypes(include='float').columns"
   ]
  },
  {
   "cell_type": "code",
   "execution_count": 19,
   "id": "20e49717",
   "metadata": {},
   "outputs": [],
   "source": [
    "# Convert all float-type columns to integer type\n",
    "for col in float_cols:\n",
    "    df[col] = df[col].astype(int)\n"
   ]
  },
  {
   "cell_type": "code",
   "execution_count": 21,
   "id": "d61e078d",
   "metadata": {},
   "outputs": [
    {
     "name": "stdout",
     "output_type": "stream",
     "text": [
      "<class 'pandas.core.frame.DataFrame'>\n",
      "RangeIndex: 1000 entries, 0 to 999\n",
      "Data columns (total 26 columns):\n",
      " #   Column                         Non-Null Count  Dtype\n",
      "---  ------                         --------------  -----\n",
      " 0   Employee_ID                    1000 non-null   int64\n",
      " 1   Age                            1000 non-null   int64\n",
      " 2   Gender                         1000 non-null   int64\n",
      " 3   Marital_Status                 1000 non-null   int64\n",
      " 4   Department                     1000 non-null   int64\n",
      " 5   Job_Role                       1000 non-null   int64\n",
      " 6   Job_Level                      1000 non-null   int64\n",
      " 7   Monthly_Income                 1000 non-null   int64\n",
      " 8   Hourly_Rate                    1000 non-null   int64\n",
      " 9   Years_at_Company               1000 non-null   int64\n",
      " 10  Years_in_Current_Role          1000 non-null   int64\n",
      " 11  Years_Since_Last_Promotion     1000 non-null   int64\n",
      " 12  Work_Life_Balance              1000 non-null   int64\n",
      " 13  Job_Satisfaction               1000 non-null   int64\n",
      " 14  Performance_Rating             1000 non-null   int64\n",
      " 15  Training_Hours_Last_Year       1000 non-null   int64\n",
      " 16  Overtime                       1000 non-null   int64\n",
      " 17  Project_Count                  1000 non-null   int64\n",
      " 18  Average_Hours_Worked_Per_Week  1000 non-null   int64\n",
      " 19  Absenteeism                    1000 non-null   int64\n",
      " 20  Work_Environment_Satisfaction  1000 non-null   int64\n",
      " 21  Relationship_with_Manager      1000 non-null   int64\n",
      " 22  Job_Involvement                1000 non-null   int64\n",
      " 23  Distance_From_Home             1000 non-null   int64\n",
      " 24  Number_of_Companies_Worked     1000 non-null   int64\n",
      " 25  Attrition                      1000 non-null   int64\n",
      "dtypes: int64(26)\n",
      "memory usage: 203.3 KB\n"
     ]
    }
   ],
   "source": [
    "df.info()"
   ]
  },
  {
   "cell_type": "markdown",
   "id": "0e138b13",
   "metadata": {},
   "source": [
    "# Split the Data"
   ]
  },
  {
   "cell_type": "code",
   "execution_count": null,
   "id": "605d5d8a",
   "metadata": {},
   "outputs": [],
   "source": [
    "# Define features and target\n",
    "X = df.drop(['Attrition','Employee_ID'], axis=1)\n",
    "y = df['Attrition']"
   ]
  },
  {
   "cell_type": "markdown",
   "id": "d85f8028",
   "metadata": {},
   "source": [
    "# Train-test split ga ajratib olish"
   ]
  },
  {
   "cell_type": "code",
   "execution_count": null,
   "metadata": {},
   "outputs": [],
   "source": [
    "#  Train/Test Split\n",
    "X_train, X_test, y_train, y_test = train_test_split(\n",
    "    X, y, test_size=0.2, random_state=42, stratify=y\n",
    ")\n"
   ]
  },
  {
   "cell_type": "code",
   "execution_count": 25,
   "id": "63961e64",
   "metadata": {},
   "outputs": [],
   "source": [
    "# Save splits\n",
    "X_train.to_csv(\"X_train.csv\", index=False)\n",
    "X_test.to_csv(\"X_test.csv\", index=False)\n",
    "y_train.to_csv(\"y_train.csv\", index=False)\n",
    "y_test.to_csv(\"y_test.csv\", index=False)"
   ]
  },
  {
   "cell_type": "code",
   "execution_count": null,
   "id": "69730b66",
   "metadata": {},
   "outputs": [
    {
     "name": "stderr",
     "output_type": "stream",
     "text": [
      "c:\\Users\\user\\AppData\\Local\\Programs\\Python\\Python313\\Lib\\site-packages\\sklearn\\linear_model\\_logistic.py:469: ConvergenceWarning:\n",
      "\n",
      "lbfgs failed to converge (status=1):\n",
      "STOP: TOTAL NO. of ITERATIONS REACHED LIMIT.\n",
      "\n",
      "Increase the number of iterations (max_iter) or scale the data as shown in:\n",
      "    https://scikit-learn.org/stable/modules/preprocessing.html\n",
      "Please also refer to the documentation for alternative solver options:\n",
      "    https://scikit-learn.org/stable/modules/linear_model.html#logistic-regression\n",
      "\n",
      "c:\\Users\\user\\AppData\\Local\\Programs\\Python\\Python313\\Lib\\site-packages\\sklearn\\metrics\\_classification.py:1531: UndefinedMetricWarning:\n",
      "\n",
      "Precision is ill-defined and being set to 0.0 due to no predicted samples. Use `zero_division` parameter to control this behavior.\n",
      "\n",
      "c:\\Users\\user\\AppData\\Local\\Programs\\Python\\Python313\\Lib\\site-packages\\sklearn\\metrics\\_classification.py:1531: UndefinedMetricWarning:\n",
      "\n",
      "Precision is ill-defined and being set to 0.0 due to no predicted samples. Use `zero_division` parameter to control this behavior.\n",
      "\n",
      "c:\\Users\\user\\AppData\\Local\\Programs\\Python\\Python313\\Lib\\site-packages\\xgboost\\core.py:158: UserWarning:\n",
      "\n",
      "[15:54:46] WARNING: C:\\buildkite-agent\\builds\\buildkite-windows-cpu-autoscaling-group-i-0c55ff5f71b100e98-1\\xgboost\\xgboost-ci-windows\\src\\learner.cc:740: \n",
      "Parameters: { \"use_label_encoder\" } are not used.\n",
      "\n",
      "\n"
     ]
    },
    {
     "name": "stdout",
     "output_type": "stream",
     "text": [
      "                 Model  Accuracy  Precision    Recall  F1 Score   ROC AUC\n",
      "0  Logistic Regression     0.810   0.000000  0.000000  0.000000  0.440221\n",
      "1        Decision Tree     0.715   0.327273  0.473684  0.387097  0.622645\n",
      "2        Random Forest     0.810   0.000000  0.000000  0.000000  0.399204\n",
      "3              XGBoost     0.800   0.250000  0.026316  0.047619  0.464750\n"
     ]
    }
   ],
   "source": [
    "# Baseline Model Training & Evaluation\n",
    "models = {\n",
    "    \"Logistic Regression\": LogisticRegression(max_iter=1000),\n",
    "    \"Decision Tree\": DecisionTreeClassifier(random_state=42),\n",
    "    \"Random Forest\": RandomForestClassifier(random_state=42, n_estimators=100),\n",
    "    \"XGBoost\": xgb.XGBClassifier(eval_metric='logloss', use_label_encoder=False, random_state=42)\n",
    "}\n",
    "\n",
    "baseline_results = []\n",
    "\n",
    "for name, model in models.items():\n",
    "    model.fit(X_train, y_train)\n",
    "    y_pred = model.predict(X_test)\n",
    "    y_proba = model.predict_proba(X_test)[:,1]\n",
    "    \n",
    "    baseline_results.append({\n",
    "        \"Model\": name,\n",
    "        \"Accuracy\": accuracy_score(y_test, y_pred),\n",
    "        \"Precision\": precision_score(y_test, y_pred),\n",
    "        \"Recall\": recall_score(y_test, y_pred),\n",
    "        \"F1 Score\": f1_score(y_test, y_pred),\n",
    "        \"ROC AUC\": roc_auc_score(y_test, y_proba)\n",
    "    })\n",
    "\n",
    "baseline_df = pd.DataFrame(baseline_results)\n",
    "baseline_df.to_csv(\"baseline_model_results.csv\", index=False)\n",
    "print(baseline_df)"
   ]
  },
  {
   "cell_type": "code",
   "execution_count": 27,
   "id": "f4619e11",
   "metadata": {},
   "outputs": [],
   "source": [
    "# Save baseline models\n",
    "for name, model in models.items():\n",
    "    with open(f\"{name.replace(' ','_').lower()}_baseline.pkl\", \"wb\") as f:\n",
    "        pickle.dump(model, f)"
   ]
  },
  {
   "cell_type": "markdown",
   "id": "8f2bc3e4",
   "metadata": {},
   "source": [
    "# Feature Engineering"
   ]
  },
  {
   "cell_type": "code",
   "execution_count": null,
   "id": "67b76f2f",
   "metadata": {},
   "outputs": [],
   "source": [
    "# engineered features\n",
    "X_train['Years_at_Company_Age_Ratio'] = X_train['Years_at_Company'] / X_train['Age']\n",
    "X_train['Overtime_Job_Satisfaction'] = X_train['Overtime'] * X_train['Job_Satisfaction']\n",
    "X_train['Role_Loyalty'] = X_train['Years_in_Current_Role'] / (X_train['Years_at_Company'] + 0.01)\n",
    "X_train['Income_Level_Ratio'] = X_train['Monthly_Income'] / (X_train['Job_Level'] + 0.01)"
   ]
  },
  {
   "cell_type": "code",
   "execution_count": null,
   "id": "d6cecc86",
   "metadata": {},
   "outputs": [],
   "source": [
    "# engineered features\n",
    "X_test['Years_at_Company_Age_Ratio'] = X_test['Years_at_Company'] / X_test['Age']\n",
    "X_test['Overtime_Job_Satisfaction'] = X_test['Overtime'] * X_test['Job_Satisfaction']\n",
    "X_test['Role_Loyalty'] = X_test['Years_in_Current_Role'] / (X_test['Years_at_Company'] + 0.01)\n",
    "X_test['Income_Level_Ratio'] = X_test['Monthly_Income'] / (X_test['Job_Level'] + 0.01)"
   ]
  },
  {
   "cell_type": "code",
   "execution_count": 30,
   "metadata": {},
   "outputs": [],
   "source": [
    "# Save feature-engineered datasets\n",
    "X_train.to_csv(\"X_train_feature_engineered.csv\", index=False)\n",
    "X_test.to_csv(\"X_test_feature_engineered.csv\", index=False)"
   ]
  },
  {
   "cell_type": "markdown",
   "id": "9f9dbb24",
   "metadata": {},
   "source": [
    "# Scaling"
   ]
  },
  {
   "cell_type": "code",
   "execution_count": 31,
   "metadata": {},
   "outputs": [],
   "source": [
    "scaler = StandardScaler()\n",
    "X_train_scaled = scaler.fit_transform(X_train)\n",
    "X_test_scaled = scaler.transform(X_test)"
   ]
  },
  {
   "cell_type": "code",
   "execution_count": 32,
   "metadata": {},
   "outputs": [],
   "source": [
    "# Save scaler\n",
    "with open(\"scaler.pkl\", \"wb\") as f:\n",
    "    pickle.dump(scaler, f)"
   ]
  },
  {
   "cell_type": "code",
   "execution_count": 34,
   "id": "75dd007d",
   "metadata": {},
   "outputs": [],
   "source": [
    "from sklearn.impute import SimpleImputer\n",
    "\n",
    "imputer = SimpleImputer(strategy=\"median\")\n",
    "X_imputed = imputer.fit_transform(X)"
   ]
  },
  {
   "cell_type": "markdown",
   "id": "23f6a669",
   "metadata": {},
   "source": [
    "# Hyperparameter Tuning"
   ]
  },
  {
   "cell_type": "code",
   "execution_count": null,
   "id": "f95103de",
   "metadata": {},
   "outputs": [],
   "source": [
    "#  Define parameter grids\n",
    "param_grid_lr = {\n",
    "    'C': [0.01, 0.1, 1, 10],\n",
    "    'solver': ['liblinear', 'lbfgs']\n",
    "}\n",
    "\n",
    "param_grid_dt = {\n",
    "    'max_depth': [3, 5, 10, None],\n",
    "    'min_samples_split': [2, 5, 10],\n",
    "    'criterion': ['gini', 'entropy']\n",
    "}\n",
    "\n",
    "param_grid_rf = {\n",
    "    'n_estimators': [100, 200],\n",
    "    'max_depth': [3, 5, None],\n",
    "    'min_samples_split': [2, 5]\n",
    "}\n",
    "\n",
    "param_grid_xgb = {\n",
    "    'n_estimators': [100, 200],\n",
    "    'learning_rate': [0.01, 0.1],\n",
    "    'max_depth': [3, 5]\n",
    "}"
   ]
  },
  {
   "cell_type": "code",
   "execution_count": null,
   "id": "90002cd3",
   "metadata": {},
   "outputs": [],
   "source": [
    "# Define models\n",
    "models = {\n",
    "    \"Logistic Regression\": LogisticRegression(max_iter=1000, random_state=42),\n",
    "    \"Decision Tree\": DecisionTreeClassifier(random_state=42),\n",
    "    \"Random Forest\": RandomForestClassifier(random_state=42),\n",
    "    \"XGBoost\": xgb.XGBClassifier(use_label_encoder=False, eval_metric='logloss', random_state=42)\n",
    "}\n",
    "\n",
    "param_grids = {\n",
    "    \"Logistic Regression\": param_grid_lr,\n",
    "    \"Decision Tree\": param_grid_dt,\n",
    "    \"Random Forest\": param_grid_rf,\n",
    "    \"XGBoost\": param_grid_xgb\n",
    "}\n"
   ]
  },
  {
   "cell_type": "code",
   "execution_count": null,
   "id": "3c413d8b",
   "metadata": {},
   "outputs": [
    {
     "name": "stdout",
     "output_type": "stream",
     "text": [
      "--- Tuning Logistic Regression ---\n",
      "Best params for Logistic Regression: {'C': 0.01, 'solver': 'liblinear'}\n",
      "--- Tuning Decision Tree ---\n",
      "Best params for Decision Tree: {'criterion': 'gini', 'max_depth': None, 'min_samples_split': 2}\n",
      "--- Tuning Random Forest ---\n",
      "Best params for Random Forest: {'max_depth': 3, 'min_samples_split': 2, 'n_estimators': 100}\n",
      "--- Tuning XGBoost ---\n"
     ]
    },
    {
     "name": "stderr",
     "output_type": "stream",
     "text": [
      "c:\\Users\\user\\AppData\\Local\\Programs\\Python\\Python313\\Lib\\site-packages\\xgboost\\core.py:158: UserWarning:\n",
      "\n",
      "[16:26:57] WARNING: C:\\buildkite-agent\\builds\\buildkite-windows-cpu-autoscaling-group-i-0c55ff5f71b100e98-1\\xgboost\\xgboost-ci-windows\\src\\learner.cc:740: \n",
      "Parameters: { \"use_label_encoder\" } are not used.\n",
      "\n",
      "\n"
     ]
    },
    {
     "name": "stdout",
     "output_type": "stream",
     "text": [
      "Best params for XGBoost: {'learning_rate': 0.1, 'max_depth': 5, 'n_estimators': 200}\n"
     ]
    }
   ],
   "source": [
    "# Perform GridSearchCV for each model\n",
    "best_models = {}\n",
    "for name in models:\n",
    "    print(f\"--- Tuning {name} ---\")\n",
    "    grid = GridSearchCV(models[name], param_grids[name], cv=5, scoring='f1', n_jobs=-1)\n",
    "    grid.fit(X_train_scaled, y_train)\n",
    "    \n",
    "    print(f\"Best params for {name}: {grid.best_params_}\")\n",
    "    best_models[name] = grid.best_estimator_"
   ]
  },
  {
   "cell_type": "code",
   "execution_count": null,
   "id": "3eee2322",
   "metadata": {},
   "outputs": [],
   "source": [
    "# Result\n",
    "results = []\n",
    "for name, model in best_models.items():\n",
    "    y_pred = model.predict(X_test_scaled)\n",
    "    y_proba = model.predict_proba(X_test_scaled)[:,1]\n",
    "    \n",
    "    results.append({\n",
    "        \"Model\": name,\n",
    "        \"Accuracy\": accuracy_score(y_test, y_pred),\n",
    "        \"Precision\": precision_score(y_test, y_pred, pos_label=1, zero_division=0),\n",
    "        \"Recall\": recall_score(y_test, y_pred, pos_label=1, zero_division=0),\n",
    "        \"F1 Score\": f1_score(y_test, y_pred, pos_label=1, zero_division=0),\n",
    "        \"ROC AUC\": roc_auc_score(y_test, y_proba)\n",
    "    })\n"
   ]
  },
  {
   "cell_type": "code",
   "execution_count": 60,
   "id": "5d6f45c3",
   "metadata": {},
   "outputs": [
    {
     "name": "stdout",
     "output_type": "stream",
     "text": [
      "                 Model  Accuracy  Precision    Recall  F1 Score   ROC AUC\n",
      "0  Logistic Regression     0.810   0.000000  0.000000  0.000000  0.404971\n",
      "1        Decision Tree     0.680   0.229167  0.289474  0.255814  0.530539\n",
      "2        Random Forest     0.810   0.000000  0.000000  0.000000  0.357700\n",
      "3              XGBoost     0.765   0.000000  0.000000  0.000000  0.437135\n"
     ]
    }
   ],
   "source": [
    "results_df = pd.DataFrame(results)\n",
    "results_df.to_csv(\"tuned_models_scores.csv\", index=False)\n",
    "print(results_df)"
   ]
  },
  {
   "cell_type": "code",
   "execution_count": 61,
   "id": "814efcdf",
   "metadata": {},
   "outputs": [
    {
     "name": "stdout",
     "output_type": "stream",
     "text": [
      "✅ Saved Logistic Regression as logistic_regression_final.pkl\n",
      "✅ Saved Decision Tree as decision_tree_final.pkl\n",
      "✅ Saved Random Forest as random_forest_final.pkl\n",
      "✅ Saved XGBoost as xgboost_final.pkl\n"
     ]
    }
   ],
   "source": [
    "# Suppose best_models dictionary has your 4 tuned models\n",
    "for name, model in best_models.items():\n",
    "    file_name = f\"{name.replace(' ','_').lower()}_final.pkl\"\n",
    "    with open(file_name, \"wb\") as f:\n",
    "        pickle.dump(model, f)\n",
    "    print(f\"✅ Saved {name} as {file_name}\")\n"
   ]
  },
  {
   "cell_type": "code",
   "execution_count": null,
   "id": "375b1da9",
   "metadata": {},
   "outputs": [
    {
     "name": "stdout",
     "output_type": "stream",
     "text": [
      "+---------------------+----------+----------+---------+\n",
      "|        Model        | Accuracy | F1-Score | ROC-AUC |\n",
      "+---------------------+----------+----------+---------+\n",
      "|  Baseline Logistic  |   0.78   |   0.72   |   0.8   |\n",
      "| Tuned Logistic + FE |   0.81   |   0.77   |  0.85   |\n",
      "+---------------------+----------+----------+---------+\n"
     ]
    }
   ],
   "source": [
    "from tabulate import tabulate\n",
    "print(tabulate(results_df, headers=\"keys\", tablefmt=\"pretty\", showindex=False))\n"
   ]
  },
  {
   "cell_type": "code",
   "execution_count": 87,
   "id": "cd677a3a",
   "metadata": {},
   "outputs": [
    {
     "data": {
      "text/plain": [
       "['attrition_model.pkl']"
      ]
     },
     "execution_count": 87,
     "metadata": {},
     "output_type": "execute_result"
    }
   ],
   "source": [
    "import joblib\n",
    "\n",
    "# Save your best model (example: Random Forest)\n",
    "joblib.dump(grid.best_estimator_, 'attrition_model.pkl')\n"
   ]
  },
  {
   "cell_type": "code",
   "execution_count": 93,
   "id": "4410c19b",
   "metadata": {},
   "outputs": [
    {
     "name": "stderr",
     "output_type": "stream",
     "text": [
      "2025-08-23 18:27:06.652 Thread 'MainThread': missing ScriptRunContext! This warning can be ignored when running in bare mode.\n",
      "2025-08-23 18:27:06.654 Thread 'MainThread': missing ScriptRunContext! This warning can be ignored when running in bare mode.\n",
      "2025-08-23 18:27:06.656 Thread 'MainThread': missing ScriptRunContext! This warning can be ignored when running in bare mode.\n",
      "2025-08-23 18:27:06.658 Thread 'MainThread': missing ScriptRunContext! This warning can be ignored when running in bare mode.\n",
      "2025-08-23 18:27:06.659 Thread 'MainThread': missing ScriptRunContext! This warning can be ignored when running in bare mode.\n",
      "2025-08-23 18:27:06.661 Thread 'MainThread': missing ScriptRunContext! This warning can be ignored when running in bare mode.\n",
      "2025-08-23 18:27:06.664 Thread 'MainThread': missing ScriptRunContext! This warning can be ignored when running in bare mode.\n",
      "2025-08-23 18:27:06.666 Thread 'MainThread': missing ScriptRunContext! This warning can be ignored when running in bare mode.\n",
      "2025-08-23 18:27:06.668 Thread 'MainThread': missing ScriptRunContext! This warning can be ignored when running in bare mode.\n",
      "2025-08-23 18:27:06.672 Thread 'MainThread': missing ScriptRunContext! This warning can be ignored when running in bare mode.\n",
      "2025-08-23 18:27:06.674 Thread 'MainThread': missing ScriptRunContext! This warning can be ignored when running in bare mode.\n",
      "2025-08-23 18:27:06.676 Thread 'MainThread': missing ScriptRunContext! This warning can be ignored when running in bare mode.\n",
      "2025-08-23 18:27:06.680 Thread 'MainThread': missing ScriptRunContext! This warning can be ignored when running in bare mode.\n",
      "2025-08-23 18:27:06.682 Thread 'MainThread': missing ScriptRunContext! This warning can be ignored when running in bare mode.\n",
      "2025-08-23 18:27:06.683 Thread 'MainThread': missing ScriptRunContext! This warning can be ignored when running in bare mode.\n",
      "2025-08-23 18:27:06.684 Thread 'MainThread': missing ScriptRunContext! This warning can be ignored when running in bare mode.\n",
      "2025-08-23 18:27:06.686 Thread 'MainThread': missing ScriptRunContext! This warning can be ignored when running in bare mode.\n",
      "2025-08-23 18:27:06.687 Thread 'MainThread': missing ScriptRunContext! This warning can be ignored when running in bare mode.\n",
      "2025-08-23 18:27:06.688 Thread 'MainThread': missing ScriptRunContext! This warning can be ignored when running in bare mode.\n",
      "2025-08-23 18:27:06.690 Thread 'MainThread': missing ScriptRunContext! This warning can be ignored when running in bare mode.\n",
      "2025-08-23 18:27:06.691 Thread 'MainThread': missing ScriptRunContext! This warning can be ignored when running in bare mode.\n",
      "2025-08-23 18:27:06.692 Thread 'MainThread': missing ScriptRunContext! This warning can be ignored when running in bare mode.\n",
      "2025-08-23 18:27:06.694 Thread 'MainThread': missing ScriptRunContext! This warning can be ignored when running in bare mode.\n",
      "2025-08-23 18:27:06.695 Thread 'MainThread': missing ScriptRunContext! This warning can be ignored when running in bare mode.\n",
      "2025-08-23 18:27:06.699 Thread 'MainThread': missing ScriptRunContext! This warning can be ignored when running in bare mode.\n",
      "2025-08-23 18:27:06.701 Thread 'MainThread': missing ScriptRunContext! This warning can be ignored when running in bare mode.\n",
      "2025-08-23 18:27:06.702 Thread 'MainThread': missing ScriptRunContext! This warning can be ignored when running in bare mode.\n"
     ]
    }
   ],
   "source": [
    "# file: app_streamlit.py\n",
    "import streamlit as st\n",
    "import joblib\n",
    "import pandas as pd\n",
    "\n",
    "# Load model\n",
    "model = joblib.load('attrition_model.pkl')\n",
    "\n",
    "st.title(\"Employee Attrition Prediction\")\n",
    "\n",
    "# Input form\n",
    "with st.form(\"employee_form\"):\n",
    "    Age = st.number_input(\"Age\", min_value=18, max_value=60, value=35)\n",
    "    Job_Level = st.number_input(\"Job Level\", min_value=1, max_value=5, value=3)\n",
    "    Monthly_Income = st.number_input(\"Monthly Income\", value=5000)\n",
    "    # Add all other features similarly\n",
    "    submit = st.form_submit_button(\"Predict Attrition\")\n",
    "\n",
    "if submit:\n",
    "    # Collect data\n",
    "    data = pd.DataFrame([{\n",
    "        \"Age\": Age,\n",
    "        \"Job_Level\": Job_Level,\n",
    "        \"Monthly_Income\": Monthly_Income,\n",
    "        # Add all other features here\n",
    "    }])\n",
    "    \n",
    "    pred = model.predict(data)[0]\n",
    "    prob = model.predict_proba(data)[0][1]\n",
    "    \n",
    "    st.write(f\"Attrition Prediction: **{pred}**\")\n",
    "    st.write(f\"Attrition Probability: **{prob:.2f}**\")"
   ]
  },
  {
   "cell_type": "code",
   "execution_count": 102,
   "id": "c81f1154",
   "metadata": {},
   "outputs": [
    {
     "name": "stdout",
     "output_type": "stream",
     "text": [
      "Collecting pickleshareNote: you may need to restart the kernel to use updated packages.\n",
      "\n",
      "  Downloading pickleshare-0.7.5-py2.py3-none-any.whl.metadata (1.5 kB)\n",
      "Downloading pickleshare-0.7.5-py2.py3-none-any.whl (6.9 kB)\n",
      "Installing collected packages: pickleshare\n",
      "Successfully installed pickleshare-0.7.5\n"
     ]
    },
    {
     "name": "stderr",
     "output_type": "stream",
     "text": [
      "\n",
      "[notice] A new release of pip is available: 25.0.1 -> 25.2\n",
      "[notice] To update, run: python.exe -m pip install --upgrade pip\n"
     ]
    }
   ],
   "source": [
    "pip install pickleshare\n"
   ]
  },
  {
   "cell_type": "code",
   "execution_count": 103,
   "id": "a2fba182",
   "metadata": {},
   "outputs": [
    {
     "name": "stdout",
     "output_type": "stream",
     "text": [
      "[WinError 2] The system cannot find the file specified: 'path attrition_model.pkl'\n",
      "c:\\Users\\user\\Desktop\\employee_attrition_dataset\n"
     ]
    }
   ],
   "source": [
    "cd path attrition_model.pkl\n"
   ]
  },
  {
   "cell_type": "code",
   "execution_count": null,
   "id": "323e35c5",
   "metadata": {},
   "outputs": [],
   "source": []
  }
 ],
 "metadata": {
  "kernelspec": {
   "display_name": "Python 3",
   "language": "python",
   "name": "python3"
  },
  "language_info": {
   "codemirror_mode": {
    "name": "ipython",
    "version": 3
   },
   "file_extension": ".py",
   "mimetype": "text/x-python",
   "name": "python",
   "nbconvert_exporter": "python",
   "pygments_lexer": "ipython3",
   "version": "3.13.2"
  }
 },
 "nbformat": 4,
 "nbformat_minor": 5
}
